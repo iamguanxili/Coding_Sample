{
 "cells": [
  {
   "cell_type": "markdown",
   "id": "d1cf8ac5",
   "metadata": {},
   "source": [
    "# Chp 2 Sequence"
   ]
  },
  {
   "cell_type": "markdown",
   "id": "bcfc19c8",
   "metadata": {},
   "source": [
    "## Lec3\n",
    "#### 2.0 序列\n",
    "* 序列是一系列连续值（对象），它们通常是相关的，并且按一定顺序排列。\n",
    "* 序列中每个组成部分称为“元素”\n",
    "* 序列结构有列表、元组、字典\\*、字符串、集合\\*以及range等\n",
    "  * 如果元组的元素可变，那么元组也可变\n",
    "\n",
    "#### 2.1 列表\n",
    "  * 列表：可变序列，有序集合\n",
    "  * 列表元素的访问：第一个元素下标为0，第二个元素下标为1，以此类推；最后一个元素下标为-1，倒数第二个元素下标为-2，以此类推\n",
    "  * 列表对象的修改：当为对象修改值时，并不是真的直接修改变量的值，而是使变量指向新的值，这对于列表变量也是一样的"
   ]
  },
  {
   "cell_type": "code",
   "execution_count": 5,
   "id": "c7fe9568",
   "metadata": {},
   "outputs": [
    {
     "name": "stdout",
     "output_type": "stream",
     "text": [
      "[1, 2, 3]\n",
      "1\n",
      "6\n",
      "5\n"
     ]
    }
   ],
   "source": [
    "aList = [[1, 2, 3], [4, 5, 6]]\n",
    "print(aList[0])\n",
    "print(aList[0][0])\n",
    "print(aList[1][2]) #注意“2”是列表中第二个元素（列表）中的第三个元素\n",
    "print(aList[-1][-2])"
   ]
  },
  {
   "cell_type": "markdown",
   "id": "7f0e7c35",
   "metadata": {},
   "source": [
    "* 注意：列表和列表元素是不同的对象；列表中包含的是元素值（对象）的引用，而不是直接包含元素值；列表元素增加或删减，列表会自动进行扩展或收缩内存，保证元素之间没有缝隙"
   ]
  },
  {
   "cell_type": "code",
   "execution_count": 7,
   "id": "eb75841a",
   "metadata": {},
   "outputs": [
    {
     "name": "stdout",
     "output_type": "stream",
     "text": [
      "4579297728\n",
      "4579298176\n",
      "[4, 2, 3]\n"
     ]
    }
   ],
   "source": [
    "a = [1,2,3]\n",
    "print(id(a))\n",
    "a = [1,2]\n",
    "print(id(a)) #列表对象的修改不是直接修改对象，而是让列表元素指向新的值\n",
    "\n",
    "# 通过下标修改对象\n",
    "a = [1, 2, 3]\n",
    "a[0] = 4\n",
    "print(a)"
   ]
  },
  {
   "cell_type": "markdown",
   "id": "339ff8e0",
   "metadata": {},
   "source": [
    "* 注意：通过下标修改序列的值，和通过可变序列自身提供的方法修改序列的值，序列对象在内存中的起始地址不变，仅改变被改变值的元素地址"
   ]
  },
  {
   "cell_type": "markdown",
   "id": "f5d1cfcd",
   "metadata": {},
   "source": [
    "* 列表方法："
   ]
  },
  {
   "cell_type": "code",
   "execution_count": 51,
   "id": "e7a0159a",
   "metadata": {},
   "outputs": [
    {
     "name": "stdout",
     "output_type": "stream",
     "text": [
      "[[1, 2, 3]]\n",
      "[1, 2, 3, []]\n",
      "[1, 2, 3, 4, 5, 6]\n",
      "[1, 4, 2, 3]\n",
      "[1, 2, 2]\n",
      "[1, 3]\n",
      "[]\n",
      "1\n",
      "3\n",
      "[3, 2, 1]\n",
      "['3', '4']\n",
      "[1, 2, 3]\n"
     ]
    }
   ],
   "source": [
    "# 1. list.append(x)\n",
    "a = [1, 2, 3]\n",
    "b = [ ]\n",
    "b.append(a)\n",
    "print(b)\n",
    "\n",
    "x= [1, 2, 3]\n",
    "y = [ ]\n",
    "x.append(y)\n",
    "print(x)\n",
    "\n",
    "# 2. list.extend(L)\n",
    "a = [1, 2, 3]\n",
    "L = [4, 5, 6]\n",
    "a.extend(L)\n",
    "print(a)\n",
    "\n",
    "# 3. list.insert(index, x)\n",
    "a = [1, 2, 3]\n",
    "a.insert(1, 4)\n",
    "print(a)\n",
    "\n",
    "# 4. list.remove()\n",
    "a = [1, 2, 2 ,2]\n",
    "a.remove(2)\n",
    "print(a)\n",
    "\n",
    "# 5. list.pop(index)\n",
    "a = [1, 2, 3]\n",
    "a.pop(1)\n",
    "print(a)\n",
    "\n",
    "# 6. list.clear()\n",
    "a = [1, 2, 3]\n",
    "a.clear()\n",
    "print(a)\n",
    "\n",
    "# 7. list.index(x)\n",
    "a= [1, 2, 3]\n",
    "print(a.index(2))\n",
    "\n",
    "# 8. list.count(x)\n",
    "a = [1, 2, 2, 2]\n",
    "print(a.count(2))\n",
    "\n",
    "# 9. list.reverse()\n",
    "a = [1, 2, 3]\n",
    "a.reverse()\n",
    "print(a)\n",
    "\n",
    "# 10. list.sort()\n",
    "a = ['4', '3']\n",
    "a.sort()\n",
    "print(a)\n",
    "\n",
    "# list.copy() 浅拷贝\n",
    "a = [1, 2, 3]\n",
    "a.copy()\n",
    "print(a)"
   ]
  },
  {
   "cell_type": "markdown",
   "id": "34062481",
   "metadata": {},
   "source": [
    "#### 2.1.1 列表的创建与删除\n",
    "* <b style=\"color: red;\">list()函数将元组、range对象、字符串或其他类型的可迭代对象类型的数据转换为列表</b>"
   ]
  },
  {
   "cell_type": "code",
   "execution_count": 56,
   "id": "69555a3d",
   "metadata": {},
   "outputs": [
    {
     "name": "stdout",
     "output_type": "stream",
     "text": [
      "[1, 3, 5, 7, 9]\n",
      "['H', 'e', 'l', 'l', 'o', ' ', 'W', 'o', 'r', 'l', 'd', '!']\n",
      "[]\n"
     ]
    }
   ],
   "source": [
    "a = list(range(1, 10, 2)) # 一定要有list()\n",
    "print(a)\n",
    "print(list('Hello World!'))\n",
    "\n",
    "a = list() # 创建一个空列表\n",
    "print(a)"
   ]
  },
  {
   "cell_type": "markdown",
   "id": "a7457738",
   "metadata": {},
   "source": [
    "* range( )函数语法：range([start,] stop[, step])起始值、终止值、步长"
   ]
  },
  {
   "cell_type": "code",
   "execution_count": 57,
   "id": "d0f19884",
   "metadata": {},
   "outputs": [
    {
     "name": "stdout",
     "output_type": "stream",
     "text": [
      "[0, 1, 2, 3, 4, 5, 6, 7, 8, 9]\n"
     ]
    }
   ],
   "source": [
    "# range()函数\n",
    "a = list(range(10))\n",
    "print(a)"
   ]
  },
  {
   "cell_type": "markdown",
   "id": "1fadadf5",
   "metadata": {},
   "source": [
    "* 当不再使用时，使用del命令删除整个列表，如果列表对象所指向的值不再有其他对象指向，Python将同时删除该值\n",
    "#### 2.1.2 列表元素的增加\n",
    "* 1、可以使用“+”运算符来实现将元素添加到列表中的功能——实际上是创建一个新列表"
   ]
  },
  {
   "cell_type": "code",
   "execution_count": 64,
   "id": "0051700c",
   "metadata": {},
   "outputs": [
    {
     "name": "stdout",
     "output_type": "stream",
     "text": [
      "[3, 4, 5, 7]\n",
      "New list.\n"
     ]
    }
   ],
   "source": [
    "aList = [3,4,5]\n",
    "aList = aList + [7] # 注意要带[]\n",
    "print(aList) # 思考：如何判定是创建了新列表？\n",
    "\n",
    "# 以下是判定是否创建了新列表的代码\n",
    "aList = [3, 4, 5]\n",
    "original_id = id(aList)\n",
    "aList = aList + [7]\n",
    "new_id = id(aList)\n",
    "if original_id != new_id:\n",
    "    print('New list.')\n",
    "else:\n",
    "    print('Old list.')"
   ]
  },
  {
   "cell_type": "markdown",
   "id": "bdd45f97",
   "metadata": {},
   "source": [
    "* 2、使用列表对象的append()方法，<b style=\"color: red;\">原地修改列表</b>，是真正意义上的在列表尾部添加元素，速度较快，也是推荐使用的方法"
   ]
  },
  {
   "cell_type": "code",
   "execution_count": 66,
   "id": "bef68b98",
   "metadata": {},
   "outputs": [
    {
     "name": "stdout",
     "output_type": "stream",
     "text": [
      "[3, 4, 5, 9]\n",
      "Old list.\n"
     ]
    }
   ],
   "source": [
    "aList = [3,4,5]\n",
    "aList.append(9) # 这里不需要带[]\n",
    "print(aList) # 思考：如何判定是原地修改列表？\n",
    "\n",
    "# 以下是判定是否原地修改列表的代码\n",
    "aList = [3, 4, 5]\n",
    "original_id = id(aList)\n",
    "aList.append(7)\n",
    "new_id = id(aList)\n",
    "if original_id != new_id:\n",
    "    print('New list.')\n",
    "else:\n",
    "    print('Old list.')"
   ]
  },
  {
   "cell_type": "markdown",
   "id": "3b90bc3c",
   "metadata": {},
   "source": [
    "* 3、使用列表对象的extend( )方法可以将另一个迭代对象的所有元素添加至该列表对象尾部。通过extend()方法来增加列表元素也不改变其内存首地址，属于<b style=\"color: red;\">原地操作</b>"
   ]
  },
  {
   "cell_type": "code",
   "execution_count": 69,
   "id": "22437888",
   "metadata": {},
   "outputs": [
    {
     "name": "stdout",
     "output_type": "stream",
     "text": [
      "4666919936\n",
      "[5, 2, 4, 7, 8, 9]\n",
      "4666919936\n"
     ]
    }
   ],
   "source": [
    "a = [5, 2, 4]\n",
    "print(id(a))\n",
    "a.extend([7,8,9])\n",
    "print(a)\n",
    "print(id(a))"
   ]
  },
  {
   "cell_type": "markdown",
   "id": "896f0db6",
   "metadata": {},
   "source": [
    "* 4、使用列表对象的insert()方法将元素添加至列表的指定位置，属于<b style=\"color: red;\">原地操作</b>\n",
    "  * 语法：L.insert(index, object) -- insert object before index\n",
    "  * <b style=\"color: red;\">涉及到插入位置之后所有元素的移动，这会影响处理速度</b>\n",
    "  * 列表删除方法remove()和pop()弹出非尾部元素时，也有类似问题\n",
    "  * <b style=\"color: red;\">优先考虑append( )和pop( )</b>"
   ]
  },
  {
   "cell_type": "code",
   "execution_count": 72,
   "id": "3e41f871",
   "metadata": {},
   "outputs": [
    {
     "name": "stdout",
     "output_type": "stream",
     "text": [
      "4666511872\n",
      "4666511872\n",
      "[3, 4, 5, 6, 7, 9]\n"
     ]
    }
   ],
   "source": [
    "aList  = [3, 4, 5, 7, 9]\n",
    "print(id(aList))\n",
    "aList.insert(3,6)\n",
    "print(id(aList))\n",
    "print(aList)"
   ]
  },
  {
   "cell_type": "markdown",
   "id": "e0306762",
   "metadata": {},
   "source": [
    "* 5、使用乘法来扩展列表对象，将列表与整数相乘，生成一个新列表，新列表是原列表中元素的重复\n",
    "  * <b style=\"color: red;\">新建操作</b>\n",
    "  * \\*运算符还可以用来创建多维数组，但需要注意的是通过乘法复制并不创建元素值的复制，而是创建已有元素对象的引用复制。因此，当修改其中一个值时，相应的引用也会被修改"
   ]
  },
  {
   "cell_type": "code",
   "execution_count": 77,
   "id": "835acb1f",
   "metadata": {},
   "outputs": [
    {
     "name": "stdout",
     "output_type": "stream",
     "text": [
      "[[1, 2, 3], [1, 2, 3], [1, 2, 3]]\n",
      "[[10, 2, 3], [10, 2, 3], [10, 2, 3]]\n"
     ]
    }
   ],
   "source": [
    "aList = [[1, 2, 3]]\n",
    "aList = aList*3\n",
    "print(aList)\n",
    "aList[0][0] = 10 # 第四行表示列表中的元素依旧是列表\n",
    "print(aList)"
   ]
  },
  {
   "cell_type": "code",
   "execution_count": 79,
   "id": "a935b0df",
   "metadata": {},
   "outputs": [
    {
     "name": "stdout",
     "output_type": "stream",
     "text": [
      "[[5, None], [5, None], [5, None]]\n"
     ]
    }
   ],
   "source": [
    "x = [[None]*2]*3\n",
    "x[0][0] = 5\n",
    "print(x)"
   ]
  },
  {
   "cell_type": "markdown",
   "id": "c2f76362",
   "metadata": {},
   "source": [
    "#### 小练习"
   ]
  },
  {
   "cell_type": "code",
   "execution_count": 203,
   "id": "0bb02426",
   "metadata": {},
   "outputs": [
    {
     "name": "stdout",
     "output_type": "stream",
     "text": [
      "[21, 23, 25, 27, 29, 31, 33, 35, 37, 39, 41, 43, 45, 47, 49, 51, 53, 55, 57, 59, 61, 63, 65, 67, 69, 71, 73, 75, 77, 79, 81, 83, 85, 87, 89, 91, 93, 95, 97, 99, 101, 103, 105, 107, 109, 111, 113, 115, 117, 119, 121, 123, 125, 127, 129, 131, 133, 135, 137, 139, 141, 143, 145, 147, 149, 151, 153, 155, 157, 159, 161, 163, 165, 167, 169, 171, 173, 175, 177, 179, 181, 183, 185, 187, 189, 191, 193, 195, 197, 199]\n",
      "[21, 23, 25, 27, 29, 31, 33, 35, 37, 39, 41, 43, 45, 47, 49, 51, 53, 55, 57, 59, 61, 63, 65, 67, 69, 71, 73, 75, 77, 79, 81, 83, 85, 87, 89, 91, 93, 95, 97, 99, 101, 103, 105, 107, 109, 111, 113, 115, 117, 119, 121, 123, 125, 127, 129, 131, 133, 135, 137, 139, 141, 143, 145, 147, 149, 151, 153, 155, 157, 159, 161, 163, 165, 167, 169, 171, 173, 175, 177, 179, 181, 183, 185, 187, 189, 191, 193, 195, 197, 199, 123]\n",
      "[21, 23, 25, 27, 29, 31, 33, 35, 37, 39, 41, 43, 45, 47, 49, 51, 53, 55, 57, 59, 61, 63, 65, 67, 69, 71, 73, 75, 77, 79, 81, 83, 85, 87, 89, 91, 93, 95, 97, 99, 101, 103, 105, 107, 109, 111, 113, 115, 117, 119, 121, 123, 125, 127, 129, 131, 133, 135, 137, 139, 141, 143, 145, 147, 149, 151, 153, 155, 157, 159, 161, 163, 165, 167, 169, 171, 173, 175, 177, 179, 181, 183, 185, 187, 189, 191, 193, 195, 197, 199, 123, 200, 202, 204, 206, 208, 210, 212, 214, 216, 218, 220, 222, 224, 226, 228, 230, 232, 234, 236, 238, 240, 242, 244, 246, 248, 250, 252, 254, 256, 258, 260, 262, 264, 266, 268, 270, 272, 274, 276, 278, 280, 282, 284, 286, 288, 290, 292, 294, 296, 298, 300]\n"
     ]
    }
   ],
   "source": [
    "# 以下三个任务各用一条语句完成\n",
    "# 利用切片得到a中从21开始的所有奇数,存放在列表b中。答案写在下面。\n",
    "a = list(range(0, 200, 1)) # 0~199\n",
    "b = a[21::2]\n",
    "print(b)\n",
    "\n",
    "# 在b列表末尾增加一个元素123。答案写在下面。\n",
    "b[len(b):] = [123]\n",
    "print(b)\n",
    "\n",
    "# 在b列表末尾增加200到300的所有偶数\n",
    "b[len(b):] = list(range(200, 301, 2))\n",
    "print(b)"
   ]
  },
  {
   "cell_type": "markdown",
   "id": "cb0b2c0a",
   "metadata": {},
   "source": [
    "#### 2.1.3 列表元素的删除\n",
    "  * 1、使用del命令删除列表中的指定位置上的元素\n",
    "  * 2、使用列表的pop( )方法删除并返回指定（默认为最后一个）位置上的元素，如果给定的索引超出了列表的范围则抛出异常\n",
    "  * 3、使用列表对象的remove( )方法删除首次出现的指定元素，如果列表中不存在要删除的元素，则抛出异常"
   ]
  },
  {
   "cell_type": "code",
   "execution_count": 82,
   "id": "44e37968",
   "metadata": {},
   "outputs": [
    {
     "name": "stdout",
     "output_type": "stream",
     "text": [
      "[2, 3]\n",
      "[1, 2]\n",
      "[2]\n",
      "[1, 3]\n"
     ]
    }
   ],
   "source": [
    "# 1. del\n",
    "a = [1, 2, 3]\n",
    "del a[0]\n",
    "print(a)\n",
    "\n",
    "# 2. pop()，默认是最后一个\n",
    "a = [1, 2, 3]\n",
    "a.pop()\n",
    "print(a)\n",
    "a.pop(0)\n",
    "print(a)\n",
    "\n",
    "# 3. remove()\n",
    "a = [1, 2, 3]\n",
    "a.remove(2)\n",
    "print(a)"
   ]
  },
  {
   "cell_type": "code",
   "execution_count": 109,
   "id": "0139851e",
   "metadata": {},
   "outputs": [
    {
     "name": "stdout",
     "output_type": "stream",
     "text": [
      "1\n",
      "1\n",
      "1\n",
      "[2, 2, 2]\n",
      "1\n",
      "1\n",
      "1\n",
      "1\n",
      "[2, 2, 1]\n",
      "[1, 2, 1, 2, 1, 1, 1]\n",
      "[2, 2]\n",
      "6\n",
      "[2, 2]\n"
     ]
    }
   ],
   "source": [
    "a = [1, 2, 1, 2, 1, 2]\n",
    "for i in a: # 这里读取的是列表a中的每一个元素\n",
    "    print(i)\n",
    "    if i == 1:\n",
    "        a.remove(i)\n",
    "print(a)\n",
    "\n",
    "# 但是这段代码的逻辑是错误的，下面用一个例子来说明，仅仅是改变了a中的元素，结果却不同\n",
    "\n",
    "a = [1, 2, 1, 2, 1, 1, 1]\n",
    "for i in a: # 这里读取的是列表a中的每一个元素\n",
    "    print(i)\n",
    "    if i == 1:\n",
    "        a.remove(i)\n",
    "print(a)\n",
    "\n",
    "# 为什么？因为每一次删除一个元素，该元素后面的元素对应的索引就会发生改变\n",
    "# 怎么办？在循环的判断部分，用列表的切片代替列表\n",
    "\n",
    "a = [1, 2, 1, 2, 1, 1, 1]\n",
    "# print(a[:]) # 浅拷贝，a[::]也可以\n",
    "for i in a[:]:\n",
    "    # print(i)\n",
    "    if i == 1:\n",
    "        a.remove(i)\n",
    "print(a)\n",
    "\n",
    "# 或者\n",
    "\n",
    "a = [1, 2, 1, 2, 1, 1, 1]\n",
    "print(len(a)-1)\n",
    "for i in range(len(a)-1, -1, -1): # 从后往前依次判断，range(6, -1, -1)，range保留头，去尾\n",
    "    # print(a[i])\n",
    "    if a[i] == 1:\n",
    "        del a[i]\n",
    "print(a)"
   ]
  },
  {
   "cell_type": "markdown",
   "id": "35c410b5",
   "metadata": {},
   "source": [
    "#### 2.1.4 列表元素的访问与计数\n",
    "* 1、使用下标直接访问列表元素"
   ]
  },
  {
   "cell_type": "code",
   "execution_count": 110,
   "id": "5143ffe4",
   "metadata": {},
   "outputs": [
    {
     "name": "stdout",
     "output_type": "stream",
     "text": [
      "6\n"
     ]
    }
   ],
   "source": [
    "aList = [3, 4, 5, 6, 7, 9, 11, 13, 15, 17]\n",
    "print(aList[3])"
   ]
  },
  {
   "cell_type": "markdown",
   "id": "1d297f2b",
   "metadata": {},
   "source": [
    "* 2、使用列表对象的index方法获取指定元素首次出现的下标"
   ]
  },
  {
   "cell_type": "code",
   "execution_count": 111,
   "id": "2597ac54",
   "metadata": {},
   "outputs": [
    {
     "name": "stdout",
     "output_type": "stream",
     "text": [
      "4\n"
     ]
    }
   ],
   "source": [
    "aList = [3, 4, 5, 6, 7, 8, 9, 11, 13, 15, 17]\n",
    "aList[3] = 5.5\n",
    "print(aList.index(7)) #查找元素7在列表中的索引位置"
   ]
  },
  {
   "cell_type": "markdown",
   "id": "bd00a477",
   "metadata": {},
   "source": [
    "* 3、使用列表对象的count方法统计指定元素在列表对象中出现的次数"
   ]
  },
  {
   "cell_type": "code",
   "execution_count": 112,
   "id": "82ee6941",
   "metadata": {},
   "outputs": [
    {
     "name": "stdout",
     "output_type": "stream",
     "text": [
      "1\n"
     ]
    }
   ],
   "source": [
    "aList = [3, 4, 5, 5.5, 7, 9, 11, 13, 15, 17]\n",
    "print(aList.count(7))"
   ]
  },
  {
   "cell_type": "markdown",
   "id": "b3fa6dc3",
   "metadata": {},
   "source": [
    "#### 2.1.5 成员资格判断\n",
    "* 或者，使用更加简洁的“in”关键字来判断一个值是否存在于列表中"
   ]
  },
  {
   "cell_type": "code",
   "execution_count": 117,
   "id": "bd090972",
   "metadata": {},
   "outputs": [
    {
     "name": "stdout",
     "output_type": "stream",
     "text": [
      "False\n",
      "True\n",
      "1\n"
     ]
    }
   ],
   "source": [
    "bList = [[1], [2], [3]]\n",
    "print(3 in bList) #[3] in bList; True\n",
    "print([3] in bList)\n",
    "print(bList.count([3]))"
   ]
  },
  {
   "cell_type": "markdown",
   "id": "a27c6509",
   "metadata": {},
   "source": [
    "#### 2.1.6 切片操作\n",
    "* 切片返回的是列表元素的浅拷贝"
   ]
  },
  {
   "cell_type": "code",
   "execution_count": 118,
   "id": "a9da7496",
   "metadata": {},
   "outputs": [
    {
     "name": "stdout",
     "output_type": "stream",
     "text": [
      "[3, 5, 7]\n",
      "[3, 8, 7]\n",
      "True\n",
      "True\n",
      "4666913536\n",
      "4666913536\n"
     ]
    }
   ],
   "source": [
    "aList = [3, 5, 7]\n",
    "bList = aList # bList与aList指向同一个内存\n",
    "print(bList)\n",
    "\n",
    "bList[1] = 8\n",
    "print(aList) # 改变了bList中的元素，aList也随之改变，因为指向同一内存\n",
    "\n",
    "print(aList == bList)\n",
    "print(aList is bList)\n",
    "\n",
    "print(id(aList))\n",
    "print(id(bList))"
   ]
  },
  {
   "cell_type": "code",
   "execution_count": 120,
   "id": "422fa257",
   "metadata": {},
   "outputs": [
    {
     "name": "stdout",
     "output_type": "stream",
     "text": [
      "True\n",
      "False\n",
      "False\n",
      "[3, 8, 7]\n",
      "[3, 5, 7]\n"
     ]
    }
   ],
   "source": [
    "aList = [3, 5, 7]\n",
    "bList = aList[::] # bList是aList的浅复制（浅拷贝）\n",
    "print(aList == bList) # 这是True\n",
    "print(aList is bList) # 这是False，浅拷贝并不指向同一内存\n",
    "print(id(aList) == id(bList))\n",
    "\n",
    "bList[1] = 8\n",
    "print(bList)\n",
    "print(aList) # 浅拷贝bList中元素改变不会改变aList中的元素"
   ]
  },
  {
   "cell_type": "markdown",
   "id": "50eb2fae",
   "metadata": {},
   "source": [
    "* 功能1：可以使用切片来截取列表中的任何部分，得到一个新列表。<b style=\"color: red;\">注意：切片操作和range一样也是保留头，去掉尾</b>"
   ]
  },
  {
   "cell_type": "code",
   "execution_count": 129,
   "id": "84f3ff0c",
   "metadata": {},
   "outputs": [
    {
     "name": "stdout",
     "output_type": "stream",
     "text": [
      "[3, 4, 5, 6, 7, 9, 11, 13, 15, 17]\n",
      "[17, 15, 13, 11, 9, 7, 6, 5, 4, 3]\n",
      "[3, 5, 7, 11, 15]\n",
      "[4, 6, 9, 13, 17]\n",
      "[6, 7, 9, 11, 13, 15, 17]\n",
      "[6, 7, 9]\n",
      "[3, 4, 5, 6, 7, 9, 11, 13, 15, 17]\n",
      "[]\n"
     ]
    }
   ],
   "source": [
    "a = [3, 4, 5, 6, 7, 9, 11, 13, 15, 17]\n",
    "print(a[::])\n",
    "print(a[::-1])\n",
    "print(a[::2])\n",
    "print(a[1::2])\n",
    "print(a[3::])\n",
    "print(a[3:6:]) # 保留头，去掉尾\n",
    "print(a[0:100:])\n",
    "print(a[100:]) # 切片不会因为越界而抛出异常"
   ]
  },
  {
   "cell_type": "markdown",
   "id": "3c2f4dad",
   "metadata": {},
   "source": [
    "* 功能2：可以使用切片来原地修改列表内容"
   ]
  },
  {
   "cell_type": "code",
   "execution_count": 147,
   "id": "b5b7137e",
   "metadata": {},
   "outputs": [
    {
     "name": "stdout",
     "output_type": "stream",
     "text": [
      "[]\n",
      "[3, 5, 7, 9]\n",
      "[1, 2, 3, 9]\n",
      "[9]\n",
      "[0, 1, 2, 3, 4, 5, 6, 7, 8, 9]\n",
      "[0, 1, 0, 3, 0, 5, 0, 7, 0, 9]\n"
     ]
    }
   ],
   "source": [
    "a = [3, 5, 7]\n",
    "print(a[len(a)::])\n",
    "a[len(a):] = [9]\n",
    "print(a)\n",
    "a[:3] = [1, 2, 3]\n",
    "print(a)\n",
    "a[:3] = []\n",
    "print(a)\n",
    "a = list(range(10))\n",
    "print(a)\n",
    "a[::2] = [0]*(len(a)//2) # 把[0, 0, 0, 0, 0]插空替换了a中的元素\n",
    "# print([0]*5)\n",
    "print(a)"
   ]
  },
  {
   "cell_type": "markdown",
   "id": "c5ecf87f",
   "metadata": {},
   "source": [
    "* 功能3：使用del与切片结合来删除列表元素"
   ]
  },
  {
   "cell_type": "code",
   "execution_count": 148,
   "id": "db628517",
   "metadata": {},
   "outputs": [
    {
     "name": "stdout",
     "output_type": "stream",
     "text": [
      "[9, 11]\n"
     ]
    }
   ],
   "source": [
    "aList = [3,5,7,9,11]\n",
    "del aList[:3]\n",
    "print(aList)"
   ]
  },
  {
   "cell_type": "markdown",
   "id": "916b1047",
   "metadata": {},
   "source": [
    "#### 2.1.7 列表排序\n",
    "<b style=\"color: red;\">a.sort(key = lambda x:len(str(x))) # 自定义，lambda x相当于一个函数，输入x，输出len(str(x))，考试不包含lamda表达式排序方法</b>"
   ]
  },
  {
   "cell_type": "code",
   "execution_count": 181,
   "id": "05283f13",
   "metadata": {},
   "outputs": [
    {
     "name": "stdout",
     "output_type": "stream",
     "text": [
      "[3, 9, 6, 17, 7, 15, 13, 11, 5, 4]\n",
      "[3, 4, 5, 6, 7, 9, 11, 13, 15, 17]\n",
      "[17, 15, 13, 11, 9, 7, 6, 5, 4, 3]\n",
      "[9, 7, 6, 5, 4, 3, 17, 15, 13, 11]\n",
      "[6, 4, 3, 15, 17, 11, 13, 7, 5, 9]\n",
      "[3, 4, 5, 6, 7, 9, 11, 13, 15, 17]\n",
      "[17, 15, 13, 11, 9, 7, 6, 5, 4, 3]\n",
      "[17, 15, 13, 11, 9, 7, 6, 5, 4, 3]\n",
      "<list_reverseiterator object at 0x11599e920>\n",
      "[17, 15, 13, 11, 9, 7, 6, 5, 4, 3]\n",
      "17\n",
      "15\n",
      "13\n",
      "11\n",
      "9\n",
      "7\n",
      "6\n",
      "5\n",
      "4\n",
      "3\n"
     ]
    }
   ],
   "source": [
    "# 1. sort\n",
    "a = [3, 4, 5, 6, 7, 9, 11, 13, 15, 17]\n",
    "import random\n",
    "random.shuffle(a)\n",
    "print(a)\n",
    "a.sort() # 默认升序\n",
    "print(a)\n",
    "a.sort(reverse = True) # 降序\n",
    "print(a)\n",
    "\n",
    "a.sort(key = lambda x:len(str(x))) # 自定义，lambda x相当于一个函数，输入x，输出len(str(x))\n",
    "print(a)\n",
    "\n",
    "# 2. sorted\n",
    "a = [3, 4, 5, 6, 7, 9, 11, 13, 15, 17]\n",
    "import random\n",
    "random.shuffle(a)\n",
    "print(a)\n",
    "print(sorted(a))\n",
    "# print(a) 不改变列表a本身\n",
    "print(sorted(a, reverse = True))\n",
    "\n",
    "# 3. reverse\n",
    "a = [3, 4, 5, 6, 7, 9, 11, 13, 15, 17]\n",
    "a.reverse()\n",
    "print(a)\n",
    "\n",
    "# 4. reversed\n",
    "a = [3, 4, 5, 6, 7, 9, 11, 13, 15, 17]\n",
    "b = reversed(a)\n",
    "print(b) # 注意，需要用list()\n",
    "print(list(b))\n",
    "for i in b:\n",
    "    print(i, sep = ' ') # 无输出内容，迭代对象已经遍历结束，需要创建新的迭代对象\n",
    "    \n",
    "b = reversed(a)\n",
    "for i in b:\n",
    "    print(i, sep = ' ')"
   ]
  },
  {
   "cell_type": "markdown",
   "id": "e2338cd6",
   "metadata": {},
   "source": [
    "#### 2.1.8 用于序列操作的常用内置函数\n",
    "* 序列大小比较：可以直接使用关系运算符来比较数值或序列的大小，也可以使用对象的“\\_\\_le\\_\\_( )”及其相关方法\n",
    "* len(), max(), min(), sum()(对非数值型列表运算则出错，同样适用于元组、range"
   ]
  },
  {
   "cell_type": "code",
   "execution_count": 188,
   "id": "3b9d822f",
   "metadata": {},
   "outputs": [
    {
     "name": "stdout",
     "output_type": "stream",
     "text": [
      "True\n",
      "True\n",
      "False\n"
     ]
    }
   ],
   "source": [
    "print((1, 2, 3) == (1.0, 2.0, 3.0))\n",
    "a = [1, 2]\n",
    "b = [1, 2, 3]\n",
    "print(a.__le__(b)) # lt是小于\n",
    "print(a.__gt__(b)) # ge是大于等于"
   ]
  },
  {
   "cell_type": "markdown",
   "id": "7c45d401",
   "metadata": {},
   "source": [
    "* zip()将多个列表组合为元组，list()可以将元组还原为列表"
   ]
  },
  {
   "cell_type": "code",
   "execution_count": 193,
   "id": "43711e5a",
   "metadata": {},
   "outputs": [
    {
     "name": "stdout",
     "output_type": "stream",
     "text": [
      "<zip object at 0x1163ea840>\n",
      "[(1, 4), (2, 5), (3, 6)]\n"
     ]
    }
   ],
   "source": [
    "a = [1, 2, 3]\n",
    "b = [4, 5, 6]\n",
    "c = zip(a, b)\n",
    "print(c)\n",
    "print(list(c))"
   ]
  },
  {
   "cell_type": "markdown",
   "id": "53d49b32",
   "metadata": {},
   "source": [
    "* enumerate(列表)：枚举列表元素，返回枚举对象，其每个元素为包含下标和值的元组。该函数对元组、字符串同样有效"
   ]
  },
  {
   "cell_type": "code",
   "execution_count": 194,
   "id": "a79d008b",
   "metadata": {},
   "outputs": [
    {
     "name": "stdout",
     "output_type": "stream",
     "text": [
      "(0, 1)\n",
      "(1, 2)\n",
      "(2, 3)\n"
     ]
    }
   ],
   "source": [
    "a = [1, 2, 3]\n",
    "for i in enumerate(a):\n",
    "    print(i)"
   ]
  },
  {
   "cell_type": "markdown",
   "id": "c6dabc48",
   "metadata": {},
   "source": [
    "#### 2.1.9 列表推导式\n",
    "* 列表推导式（list comprehension）是利用其他列表创建新列表的一种方法\n",
    "* 语法： [表达式 for 变量 in 列表]    或者  [表达式 for 变量 in 列表 if 条件] <b style=\"color: red;\">非常重要！！！</b>"
   ]
  },
  {
   "cell_type": "code",
   "execution_count": 204,
   "id": "f56b9b8d",
   "metadata": {},
   "outputs": [
    {
     "name": "stdout",
     "output_type": "stream",
     "text": [
      "[0, 1, 4, 9, 16, 25, 36, 49, 64, 81]\n",
      "[0, 1, 4, 9, 16, 25, 36, 49, 64, 81]\n"
     ]
    }
   ],
   "source": [
    "a = [x*x for x in range(10)]\n",
    "print(a)\n",
    "\n",
    "# 相当于\n",
    "a = []\n",
    "for x in range(10):\n",
    "    a.append(x*x)\n",
    "print(a)"
   ]
  },
  {
   "cell_type": "markdown",
   "id": "9c27144b",
   "metadata": {},
   "source": [
    "* <b style=\"color: red;\">嵌套列表的平铺</b>"
   ]
  },
  {
   "cell_type": "code",
   "execution_count": 210,
   "id": "93327dab",
   "metadata": {},
   "outputs": [
    {
     "name": "stdout",
     "output_type": "stream",
     "text": [
      "[6, 7.5, 9]\n",
      "[1, 2, 3, 4, 5, 6, 7, 8, 9]\n"
     ]
    }
   ],
   "source": [
    "# 过滤不符合条件的元素\n",
    "a = [-1,-4,6,7.5,-2.3,9,-11]\n",
    "b = [i for i in a if i > 0]\n",
    "print(b)\n",
    "\n",
    "# 嵌套列表的平铺\n",
    "vec = [[1, 2, 3], [4, 5, 6], [7, 8, 9]]\n",
    "c = [num for elem in vec for num in elem] # elem是vec中的三个列表，num是elem中的每个元素，for循环的嵌套\n",
    "print(c)"
   ]
  },
  {
   "cell_type": "markdown",
   "id": "0d0fd063",
   "metadata": {},
   "source": [
    "* 在列表推导式中使用多个循环，实现多序列元素的任意组合，并且可以结合条件语句过滤特定元素"
   ]
  },
  {
   "cell_type": "code",
   "execution_count": 212,
   "id": "0565bb94",
   "metadata": {},
   "outputs": [
    {
     "name": "stdout",
     "output_type": "stream",
     "text": [
      "[(0, 0), (0, 1), (0, 2), (1, 0), (1, 1), (1, 2), (2, 0), (2, 1), (2, 2)]\n",
      "[(1, 3), (1, 4), (2, 3), (2, 1), (2, 4), (3, 1), (3, 4)]\n"
     ]
    }
   ],
   "source": [
    "a = [(x, y) for x in range(3) for y in range(3)]\n",
    "print(a)\n",
    "\n",
    "b = [(x, y) for x in [1, 2, 3] for y in [3, 1, 4] if x != y]\n",
    "print(b)"
   ]
  },
  {
   "cell_type": "markdown",
   "id": "708e5013",
   "metadata": {},
   "source": [
    "* 列表推导式中可以使用函数或复杂表达式——复杂表达式"
   ]
  },
  {
   "cell_type": "code",
   "execution_count": 215,
   "id": "198e0a23",
   "metadata": {},
   "outputs": [
    {
     "name": "stdout",
     "output_type": "stream",
     "text": [
      "[4, 4, 16]\n",
      "[4, 4, 16]\n"
     ]
    }
   ],
   "source": [
    "def f(v): \n",
    "    if v%2 == 0: #若v是偶数\n",
    "        v = v**2\n",
    "    else:\n",
    "        v = v+1\n",
    "    return v\n",
    "print([f(v) for v in [2, 3, 4, -1] if v>0])\n",
    "\n",
    "print([v**2 if v%2 == 0 else v+1 for v in [2, 3, 4 ,-1] if v>0]) # 非常重要！！！"
   ]
  },
  {
   "cell_type": "markdown",
   "id": "80152eb7",
   "metadata": {},
   "source": [
    "* 矩阵转置"
   ]
  },
  {
   "cell_type": "code",
   "execution_count": 221,
   "id": "84adc74b",
   "metadata": {},
   "outputs": [
    {
     "name": "stdout",
     "output_type": "stream",
     "text": [
      "[[1, 5, 9], [2, 6, 10], [3, 7, 11], [4, 8, 12]]\n",
      "[(1, 5, 9), (2, 6, 10), (3, 7, 11), (4, 8, 12)]\n"
     ]
    }
   ],
   "source": [
    "#使用列表推导式实现矩阵转置\n",
    "matrix = [[1, 2, 3, 4], [5, 6, 7, 8], [9, 10, 11, 12]]\n",
    "b = [[row[i] for row in matrix] for i in range(4)]\n",
    "print(b)\n",
    "\n",
    "#也可以使用内置函数来实现矩阵转置\n",
    "print(list(zip(*matrix))) #序列解包\n",
    "\n",
    "#列表推导式支持文件对象迭代 \n",
    "# fp = open('C:\\install.log', 'r')\n",
    "# print([line for line in fp]) \n",
    "# fp.close()"
   ]
  },
  {
   "cell_type": "markdown",
   "id": "f8c47ac4",
   "metadata": {},
   "source": [
    "* 0到100以内的素数"
   ]
  },
  {
   "cell_type": "code",
   "execution_count": 1,
   "id": "7be86133",
   "metadata": {},
   "outputs": [
    {
     "name": "stdout",
     "output_type": "stream",
     "text": [
      "[2, 3, 5, 7, 11, 13, 17, 19, 23, 29, 31, 37, 41, 43, 47, 53, 59, 61, 67, 71, 73, 79, 83, 89, 97]\n"
     ]
    }
   ],
   "source": [
    "#生成1到100内的所有素数，重要！\n",
    "import math\n",
    "a = [p for p in range(2, 100) if 0 not in [p%d for d in range(2, int(math.sqrt(p)) + 1)]]\n",
    "print(a)"
   ]
  },
  {
   "cell_type": "code",
   "execution_count": 16,
   "id": "5b111b02",
   "metadata": {},
   "outputs": [
    {
     "name": "stdout",
     "output_type": "stream",
     "text": [
      "99\n",
      "40\n",
      "72.33333333333333\n",
      "['Wu Shi']\n"
     ]
    }
   ],
   "source": [
    "## 比较复杂\n",
    "# 查找同学成绩\n",
    "scores = {\"Zhang San\": 45, \"Li Si\": 78, \"Wang Wu\": 40, \"Zhou Liu\": 96, \"Zhao Qi\": 65, \"Sun Ba\": 90, \"Zheng Jiu\": 78, \"Wu Shi\": 99, \"Dong Shiyi\": 60}\n",
    "highest = max(scores.values()) # 注意这里是values()，有s\n",
    "print(highest)\n",
    "lowest = min(scores.values())\n",
    "print(lowest)\n",
    "average = float(sum(scores.values()))/len(scores)\n",
    "# 或者average = sum(scores.values())*1.0/len(scores)\n",
    "print(average)\n",
    "\n",
    "# print(scores.items())\n",
    "\n",
    "highest_person = [name for name, score in scores.items() if score == highest] # 注意是items，有s\n",
    "print(highest_person)"
   ]
  },
  {
   "cell_type": "markdown",
   "id": "d747d411",
   "metadata": {},
   "source": [
    "### HW 3"
   ]
  },
  {
   "cell_type": "code",
   "execution_count": 34,
   "id": "e7c0a837",
   "metadata": {},
   "outputs": [
    {
     "name": "stdout",
     "output_type": "stream",
     "text": [
      "[99, 98, 97, 96, 95, 94, 93, 92, 91, 90, 89, 88, 87, 86, 85, 84, 83, 82, 81, 80, 79, 78, 77, 76, 75, 74, 73, 72, 71, 70, 69, 68, 67, 66, 65, 64, 63, 62, 61, 60, 59, 58, 57, 56, 55, 54, 53, 52, 51, 50, 49, 48, 47, 46, 45, 44, 43, 42, 41, 40, 39, 38, 37, 36, 35, 34, 33, 32, 31, 30, 29, 28, 27, 26, 25, 24, 23, 22, 21, 20, 19, 18, 17, 16, 15, 14, 13, 12, 11, 10, 9, 8, 7, 6, 5, 4, 3, 2, 1, 0]\n",
      "[99, 98, 97, 96, 95, 94, 93, 92, 91, 90, 89, 88, 87, 86, 85, 84, 83, 82, 81, 80, 79, 78, 77, 76, 75, 74, 73, 72, 71, 70, 69, 68, 67, 66, 65, 64, 63, 62, 61, 60, 59, 58, 57, 56, 55, 54, 53, 52, 51, 50, 49, 48, 47, 46, 45, 44, 43, 42, 41, 40, 39, 38, 37, 36, 35, 34, 33, 32, 31, 30, 29, 28, 27, 26, 25, 24, 23, 22, 21, 20, 19, 18, 17, 16, 15, 14, 13, 12, 11, 10, 9, 8, 7, 6, 5, 4, 3, 2, 1, 0]\n",
      "[99, 98, 97, 96, 95, 94, 93, 92, 91, 90, 89, 88, 87, 86, 85, 84, 83, 82, 81, 80, 79, 78, 77, 76, 75, 74, 73, 72, 71, 70, 69, 68, 67, 66, 65, 64, 63, 62, 61, 60, 59, 58, 57, 56, 55, 54, 53, 52, 51, 50, 49, 48, 47, 46, 45, 44, 43, 42, 41, 40, 39, 38, 37, 36, 35, 34, 33, 32, 31, 30, 29, 28, 27, 26, 25, 24, 23, 22, 21, 20, 19, 18, 17, 16, 15, 14, 13, 12, 11, 10, 9, 8, 7, 6, 5, 4, 3, 2, 1, 0]\n",
      "[99, 98, 97, 96, 95, 94, 93, 92, 91, 90, 89, 88, 87, 86, 85, 84, 83, 82, 81, 80, 79, 78, 77, 76, 75, 74, 73, 72, 71, 70, 69, 68, 67, 66, 65, 64, 63, 62, 61, 60, 59, 58, 57, 56, 55, 54, 53, 52, 51, 50, 49, 48, 47, 46, 45, 44, 43, 42, 41, 40, 39, 38, 37, 36, 35, 34, 33, 32, 31, 30, 29, 28, 27, 26, 25, 24, 23, 22, 21, 20, 19, 18, 17, 16, 15, 14, 13, 12, 11, 10, 9, 8, 7, 6, 5, 4, 3, 2, 1, 0]\n",
      "[99, 98, 97, 96, 95, 94, 93, 92, 91, 90, 89, 88, 87, 86, 85, 84, 83, 82, 81, 80, 79, 78, 77, 76, 75, 74, 73, 72, 71, 70, 69, 68, 67, 66, 65, 64, 63, 62, 61, 60, 59, 58, 57, 56, 55, 54, 53, 52, 51, 50, 49, 48, 47, 46, 45, 44, 43, 42, 41, 40, 39, 38, 37, 36, 35, 34, 33, 32, 31, 30, 29, 28, 27, 26, 25, 24, 23, 22, 21, 20, 19, 18, 17, 16, 15, 14, 13, 12, 11, 10, 9, 8, 7, 6, 5, 4, 3, 2, 1, 0]\n"
     ]
    }
   ],
   "source": [
    "#产生1个0~99的列表\n",
    "a=list(range(0,100))\n",
    "\n",
    "#你能写出几种让列表元素逆序排列的方法（结果仍存放在a中）？答案写在下面。\n",
    "a=list(range(0,100))\n",
    "a.sort(reverse = True)\n",
    "print(a)\n",
    "\n",
    "a.sort()\n",
    "a = sorted(a,reverse = True)\n",
    "print(a)\n",
    "\n",
    "a.sort()\n",
    "a.reverse()\n",
    "print(a)\n",
    "\n",
    "a.sort()\n",
    "a = list(reversed(a))\n",
    "print(a)\n",
    "\n",
    "a.sort()\n",
    "a = a[::-1]\n",
    "print(a)\n"
   ]
  },
  {
   "cell_type": "code",
   "execution_count": 36,
   "id": "b7f9674e",
   "metadata": {},
   "outputs": [
    {
     "name": "stdout",
     "output_type": "stream",
     "text": [
      "[2, 3, 5, 7, 11, 13, 17, 19, 23, 29, 31, 37, 41, 43, 47, 53, 59, 61, 67, 71, 73, 79, 83, 89, 97]\n"
     ]
    }
   ],
   "source": [
    "#重新排序\n",
    "a.sort()\n",
    "\n",
    "#利用列表推导式，得到a中所有的质数,存放在列表b中。答案写在下面。\n",
    "import math\n",
    "b = [ a for a in range(2, 100) if 0 not in [a % d for d in range(2, math.isqrt(a) + 1)]]\n",
    "print(b)"
   ]
  },
  {
   "cell_type": "code",
   "execution_count": 37,
   "id": "305f6165",
   "metadata": {},
   "outputs": [
    {
     "name": "stdout",
     "output_type": "stream",
     "text": [
      "[2, 3, 4, 6, 8, 9, 10, 12, 14, 15, 16, 18, 20, 21, 22, 24, 26, 27, 28, 30, 32, 33, 34, 36, 38, 39, 40, 42, 44, 45, 46, 48, 50, 51, 52, 54, 56, 57, 58, 60, 62, 63, 64, 66, 68, 69, 70, 72, 74, 75, 76, 78, 80, 81, 82, 84, 86, 87, 88, 90, 92, 93, 94, 96, 98, 99, 100]\n"
     ]
    }
   ],
   "source": [
    "#利用列表推导式，得到a中所有能被2或3整除的数,存放在列表d中。答案写在下面。\n",
    "a.sort()\n",
    "d = [ a for a in range(2, 101) if 0 in [a % d for d in range(2, 4)]]\n",
    "print(d)"
   ]
  },
  {
   "cell_type": "code",
   "execution_count": 38,
   "id": "ee2eafde",
   "metadata": {},
   "outputs": [
    {
     "name": "stdout",
     "output_type": "stream",
     "text": [
      "[153, 370, 371, 407]\n"
     ]
    }
   ],
   "source": [
    "#水仙花数是一个n(n大于等于3）位数字的数，它等于每个数字的n次幂之和。\n",
    "#例如,153是一个水仙花数，因为153=1**3+5**3+3**3。\n",
    "#求所有3位数中的水仙花数。\n",
    "#方法1：用列表推导式，将下一行补充完整.\n",
    "narcissus_list = [ a for a in range(100, 1000) if a == sum(int(digit) ** 3 for digit in str(a))]\n",
    "print(narcissus_list) "
   ]
  },
  {
   "cell_type": "code",
   "execution_count": 45,
   "id": "f6984815",
   "metadata": {},
   "outputs": [
    {
     "name": "stdout",
     "output_type": "stream",
     "text": [
      "[153, 370, 371, 407]\n"
     ]
    }
   ],
   "source": [
    "#方法2：用生成器推导式，将下一行补充完整.\n",
    "narcissus_gen = ( a for a in range(100, 1000) if a == sum(int(digit) ** 3 for digit in str(a)))\n",
    "narcissus = [next(narcissus_gen) for x in range(4) ] \n",
    "print(narcissus)"
   ]
  },
  {
   "cell_type": "markdown",
   "id": "0cea309f",
   "metadata": {},
   "source": [
    "### Lec 5\n",
    "#### 2.2 元组\n",
    "* 圆括号中，元素不可修改"
   ]
  },
  {
   "cell_type": "code",
   "execution_count": 28,
   "id": "3a0c8cb7",
   "metadata": {},
   "outputs": [
    {
     "name": "stdout",
     "output_type": "stream",
     "text": [
      "('a',)\n",
      "a\n",
      "(3,)\n",
      "('a',)\n",
      "3\n"
     ]
    }
   ],
   "source": [
    "# 只有一个元素，元组中要加逗号,\n",
    "a = ('a', )\n",
    "print(a)\n",
    "\n",
    "a = ('a')\n",
    "print(a) # 不加逗号输出就不是元组\n",
    "\n",
    "a = 3, # 在不引起歧义时，括号可以省略\n",
    "print(a)\n",
    "\n",
    "a = 'a', \n",
    "print(a)\n",
    "\n",
    "a = (3) # 就不是元组了\n",
    "print(a)"
   ]
  },
  {
   "cell_type": "markdown",
   "id": "05acb4cb",
   "metadata": {},
   "source": [
    "* 元组的创建与删除"
   ]
  },
  {
   "cell_type": "code",
   "execution_count": 38,
   "id": "0b0654cb",
   "metadata": {},
   "outputs": [
    {
     "name": "stdout",
     "output_type": "stream",
     "text": [
      "('a', 'b', 'c', 'd', 'e', 'f', 'g')\n",
      "(1, 2, 3)\n",
      "[1, 2, 3]\n",
      "()\n"
     ]
    }
   ],
   "source": [
    "# tuple函数将其他序列转换为元组\n",
    "print(tuple('abcdefg'))\n",
    "\n",
    "a = [1, 2, 3]\n",
    "tuple(a) # 这里不能单独使用，单独使用不会改变列表a\n",
    "print(tuple(a))\n",
    "print(a)\n",
    "\n",
    "s = tuple()\n",
    "print(s)"
   ]
  },
  {
   "cell_type": "code",
   "execution_count": 46,
   "id": "17fafc8d",
   "metadata": {},
   "outputs": [
    {
     "name": "stdout",
     "output_type": "stream",
     "text": [
      "(0, 1, 4, 9, 16, 25, 36, 49, 64, 81, 100, 121)\n",
      "25\n",
      "(0, 25, 100)\n",
      "(0, 4, 16, 36, 64)\n",
      "(1, 2, [2, 5])\n"
     ]
    }
   ],
   "source": [
    "# del能删除元组对象，但是不能删除元组元素\n",
    "\n",
    "x = tuple([x**2 for x in range(12)])\n",
    "print(x)\n",
    "\n",
    "print(x[5])\n",
    "print(x[::5])\n",
    "print(x[0:10:2]) # 浅拷贝掐头去尾\n",
    "\n",
    "x =(1, 2, [4, 5])\n",
    "# x[2] = [2, 3] 元素不可变\n",
    "x[2][0] = 2 # 元素的对象可变\n",
    "print(x)"
   ]
  },
  {
   "cell_type": "markdown",
   "id": "0607655b",
   "metadata": {},
   "source": [
    "* 元组也支持其他序列的基本操作"
   ]
  },
  {
   "cell_type": "code",
   "execution_count": 16,
   "id": "0a1b6219",
   "metadata": {},
   "outputs": [
    {
     "data": {
      "text/plain": [
       "((0, 1), (1, 2), (2, 3), (3, 3), (4, 2), (5, 1))"
      ]
     },
     "execution_count": 16,
     "metadata": {},
     "output_type": "execute_result"
    }
   ],
   "source": [
    "a = (1, 2, 3, 3, 2, 1)\n",
    "a.index(1)\n",
    "tuple(enumerate(a))"
   ]
  },
  {
   "cell_type": "markdown",
   "id": "bb57565d",
   "metadata": {},
   "source": [
    "* 元组对象一旦定义无法更改\n",
    "* 元组没有append( ), insert( ), extend( ), pop( ), remove( )\n",
    "* del( )不能删除元组元素，只能删除元组元素的对象"
   ]
  },
  {
   "cell_type": "code",
   "execution_count": 18,
   "id": "922569d4",
   "metadata": {},
   "outputs": [
    {
     "name": "stdout",
     "output_type": "stream",
     "text": [
      "[1, 2, 3]\n",
      "(1, 2, 3)\n"
     ]
    }
   ],
   "source": [
    "# list()和tuple()解冻和冻结列表\n",
    "a = (1, 2, 3)\n",
    "print(list(a))\n",
    "print(tuple(a))"
   ]
  },
  {
   "cell_type": "code",
   "execution_count": 19,
   "id": "ca909a9f",
   "metadata": {},
   "outputs": [
    {
     "ename": "TypeError",
     "evalue": "'tuple' object does not support item assignment",
     "output_type": "error",
     "traceback": [
      "\u001b[0;31m---------------------------------------------------------------------------\u001b[0m",
      "\u001b[0;31mTypeError\u001b[0m                                 Traceback (most recent call last)",
      "Cell \u001b[0;32mIn[19], line 3\u001b[0m\n\u001b[1;32m      1\u001b[0m \u001b[38;5;66;03m# 列表的+会创建新的列表，相当于改变元组元素，不被允许\u001b[39;00m\n\u001b[1;32m      2\u001b[0m a \u001b[38;5;241m=\u001b[39m ([\u001b[38;5;241m1\u001b[39m, \u001b[38;5;241m2\u001b[39m], \u001b[38;5;241m3\u001b[39m)\n\u001b[0;32m----> 3\u001b[0m a[\u001b[38;5;241m0\u001b[39m] \u001b[38;5;241m=\u001b[39m a[\u001b[38;5;241m0\u001b[39m]\u001b[38;5;241m+\u001b[39m[\u001b[38;5;241m10\u001b[39m]\n",
      "\u001b[0;31mTypeError\u001b[0m: 'tuple' object does not support item assignment"
     ]
    }
   ],
   "source": [
    "# 列表的+会创建新的列表，相当于改变元组元素，不被允许\n",
    "a = ([1, 2], 3)\n",
    "a[0] = a[0]+[10]"
   ]
  },
  {
   "cell_type": "markdown",
   "id": "c4976d50",
   "metadata": {},
   "source": [
    "* 元组运行速度比列表快，仅访问用元组\n",
    "* 元组对不需要改变的数据进行“写保护”\n",
    "* 元组能作为字典key，列表不能"
   ]
  },
  {
   "cell_type": "markdown",
   "id": "cdee95ee",
   "metadata": {},
   "source": [
    "#### 2.2.3 序列解包\n",
    "* LHS = RHS\n",
    "* 没有带\\*的变量默认值对应一个"
   ]
  },
  {
   "cell_type": "code",
   "execution_count": 5,
   "id": "429dc305",
   "metadata": {},
   "outputs": [
    {
     "name": "stdout",
     "output_type": "stream",
     "text": [
      "([1, 2, 3, 4, 5], 6, 7)\n",
      "(1, 2, 3)\n",
      "('a', ['b', 'b', 'b', 'b'], 'c')\n",
      "[-5, -4, -3, -2, -1, 5, 6, 7, 8, 9, 10, 1]\n"
     ]
    }
   ],
   "source": [
    "*a,b,c=range(1,8)\n",
    "print((a,b,c))\n",
    "\n",
    "a, b, c = (1, 2, 3)\n",
    "print((a, b, c))\n",
    "\n",
    "a, *b, c = 'abbbbc'\n",
    "print((a, b, c))\n",
    "\n",
    "a = list(range(0, 12))\n",
    "x, y, a[-1], a[0:5] = 1, 2, 1, range(-5, 0) # 直接range()就可以了\n",
    "print(a)"
   ]
  },
  {
   "cell_type": "code",
   "execution_count": 8,
   "id": "8136cea7",
   "metadata": {},
   "outputs": [
    {
     "name": "stdout",
     "output_type": "stream",
     "text": [
      "a 1\n",
      "b 2\n",
      "c 3\n"
     ]
    }
   ],
   "source": [
    "key = ['a','b', 'c']\n",
    "value = [1, 2, 3]\n",
    "for k, v in zip(key, value): \n",
    "    print(k, v)"
   ]
  },
  {
   "cell_type": "code",
   "execution_count": 14,
   "id": "90cc0650",
   "metadata": {},
   "outputs": [
    {
     "name": "stdout",
     "output_type": "stream",
     "text": [
      "0 : (1, 4, 7)\n",
      "1 : (2, 5, 8)\n",
      "2 : (3, 6, 9)\n"
     ]
    }
   ],
   "source": [
    "a = [1, 2, 3]\n",
    "b = [4, 5, 6]\n",
    "c = [7, 8, 9]\n",
    "z = zip(a, b, c)\n",
    "for index, value in enumerate(z): \n",
    "    print(index, ':', value)"
   ]
  },
  {
   "cell_type": "markdown",
   "id": "04ca0f7d",
   "metadata": {},
   "source": [
    "#### 2.2.4 生成器推导式"
   ]
  },
  {
   "cell_type": "code",
   "execution_count": 29,
   "id": "53052aa4",
   "metadata": {},
   "outputs": [
    {
     "name": "stdout",
     "output_type": "stream",
     "text": [
      "(4, 9, 16)\n",
      "()\n",
      "4\n",
      "9\n",
      "16\n"
     ]
    }
   ],
   "source": [
    "g = ((i+2)**2 for i in range(3))\n",
    "print(tuple(g))\n",
    "print(tuple(g)) # 这里g值为空\n",
    "\n",
    "g = ((i+2)**2 for i in range(3))\n",
    "print(next(g))\n",
    "print(g.__next__())\n",
    "print(next(g))\n",
    "# print(next(g)) 超出范围"
   ]
  },
  {
   "cell_type": "code",
   "execution_count": 31,
   "id": "e4db9a54",
   "metadata": {},
   "outputs": [
    {
     "name": "stdout",
     "output_type": "stream",
     "text": [
      "<list_iterator object at 0x114823040>\n",
      "<str_ascii_iterator object at 0x114821390>\n",
      "<tuple_iterator object at 0x114823040>\n",
      "<dict_keyiterator object at 0x11539c900>\n",
      "<set_iterator object at 0x111a26e00>\n",
      "<range_iterator object at 0x114821380>\n"
     ]
    }
   ],
   "source": [
    "# 一个对象如果包含一个 __iter__() 方法，那么这个对象就是一个可迭代对象。调用这个方法会返回一个迭代器\n",
    "# 例子：可迭代对象\n",
    "my_list = [1, 2, 3, 4]\n",
    "my_str = \"hello\"\n",
    "my_tuple = (1, 2, 3)\n",
    "my_dict = {'a': 1, 'b': 2}\n",
    "my_set = {1, 2, 3}\n",
    "my_range = range(5)\n",
    "\n",
    "# 这些都是可迭代对象\n",
    "print(iter(my_list))  # <list_iterator object at 0x...>\n",
    "print(iter(my_str))   # <str_iterator object at 0x...>\n",
    "print(iter(my_tuple)) # <tuple_iterator object at 0x...>\n",
    "print(iter(my_dict))  # <dict_keyiterator object at 0x...>\n",
    "print(iter(my_set))   # <set_iterator object at 0x...>\n",
    "print(iter(my_range)) # <range_iterator object at 0x...>"
   ]
  },
  {
   "cell_type": "code",
   "execution_count": 32,
   "id": "893ba036",
   "metadata": {},
   "outputs": [
    {
     "name": "stdout",
     "output_type": "stream",
     "text": [
      "4\n",
      "3\n",
      "(1, 0)\n",
      "(2, 1)\n",
      "(0, 1)\n",
      "(1, 2)\n"
     ]
    }
   ],
   "source": [
    "# 一个对象如果包含一个 __next__() 方法，那么这个对象就是一个迭代器\n",
    "# 例子：迭代器\n",
    "my_list = [1, 2, 3, 4]\n",
    "\n",
    "reversed_iter = reversed(my_list)\n",
    "print(next(reversed_iter))  # 输出 4\n",
    "print(next(reversed_iter))  # 输出 3\n",
    "\n",
    "zip_iter = zip(my_list, range(4))\n",
    "print(next(zip_iter))  # 输出 (1, 0)\n",
    "print(next(zip_iter))  # 输出 (2, 1)\n",
    "\n",
    "enum_iter = enumerate(my_list)\n",
    "print(next(enum_iter))  # 输出 (0, 1)\n",
    "print(next(enum_iter))  # 输出 (1, 2)"
   ]
  },
  {
   "cell_type": "code",
   "execution_count": 33,
   "id": "895837c6",
   "metadata": {},
   "outputs": [
    {
     "name": "stdout",
     "output_type": "stream",
     "text": [
      "True\n"
     ]
    }
   ],
   "source": [
    "# 迭代器也是可迭代对象\n",
    "my_iter = iter([1, 2, 3])\n",
    "print(iter(my_iter) is my_iter)  # 输出 True"
   ]
  },
  {
   "cell_type": "code",
   "execution_count": 66,
   "id": "1ba67679",
   "metadata": {},
   "outputs": [
    {
     "name": "stdout",
     "output_type": "stream",
     "text": [
      "<list_iterator object at 0x11485a9b0>\n",
      "1\n",
      "2\n"
     ]
    }
   ],
   "source": [
    "# iter()将可迭代对象转换为迭代器\n",
    "my_list = [1, 2, 3, 4]\n",
    "my_iter = iter(my_list)\n",
    "print(my_iter)\n",
    "print(next(my_iter))  # 输出 1\n",
    "print(next(my_iter))  # 输出 2"
   ]
  },
  {
   "cell_type": "code",
   "execution_count": 35,
   "id": "3d504ad0",
   "metadata": {},
   "outputs": [
    {
     "name": "stdout",
     "output_type": "stream",
     "text": [
      "1\n",
      "2\n",
      "3\n",
      "4\n"
     ]
    }
   ],
   "source": [
    "# for循环的本质是调用__next__()调用下一个元素\n",
    "my_list = [1, 2, 3, 4]\n",
    "for item in my_list:\n",
    "    print(item)"
   ]
  },
  {
   "cell_type": "code",
   "execution_count": 42,
   "id": "9c376a37",
   "metadata": {},
   "outputs": [
    {
     "name": "stdout",
     "output_type": "stream",
     "text": [
      "[(3, 4, 5), (6, 8, 10), (5, 12, 13), (9, 12, 15), (8, 15, 17), (12, 16, 20), (15, 20, 25), (7, 24, 25), (10, 24, 26), (20, 21, 29)]\n"
     ]
    }
   ],
   "source": [
    "# 毕达哥拉斯数组\n",
    "pyt = [(x, y, z) for z in range(100) for y in range(1, z) for x in range(1, y) if x**2 + y**2 == z*z]\n",
    "first_pyt = pyt[:10]\n",
    "print(first_pyt)"
   ]
  },
  {
   "cell_type": "code",
   "execution_count": 68,
   "id": "8ab81f5d",
   "metadata": {},
   "outputs": [
    {
     "name": "stdout",
     "output_type": "stream",
     "text": [
      "[(3, 4, 5), (6, 8, 10), (5, 12, 13), (9, 12, 15), (8, 15, 17), (12, 16, 20), (15, 20, 25), (7, 24, 25), (10, 24, 26), (20, 21, 29)]\n"
     ]
    }
   ],
   "source": [
    "# generator给出了更方便的创建iterator的手段，包含了__iter__()和__next__()方法\n",
    "# 注意：TypeError: 'list' object is not an iterator\n",
    "pyt = ((x, y, z) for z in range(1000) for y in range(1, z) for x in range(1, y) if x**2 + y**2 == z**2) # 这里是元组\n",
    "first_pyt = [next(pyt) for x in range(10)] # pyt是一个generator object\n",
    "print(first_pyt)"
   ]
  },
  {
   "cell_type": "markdown",
   "id": "e2e9228c",
   "metadata": {},
   "source": [
    "#### 2.3 字典"
   ]
  },
  {
   "cell_type": "code",
   "execution_count": 71,
   "id": "67b1da6c",
   "metadata": {},
   "outputs": [],
   "source": [
    "d3 = {'name': 'Steve', 'age': 25, 'sex':'male', 'address': {'city':'shanghai', 'zip':'200433'}, 1:'note1', 2:'note2', '1':'xx1',  '2':'xx2' }\n",
    "d2 = {} # 空字典"
   ]
  },
  {
   "cell_type": "markdown",
   "id": "679abe34",
   "metadata": {},
   "source": [
    "#### 2.3.1 字典的创建与删除"
   ]
  },
  {
   "cell_type": "markdown",
   "id": "79e9c055",
   "metadata": {},
   "source": [
    "1. dict()函数\n",
    "* <b style=\"color: red;\">里面只能有一个元素！！！</b>"
   ]
  },
  {
   "cell_type": "code",
   "execution_count": 119,
   "id": "c9402bbe",
   "metadata": {},
   "outputs": [
    {
     "name": "stdout",
     "output_type": "stream",
     "text": [
      "{'one': 1, 'two': 2, 'three': 3}\n",
      "{'one': 1, 'two': 2}\n",
      "{'one': 1, 'two': 2, 'three': 3}\n",
      "{'one': 1, 'two': 2, 'three': 3}\n"
     ]
    }
   ],
   "source": [
    "# dict(iterable)函数，每个可迭代对象必须包含两个参数\n",
    "d1 = dict([['one', 1], ['two', 2], ['three', 3]])\n",
    "print(d1)\n",
    "d2 = dict((('one', 1), ('two', 2)))\n",
    "print(d2)\n",
    "d3 = dict(one=1, two=2, three=3) # keyvar=value，关键词参数创建新字典\n",
    "print(d3)\n",
    "z = zip(['one', 'two', 'three'], [1, 2, 3]) # z中元素都是元组\n",
    "d4 = dict(z)\n",
    "print(d4)"
   ]
  },
  {
   "cell_type": "markdown",
   "id": "8fa46846",
   "metadata": {},
   "source": [
    "2. dict类方法"
   ]
  },
  {
   "cell_type": "code",
   "execution_count": 105,
   "id": "fa1a3e12",
   "metadata": {},
   "outputs": [
    {
     "name": "stdout",
     "output_type": "stream",
     "text": [
      "{'name': None, 'sex': None, 'age': None}\n",
      "{'name': [1, 2, 3], 'sex': [1, 2, 3], 'age': [1, 2, 3]}\n",
      "{}\n",
      "{0: 10, 1: 10, 2: 10, 3: 10, 4: 10, 5: 10, 6: 10, 7: 10, 8: 10, 9: 10}\n",
      "10\n"
     ]
    }
   ],
   "source": [
    "d1 = dict.fromkeys(['name', 'sex', 'age']) # 缺省值为None\n",
    "print(d1)\n",
    "d2 = {}\n",
    "print(d2.fromkeys(['name', 'sex', 'age'], [1, 2, 3]))\n",
    "print(d2) # dict.fromkeys()只创建新字典，不保存\n",
    "\n",
    "d3 = dict.fromkeys(range(10), 10)\n",
    "print(d3)\n",
    "print(len(d3)) # 字典中元素个数\n",
    "del(d3) # 删除字典"
   ]
  },
  {
   "cell_type": "markdown",
   "id": "86ab8943",
   "metadata": {},
   "source": [
    "#### 2.3.2 字典元素的读取：下标"
   ]
  },
  {
   "cell_type": "code",
   "execution_count": 110,
   "id": "26740428",
   "metadata": {},
   "outputs": [
    {
     "name": "stdout",
     "output_type": "stream",
     "text": [
      "Dong\n"
     ]
    }
   ],
   "source": [
    "a = {'name': 'Dong', 'sex': 'male', 'age': 23}\n",
    "print(a['name'])"
   ]
  },
  {
   "cell_type": "markdown",
   "id": "aa0619d3",
   "metadata": {},
   "source": [
    "* 字典支持的操作"
   ]
  },
  {
   "cell_type": "code",
   "execution_count": 176,
   "id": "9e4862b0",
   "metadata": {},
   "outputs": [
    {
     "name": "stdout",
     "output_type": "stream",
     "text": [
      "1\n",
      "dict_keys(['one', 'two', 'three', 'four'])\n",
      "dict_values([1, 2, 3, None])\n",
      "dict_items([('one', 1), ('two', 2), ('three', 3), ('four', None)])\n",
      "True\n",
      "{'one': 1, 'two': 2, 'three': 3, 'four': 4}\n",
      "{'one': 1, 'two': 2, 'three': 3, 'four': 4, 'five': 5}\n",
      "{'one': 1, 'two': 2, 'three': 3, 'four': 4, 'five': 5, 'six': 6}\n",
      "{'one': 1, 'two': 2, 'three': 3, 'four': 4, 'five': 5}\n",
      "{'one': 1, 'two': 2, 'three': 3, 'four': 4}\n",
      "{'one': 1, 'two': 2, 'three': 3}\n",
      "{'one': 1, 'two': 2}\n",
      "{'one': 1, 'two': 2}\n",
      "{}\n"
     ]
    }
   ],
   "source": [
    "a = {'one': 1, 'two': 2, 'three': 3, 'four': None}\n",
    "# a = dict([['one', 1], ['two', 2], ['three', 3]])\n",
    "# a = dict(one=1, two=2, three=3)\n",
    "# a = dict(zip(['one', 'two', 'three'], [1, 2, 3]))\n",
    "\n",
    "print(a.get('one'))\n",
    "print(a.keys())\n",
    "print(a.values())\n",
    "print(a.items())\n",
    "print('one' in a) # key in dict\n",
    "a['four'] = 4 # 若不存在，直接添加\n",
    "print(a)\n",
    "a.setdefault('five', 5) # 添加新key, value或返回默认值，若省略[, default]，则默认添加value为None\n",
    "print(a)\n",
    "a.update({'six': 6}) # 添加新的key, value\n",
    "print(a)\n",
    "del(a['six'])\n",
    "print(a)\n",
    "a.popitem() # 移走并返回某一对key, value\n",
    "print(a)\n",
    "a.pop('four')\n",
    "print(a)\n",
    "a.pop('three', 3) # 若不存在，则返回value\n",
    "print(a)\n",
    "b = a.copy() # b是a的浅拷贝\n",
    "print(b)\n",
    "a.clear()\n",
    "print(a)"
   ]
  },
  {
   "cell_type": "markdown",
   "id": "f1333e6c",
   "metadata": {},
   "source": [
    "#### 2.3.2 字典元素的读取：get()"
   ]
  },
  {
   "cell_type": "code",
   "execution_count": 182,
   "id": "8b73279b",
   "metadata": {},
   "outputs": [
    {
     "name": "stdout",
     "output_type": "stream",
     "text": [
      "1\n",
      "5\n"
     ]
    }
   ],
   "source": [
    "a = {'one': 1, 'two': 2, 'three': 3, 'four': None}\n",
    "print(a.get('one'))\n",
    "print(a.get('five', 5)) # 不存在则返回value"
   ]
  },
  {
   "cell_type": "code",
   "execution_count": 186,
   "id": "a81c65db",
   "metadata": {},
   "outputs": [
    {
     "name": "stdout",
     "output_type": "stream",
     "text": [
      "{'one': 1, 'two': [98, 99]}\n"
     ]
    }
   ],
   "source": [
    "# 利用get()在字典中添加新的key, value\n",
    "a = {'one': 1}\n",
    "a['two'] = a.get('two', []) # 重要！！！\n",
    "a['two'].append(98)\n",
    "a['two'].append(99)\n",
    "print(a)"
   ]
  },
  {
   "cell_type": "markdown",
   "id": "acb8bb09",
   "metadata": {},
   "source": [
    "* a.keys(), a.values(), a.items, iter(a)都是可迭代对象"
   ]
  },
  {
   "cell_type": "code",
   "execution_count": 194,
   "id": "3606a9a6",
   "metadata": {},
   "outputs": [
    {
     "name": "stdout",
     "output_type": "stream",
     "text": [
      "('one', 1)\n",
      "('two', 2)\n",
      "('three', 3)\n",
      "one 1\n",
      "two 2\n",
      "three 3\n",
      "[('one', 1), ('two', 2), ('three', 3)]\n",
      "one\n",
      "two\n",
      "three\n"
     ]
    }
   ],
   "source": [
    "a = {'one': 1, 'two': 2, 'three':3}\n",
    "for items in a.items():\n",
    "    print(items)\n",
    "\n",
    "for m, n in a.items(): \n",
    "    print(m, n)\n",
    "    \n",
    "print(list(a.items()))\n",
    "\n",
    "for key in a.keys(): \n",
    "    print(key)"
   ]
  },
  {
   "cell_type": "markdown",
   "id": "ca808fe7",
   "metadata": {},
   "source": [
    "#### 2.3.3 字典元素的添加与修改"
   ]
  },
  {
   "cell_type": "code",
   "execution_count": 196,
   "id": "f0511a3b",
   "metadata": {},
   "outputs": [
    {
     "name": "stdout",
     "output_type": "stream",
     "text": [
      "{'one': 1, 'two': 2, 'three': 3, 'four': 4}\n"
     ]
    }
   ],
   "source": [
    "a = {'one': 1, 'two': 2, 'three': 3}\n",
    "a['four'] = 4\n",
    "print(a)"
   ]
  },
  {
   "cell_type": "markdown",
   "id": "aaa0d8bc",
   "metadata": {},
   "source": [
    "* 更新多个key, value用update()"
   ]
  },
  {
   "cell_type": "code",
   "execution_count": 204,
   "id": "c3c2d4bd",
   "metadata": {},
   "outputs": [
    {
     "name": "stdout",
     "output_type": "stream",
     "text": [
      "{'one': 2, 'two': 2, 'three': 3, 'four': 4}\n",
      "{'two': 2, 'three': 3, 'four': 4}\n"
     ]
    }
   ],
   "source": [
    "a = {'one': 1, 'two': 2, 'three': 3}\n",
    "a.update({'one': 2, 'four': 4})\n",
    "print(a)\n",
    "a.pop('one')\n",
    "print(a)"
   ]
  },
  {
   "cell_type": "markdown",
   "id": "3b682a40",
   "metadata": {},
   "source": [
    "#### 2.3.4 字典经典案例"
   ]
  },
  {
   "cell_type": "code",
   "execution_count": 209,
   "id": "53f95d53",
   "metadata": {},
   "outputs": [
    {
     "name": "stdout",
     "output_type": "stream",
     "text": [
      "\n",
      "可使用的字符集:\n",
      "abcdefghijklmnopqrstuvwxyzABCDEFGHIJKLMNOPQRSTUVWXYZ0123456789!\"#$%&'()*+,-./:;<=>?@[\\]^_`{|}~\n",
      "\n",
      "产生字符串为:\n",
      "{[\\UZ8p5g6EX'i6(n9<%*A8~sPGOoZ+_r6i_]UJ9'9FQ@Vfo=;M`fZo{->NyA'Z<kGvjE%dB^!:&fi*JLI~_p]v*GA.X2lpz7@uy=,dfHDu00<m%ib>9;/A+UD>W?-mB6IiYSx').Gmdwt'kId,#zG=J\\v7qP@itsx*g`d7v?)le5jGS<~m/F{y8It`'zgVV0Zfz=26Q+Y[H%<N6H3\\^OPRK*/\"J*WXQl!?jum~]DKpSX*T-6W;ej-ly3cP|d)K,yrP`q&>hHu#/BX+U}@$0>VoHE`Fomi<t%G><*,B\\Evt,.I5q|sh,2Q^e!,7~y=\"@|2X.pcwtc`<]&Ev]wZ]V[jev;|-yh:5ui[7;P[y&F3g'\\7t@Cwe{>g>sP[BU-G?R,L\\'F5:+:qYDPoEu1g$HI\"z1@H}[hO_quk+.jAO&}d6'3O5Yq_?C/K6Hd}^U/Sj'c^oQ`AGlZ8QD9ogPQJN>'Q\"1_:T7#z&an,1,ocnL[O%=E=+4pJccO2!4>G)J]_X>u53'eJEu>,CTm6SUjuDX3o0sC^oPJDq8r)7vp@6KD#48D|)UqZJ`AwI'a6(1T_BD#5OGq/;,3/z(I;.sb`{>CbXB0&J3Z9vO36SLCc9mya,U:*XP*BC!)|#[ga#=;QT$jDRpE{^#V)VzU:IZt`x/*]N&u*LPpzWY+|!&#D0vf/g*-=S,J9L01|>\"QD3@.J_d4)6{`t93Nq9k,`rDSpzMS4cthU7EvP'3T~2\".y=uZ+L@B$h>KLZ5)OqF0JFO[DQ3}WO@i82)Z\\:DLT7e}Am`6f-uK4z'kbqkX'y0cW>wDU6:geej8,)RY@&kmjomE3u`;.k4+BMTk>JP4(u1Qy$+RIusL'E/G*v(C5tN#'PvP~oL'9qMiu7:e+0IHj%JY3@)$OjX~|M5l%%^sTgD|Nz%mCioXGMLf:PZXao?,JfTi_Pj#&deCu2).P9|`w(\"iBj<INh/Ci.&E=RY8wromnjt96ay~=zp1<#CzY$E_*x9\n",
      "\n",
      "统计结果为:\n",
      "{'{': 7, '[': 10, '\\\\': 7, 'U': 12, 'Z': 14, '8': 9, 'p': 11, '5': 11, 'g': 11, '6': 17, 'E': 14, 'X': 14, \"'\": 19, 'i': 14, '(': 6, 'n': 4, '9': 14, '<': 10, '%': 10, '*': 15, 'A': 8, '~': 9, 's': 8, 'P': 19, 'G': 13, 'O': 13, 'o': 16, '+': 12, '_': 11, 'r': 5, ']': 8, 'J': 17, 'F': 7, 'Q': 12, '@': 13, 'V': 7, 'f': 9, '=': 12, ';': 9, 'M': 6, '`': 15, '-': 8, '>': 17, 'N': 8, 'y': 13, 'k': 9, 'v': 13, 'j': 16, 'd': 10, 'B': 11, '^': 8, '!': 6, ':': 11, '&': 12, 'L': 12, 'I': 12, '.': 11, '2': 8, 'l': 6, 'z': 14, '7': 11, 'u': 18, ',': 17, 'H': 9, 'D': 18, '0': 11, 'm': 13, 'b': 4, '/': 12, 'W': 6, '?': 6, 'Y': 9, 'S': 9, 'x': 4, ')': 14, 'w': 8, 't': 12, '#': 12, 'q': 13, 'e': 11, '3': 15, 'R': 6, 'K': 7, '\"': 7, 'T': 10, 'c': 10, '|': 11, 'h': 7, '}': 6, '$': 7, 'C': 12, '1': 8, 'a': 6, '4': 8}\n"
     ]
    }
   ],
   "source": [
    "import string\n",
    "import random\n",
    "x = string.ascii_letters + string.digits + string.punctuation\n",
    "print('\\n可使用的字符集:\\n', x, sep='',end='\\n')   \n",
    "y = [random.choice(x) for i in range(1000)]\n",
    "z = ''.join(y)\n",
    "d = dict()\n",
    "for ch in z: # 计数的循环\n",
    "    d[ch] = d.get(ch, 0) + 1 # 利get()累计增加value\n",
    "print('\\n产生字符串为:\\n',z,sep='',end='\\n')\n",
    "print('\\n统计结果为:\\n',d,sep='', end='\\n')"
   ]
  },
  {
   "cell_type": "code",
   "execution_count": 227,
   "id": "94f404e3",
   "metadata": {},
   "outputs": [
    {
     "name": "stdout",
     "output_type": "stream",
     "text": [
      "{'a': 3, 'b': 5, 'c': 8}\n",
      "OrderedDict([('a', 3), ('b', 5), ('c', 8)])\n"
     ]
    }
   ],
   "source": [
    "# 有序字典\n",
    "import collections\n",
    "a = dict()\n",
    "a['a'] = 3\n",
    "a['b'] = 5\n",
    "a['c'] = 8\n",
    "print(a)\n",
    "\n",
    "a['b'] = 5\n",
    "a['a'] = 3\n",
    "a['c'] = 8\n",
    "a = collections.OrderedDict(a) # 记住元素插入的顺序\n",
    "print(a)"
   ]
  },
  {
   "cell_type": "markdown",
   "id": "47dab868",
   "metadata": {},
   "source": [
    "#### 2.4 集合\n",
    "* 集合set是无序可变序列\n",
    "* 元素不重复，且无序"
   ]
  },
  {
   "cell_type": "code",
   "execution_count": 237,
   "id": "be603df0",
   "metadata": {},
   "outputs": [
    {
     "name": "stdout",
     "output_type": "stream",
     "text": [
      "{3, 5, 7}\n",
      "{8, 9, 10, 11}\n"
     ]
    }
   ],
   "source": [
    "a = {3, 7, 5, 5}\n",
    "print(a)\n",
    "# a = {3, [1, 2]} # 集合中必须是hash对象，即不可变对象\n",
    "b = set(range(8, 12))\n",
    "# 或者b = set(list(range(8, 12)))\n",
    "print(b)\n",
    "c = set() # 空集合"
   ]
  },
  {
   "cell_type": "markdown",
   "id": "eaef1669",
   "metadata": {},
   "source": [
    "#### 2.4.2 集合的运算"
   ]
  },
  {
   "cell_type": "code",
   "execution_count": 245,
   "id": "e069f5fd",
   "metadata": {},
   "outputs": [
    {
     "name": "stdout",
     "output_type": "stream",
     "text": [
      "{1, 2, 3, 4}\n",
      "{3}\n",
      "{1, 2}\n",
      "{1, 2, 4}\n",
      "False\n",
      "True\n",
      "True\n"
     ]
    }
   ],
   "source": [
    "s1 = {1, 2, 3}\n",
    "s2 = {3, 4}\n",
    "print(s1 | s2) # 并集 s1.union(s2)\n",
    "print(s1 & s2) # 交集 s1.interaction(s2)\n",
    "print(s1 - s2) # 差集 s1.difference(s2)\n",
    "print(s1^s2) # 对称差集 s1.symmetric_difference(s2)\n",
    "print(s1.isdisjoint(s2)) # 没有共同元素为True\n",
    "\n",
    "s3 = {3}\n",
    "print(s3.issubset(s1)) # s3是否为s1的子集\n",
    "print(s1.issuperset(s3)) # s1是否为s3的超集"
   ]
  },
  {
   "cell_type": "markdown",
   "id": "c78b1398",
   "metadata": {},
   "source": [
    "#### 2.4.2 集合的运算：比较运算和内置函数\n",
    "* 集合元素的更改：<b style=\"color: red;\">就是在所有命令后加一个_update()</b>"
   ]
  },
  {
   "cell_type": "code",
   "execution_count": 278,
   "id": "21e621b4",
   "metadata": {},
   "outputs": [
    {
     "name": "stdout",
     "output_type": "stream",
     "text": [
      "{3}\n",
      "{1, 2, 3, 4, 5}\n",
      "{2, 3, 4, 5}\n",
      "{2, 3, 4}\n",
      "2\n",
      "{3, 4}\n"
     ]
    }
   ],
   "source": [
    "s1 = {1, 2, 3}\n",
    "s2 = {3, 4, 5} # 如果没有重新声明，s1已经被改变，\n",
    "s1.intersection_update(s2) # 交集\n",
    "print(s1)\n",
    "\n",
    "s1 = {1, 2, 3}\n",
    "s2 = {3, 4, 5}\n",
    "s1.update(s2) # 并集\n",
    "print(s1)\n",
    "\n",
    "s1.remove(1) # 不存在抛异常KeyError\n",
    "print(s1)\n",
    "s1.discard(5) # 不存在抛不会抛异常\n",
    "print(s1)\n",
    "print(s1.pop()) # 从s1移除一个元素并返回，空时抛出异常KeyError\n",
    "print(s1)"
   ]
  },
  {
   "cell_type": "markdown",
   "id": "c1c9e56a",
   "metadata": {},
   "source": [
    "* 去除list重复元素\n",
    "  * <b style=\"color: red;\">注意这里.sort()和sorted()分别作用于set和dict</b>"
   ]
  },
  {
   "cell_type": "code",
   "execution_count": 311,
   "id": "076a9ace",
   "metadata": {},
   "outputs": [
    {
     "name": "stdout",
     "output_type": "stream",
     "text": [
      "[153, 827, 45, 179, 468, 433, 604, 16, 93, 854, 475, 457, 163, 92, 409, 152, 487, 994, 272, 825, 554, 403, 624, 203, 129, 651, 606, 25, 289, 249, 889, 749, 951, 915, 646, 667, 291, 382, 595, 617, 427, 513, 213, 54, 755, 570, 772, 807, 244, 318, 913, 108, 27, 603, 71, 22, 588, 769, 280, 471, 716, 622, 945, 143, 917, 120, 520, 987, 582, 598, 337, 536, 999, 124, 173, 578, 836, 515, 444, 286, 634, 172, 341, 508, 66, 315, 436, 333, 916, 282, 139, 64, 367, 245]\n",
      "[513, 515, 520, 16, 22, 536, 25, 27, 554, 45, 54, 570, 64, 578, 66, 582, 71, 588, 595, 598, 603, 92, 604, 93, 606, 617, 108, 622, 624, 120, 634, 124, 129, 646, 651, 139, 143, 152, 153, 667, 163, 172, 173, 179, 203, 716, 213, 749, 755, 244, 245, 249, 769, 772, 272, 280, 282, 286, 289, 291, 807, 825, 827, 315, 318, 836, 333, 337, 341, 854, 367, 889, 382, 913, 403, 915, 917, 916, 409, 427, 433, 945, 436, 951, 444, 457, 468, 471, 475, 987, 994, 487, 999, 508]\n",
      "[153, 827, 45, 179, 468, 433, 604, 16, 93, 854, 475, 457, 163, 92, 409, 152, 487, 994, 272, 825, 554, 403, 624, 203, 129, 651, 606, 25, 289, 249, 889, 749, 951, 915, 646, 667, 291, 382, 595, 617, 427, 513, 213, 54, 755, 570, 772, 807, 244, 318, 913, 108, 27, 603, 71, 22, 588, 769, 280, 471, 716, 622, 945, 143, 917, 120, 520, 987, 582, 598, 337, 536, 999, 124, 173, 578, 836, 515, 444, 286, 634, 172, 341, 508, 66, 315, 436, 333, 916, 282, 139, 64, 367, 245]\n",
      "dict_keys([153, 827, 45, 179, 468, 433, 604, 16, 93, 854, 475, 457, 163, 92, 409, 152, 487, 994, 272, 825, 554, 403, 624, 203, 129, 651, 606, 25, 289, 249, 889, 749, 951, 915, 646, 667, 291, 382, 595, 617, 427, 513, 213, 54, 755, 570, 772, 807, 244, 318, 913, 108, 27, 603, 71, 22, 588, 769, 280, 471, 716, 622, 945, 143, 917, 120, 520, 987, 582, 598, 337, 536, 999, 124, 173, 578, 836, 515, 444, 286, 634, 172, 341, 508, 66, 315, 436, 333, 916, 282, 139, 64, 367, 245])\n",
      "[153, 827, 45, 179, 468, 433, 604, 16, 93, 854, 475, 457, 163, 92, 409, 152, 487, 994, 272, 825, 554, 403, 624, 203, 129, 651, 606, 25, 289, 249, 889, 749, 951, 915, 646, 667, 291, 382, 595, 617, 427, 513, 213, 54, 755, 570, 772, 807, 244, 318, 913, 108, 27, 603, 71, 22, 588, 769, 280, 471, 716, 622, 945, 143, 917, 120, 520, 987, 582, 598, 337, 536, 999, 124, 173, 578, 836, 515, 444, 286, 634, 172, 341, 508, 66, 315, 436, 333, 916, 282, 139, 64, 367, 245]\n"
     ]
    }
   ],
   "source": [
    "import random\n",
    "listRandom = [random.choice(range(1000)) for i in range(100)]\n",
    "\n",
    "# 普通方法，利用列表\n",
    "noRepeat = []\n",
    "for i in listRandom :\n",
    "    if i not in noRepeat :\n",
    "         noRepeat.append(i)\n",
    "print(noRepeat)\n",
    "\n",
    "# 利用集合的性质，但不是原来顺序\n",
    "newSet = set(listRandom)\n",
    "noRepeat = list(newSet)\n",
    "print(noRepeat)\n",
    "\n",
    "## 用sort()恢复原本的顺序：集合set恢复顺序方法\n",
    "noRepeat.sort(key=listRandom.index)\n",
    "print(noRepeat)\n",
    "\n",
    "# 利用字典的性质，但不是原来顺序\n",
    "newDict = dict.fromkeys(listRandom)\n",
    "noRepeat = newDict.keys()\n",
    "print(noRepeat)\n",
    "\n",
    "## 用sort()恢复原本的顺序：字典dict恢复顺序方法\n",
    "newList = sorted(noRepeat, key = listRandom.index)\n",
    "print(newList)"
   ]
  },
  {
   "cell_type": "markdown",
   "id": "2e7bf568",
   "metadata": {},
   "source": [
    "#### 2.5 再谈内置方法sorted()\n",
    "* 列表对象提供了sort()方法支持原地排序，\n",
    "* 内置函数sorted()返回新的列表，可对元组、列表、字典等进行排序，借助于其key参数可以实现自定义的的排序。\n",
    "  * 调用key(value)返回的值来确定顺序\n",
    "  * 在这个示例中，sorted() 函数会遍历 persons 列表，并将每个元素（字典）传递给 sort_by_name_age 函数。sort_by_name_age 函数返回一个元组，由 name 和 -age 组成，用于排序。因此，列表会首先按 name 排序，如果 name 相同，则按 age 的降序排序"
   ]
  },
  {
   "cell_type": "code",
   "execution_count": 316,
   "id": "824988aa",
   "metadata": {
    "scrolled": true
   },
   "outputs": [
    {
     "name": "stdout",
     "output_type": "stream",
     "text": [
      "[{'name': 'Dong', 'age': 37}, {'name': 'Zhang', 'age': 40}, {'name': 'Li', 'age': 50}, {'name': 'Dong', 'age': 43}]\n",
      "[{'name': 'Dong', 'age': 43}, {'name': 'Dong', 'age': 37}, {'name': 'Li', 'age': 50}, {'name': 'Zhang', 'age': 40}]\n",
      "[{'name': 'Dong', 'age': 43}, {'name': 'Dong', 'age': 37}, {'name': 'Li', 'age': 50}, {'name': 'Zhang', 'age': 40}]\n"
     ]
    }
   ],
   "source": [
    "persons = [{'name':'Dong', 'age':37}, {'name':'Zhang', 'age':40}, {'name':'Li', 'age':50}, {'name':'Dong', 'age':43}]\n",
    "print(persons)\n",
    "\n",
    "# 使用key来指定排序依据，先按姓名升序排序，姓名相同的按年龄降序排序\n",
    "def sort_by_name_age(x):\n",
    "    return x['name'], -x['age'] \n",
    "print(sorted(persons, key=sort_by_name_age))\n",
    "\n",
    "# 可以使用lambda表达式\n",
    "print(sorted(persons, key=lambda x:(x['name'], -x['age'])))"
   ]
  },
  {
   "cell_type": "code",
   "execution_count": 329,
   "id": "a8456d35",
   "metadata": {},
   "outputs": [
    {
     "name": "stdout",
     "output_type": "stream",
     "text": [
      "Dong\n",
      "Zhang\n",
      "Li\n",
      "Dong\n"
     ]
    }
   ],
   "source": [
    "persons = [{'name':'Dong', 'age':37}, {'name':'Zhang', 'age':40}, {'name':'Li', 'age':50}, {'name':'Dong', 'age':43}]\n",
    "for i in persons:\n",
    "    print(i['name'])"
   ]
  }
 ],
 "metadata": {
  "kernelspec": {
   "display_name": "Python 3 (ipykernel)",
   "language": "python",
   "name": "python3"
  },
  "language_info": {
   "codemirror_mode": {
    "name": "ipython",
    "version": 3
   },
   "file_extension": ".py",
   "mimetype": "text/x-python",
   "name": "python",
   "nbconvert_exporter": "python",
   "pygments_lexer": "ipython3",
   "version": "3.11.5"
  }
 },
 "nbformat": 4,
 "nbformat_minor": 5
}
