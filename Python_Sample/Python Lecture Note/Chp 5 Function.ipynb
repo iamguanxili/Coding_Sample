{
 "cells": [
  {
   "cell_type": "markdown",
   "id": "9ef3c574",
   "metadata": {},
   "source": [
    "# Chp 5 函数"
   ]
  },
  {
   "cell_type": "markdown",
   "id": "ecf13c36",
   "metadata": {},
   "source": [
    "### 5.1函数定义与调用\n",
    "* 函数定义（声明）格式：\n",
    "  * def 函数名([形参列表]): \\n\\t '''注释''' \\n\\t 函数体\n",
    "* 函数调用：\n",
    "  * 函数名([实参列表])\n",
    "* 注意：\n",
    "  * 函数名命名规则为全小写字母，可以用下划线增加阅读性，如my_func\n",
    "  * 形参列表用()括起来，一个函数可以没有形参,表示不需要接收任何参数,但是括弧必须要有\n",
    "  * 括号后面的冒号必不可少,然后换行\n",
    "  * 函数体相对于def关键字必须保持一定的空格缩进，是函数执行的代码块\n",
    "  * 函数可以返回值，也可以不返回。如果函数体中包含return语句，则返回值，否则不返回，即返回值为空（None）\n",
    "  * 函数调用时，根据需要，可指定实际传入的参数值"
   ]
  },
  {
   "cell_type": "code",
   "execution_count": 79,
   "id": "85895376",
   "metadata": {},
   "outputs": [
    {
     "name": "stdout",
     "output_type": "stream",
     "text": [
      "1 1 2 3 5 8 13 21 34 55 89 144 233 377 610 987 \n"
     ]
    }
   ],
   "source": [
    "# 1000以内的Fibonacci数列\n",
    "def fib(n):\n",
    "    '''accept an integer n.\n",
    "        return the numbers less than n \n",
    "        in Fibonacci sequence.'''\n",
    "    a, b = 1, 1\n",
    "    while a < n:\n",
    "        print(a, end=' ')\n",
    "        a, b = b, a+b\n",
    "    print()    \n",
    "fib(1000) # 函数调用"
   ]
  },
  {
   "cell_type": "markdown",
   "id": "98181a10",
   "metadata": {},
   "source": [
    "### 5.2 形参与实参\n",
    "* 定义函数时，对参数个数没有限制，如有多个形参，则需要使用逗号进行分隔"
   ]
  },
  {
   "cell_type": "code",
   "execution_count": 81,
   "id": "449d2cbf",
   "metadata": {},
   "outputs": [
    {
     "name": "stdout",
     "output_type": "stream",
     "text": [
      "4 is bigger\n"
     ]
    }
   ],
   "source": [
    "# 输出较大的那个数\n",
    "def bigger(a, b): \n",
    "    if a > b: \n",
    "        print(a, 'is bigger')\n",
    "    else: \n",
    "        print(b, 'is bigger')\n",
    "bigger(3, 4)\n",
    "# 注意：这个程序并不是很好，如果输入的参数不支持比较运算，会出错"
   ]
  },
  {
   "cell_type": "markdown",
   "id": "9b99152e",
   "metadata": {},
   "source": [
    "* 函数调用时向其传递实参，将实参的值或引用传递给形参。\n",
    "* 绝大多数情况下，在函数内部直接修改形参的值不会影响实参"
   ]
  },
  {
   "cell_type": "code",
   "execution_count": 84,
   "id": "364df656",
   "metadata": {},
   "outputs": [
    {
     "name": "stdout",
     "output_type": "stream",
     "text": [
      "3\n",
      "4\n",
      "<re.Match object; span=(0, 12), match='1231-1234567'>\n"
     ]
    }
   ],
   "source": [
    "def addone(a): \n",
    "    print(a)\n",
    "    a += 1\n",
    "    print(a)\n",
    "addone(3)\n",
    "print(a)"
   ]
  },
  {
   "cell_type": "markdown",
   "id": "7a4c5057",
   "metadata": {},
   "source": [
    "* 在有些情况下，可以通过特殊的方式在函数内部修改实参的值\n",
    "  * 注意：如果传递给函数的是Python可变序列，并且在函数内部使用下标或其他方式为可变序列增加、删除元素或修改元素值时，可以使得实参得到相应的修改"
   ]
  },
  {
   "cell_type": "code",
   "execution_count": 89,
   "id": "3bc7ee03",
   "metadata": {},
   "outputs": [
    {
     "name": "stdout",
     "output_type": "stream",
     "text": [
      "[3]\n",
      "[2, 3]\n",
      "{'name': 'Dong', 'age': 38, 'sex': 'male'}\n"
     ]
    }
   ],
   "source": [
    "# 1.修改列表元素值\n",
    "def modify(v): #修改列表元素值\n",
    "    v[0] = v[0]+1\n",
    "a = [2]\n",
    "modify(a)\n",
    "print(a)\n",
    "\n",
    "# 2.为列表增加元素\n",
    "def addone(v, item): \n",
    "    v.append(item)\n",
    "a = [2]\n",
    "addone(a, 3)\n",
    "print(a)\n",
    "\n",
    "# 3.修改字典元素值或为字典添加元素\n",
    "def modify(d): \n",
    "    d['age'] = 38\n",
    "a = {'name': 'Dong', 'age': 37, 'sex': 'male'}\n",
    "modify(a)\n",
    "print(a)"
   ]
  },
  {
   "cell_type": "markdown",
   "id": "bbd4b773",
   "metadata": {},
   "source": [
    "### 5.3 参数类型\n",
    "* 在Python中，函数参数有很多种：\n",
    "  * 普通参数\n",
    "  * 默认值参数\n",
    "  * 关键参数\n",
    "  * 可变长度参数等等。\n",
    "* Python函数的定义非常灵活，在定义函数时不需要指定参数的类型，形参的类型完全由调用者传递的实参类型以及Python解释器的理解和推断来决定，类似于重载和泛型；\n",
    "* 函数编写如果有问题，只有在调用时才能被发现，传递某些参数时执行正确，而传递另一些类型的参数时则出现错误\n",
    "\n",
    "#### 5.3.1 默认值参数\n",
    "* Python在定义函数时，支持默认值参数，即可为形参设置默认值。\n",
    "  * def 函数名(……，形参名=默认值) \\n \\t 函数体\n",
    "* 调用带有默认值参数的函数时，可以不对默认值参数进行赋值，也可以赋值，具有较大的灵活性。\n",
    "* 使用“函数名.__defaults__”以元组的形式查看函数所有默认值参数的当前值"
   ]
  },
  {
   "cell_type": "code",
   "execution_count": 101,
   "id": "9d494007",
   "metadata": {},
   "outputs": [
    {
     "name": "stdout",
     "output_type": "stream",
     "text": [
      "hello\n",
      "None\n",
      "hellohellohello\n",
      "None\n",
      "hihihihihihihi\n",
      "None\n",
      "(1,)\n"
     ]
    }
   ],
   "source": [
    "def say(message, times = 1):\n",
    "    print (message * times)        \n",
    "print(say('hello')) # 不为默认值参数传值\n",
    "\n",
    "print(say('hello', 3)) # 使用调用者显示传递的值\n",
    "\n",
    "print(say('hi',7)) # 使用调用者显示传递的值\n",
    "\n",
    "print(say.__defaults__) # 默认值为1，且为元组，单元素的元组为(x,)"
   ]
  },
  {
   "cell_type": "markdown",
   "id": "6c57328a",
   "metadata": {},
   "source": [
    "* 默认值参数必须出现在函数参数列表的最右端，且任何一个默认值参数右边不能有非默认值参数"
   ]
  },
  {
   "cell_type": "code",
   "execution_count": 93,
   "id": "82715721",
   "metadata": {},
   "outputs": [
    {
     "ename": "SyntaxError",
     "evalue": "non-default argument follows default argument (601263644.py, line 1)",
     "output_type": "error",
     "traceback": [
      "\u001b[0;36m  Cell \u001b[0;32mIn[93], line 1\u001b[0;36m\u001b[0m\n\u001b[0;31m    def f(a=3, b, c=5):\u001b[0m\n\u001b[0m               ^\u001b[0m\n\u001b[0;31mSyntaxError\u001b[0m\u001b[0;31m:\u001b[0m non-default argument follows default argument\n"
     ]
    }
   ],
   "source": [
    "# 错误1\n",
    "def f(a=3, b, c=5): \n",
    "    print(a, b, c)"
   ]
  },
  {
   "cell_type": "code",
   "execution_count": 94,
   "id": "34e4efb3",
   "metadata": {},
   "outputs": [
    {
     "ename": "SyntaxError",
     "evalue": "non-default argument follows default argument (3522320775.py, line 2)",
     "output_type": "error",
     "traceback": [
      "\u001b[0;36m  Cell \u001b[0;32mIn[94], line 2\u001b[0;36m\u001b[0m\n\u001b[0;31m    def f(a=3, b):\u001b[0m\n\u001b[0m               ^\u001b[0m\n\u001b[0;31mSyntaxError\u001b[0m\u001b[0;31m:\u001b[0m non-default argument follows default argument\n"
     ]
    }
   ],
   "source": [
    "# 错误2\n",
    "def f(a=3, b): \n",
    "    print(a, b)"
   ]
  },
  {
   "cell_type": "code",
   "execution_count": 95,
   "id": "7f289cec",
   "metadata": {},
   "outputs": [],
   "source": [
    "# 正确\n",
    "def f(a, b, c=3): \n",
    "    print(a, b, c)"
   ]
  },
  {
   "cell_type": "markdown",
   "id": "22ceb1e2",
   "metadata": {},
   "source": [
    "* 例：使用指定分隔符将列表中所有字符串元素连接成一个字符串，默认空格"
   ]
  },
  {
   "cell_type": "code",
   "execution_count": 97,
   "id": "7ea51446",
   "metadata": {},
   "outputs": [
    {
     "name": "stdout",
     "output_type": "stream",
     "text": [
      "a b c\n",
      "a,b,c\n"
     ]
    }
   ],
   "source": [
    "def Join(List, sep = None): \n",
    "    return (sep or ' ').join(List)\n",
    "aList = ['a', 'b', 'c']\n",
    "print(Join(aList))\n",
    "print(Join(aList, ','))"
   ]
  },
  {
   "cell_type": "markdown",
   "id": "37ac8c30",
   "metadata": {},
   "source": [
    "* 默认值参数如果使用不当，会导致很难发现的逻辑错误\n",
    "  * 注意：多次调用函数并且不为默认值参数传递值时，默认值参数值用在第一次调用时进行解释，可以使用函数名.\\_\\_defaults\\_\\_查看默认参数的当前值。<b style=\"color: red;\">如何修改？见下例。</b>"
   ]
  },
  {
   "cell_type": "code",
   "execution_count": 103,
   "id": "2d09cf95",
   "metadata": {},
   "outputs": [
    {
     "name": "stdout",
     "output_type": "stream",
     "text": [
      "[1, 2, 3, 4, '5']\n",
      "['a', 'b', 'aaa']\n",
      "['a']\n",
      "['a', 'b']\n",
      "(['a', 'b'],)\n"
     ]
    }
   ],
   "source": [
    "def demo(newitem,old_list=[]):\n",
    "    old_list.append(newitem)\n",
    "    return old_list\n",
    "print(demo('5',[1,2,3,4])) # right\n",
    "\n",
    "print(demo('aaa',['a','b'])) # right\n",
    "\n",
    "print(demo('a') ) # right\n",
    "\n",
    "print(demo('b'))\n",
    "\n",
    "print(demo.__defaults__) # 注意这里的默认值已经被修改为(['a', 'b'],)，不像前例那样函数定义中就设定了默认值"
   ]
  },
  {
   "cell_type": "markdown",
   "id": "29c454a5",
   "metadata": {},
   "source": [
    "* 修改后，可以这么理解，当一个函数有一个默认参数，并且默认参数是空的可变类型时（dict和list），该可变类型只初始化一次，之后的每次操作，都在前一次的操作基础上操作。但是对于默认参数是不可变的类型时（tuple和字符串和数字），不会有这种情况"
   ]
  },
  {
   "cell_type": "code",
   "execution_count": 116,
   "id": "b9c07fcf",
   "metadata": {},
   "outputs": [
    {
     "name": "stdout",
     "output_type": "stream",
     "text": [
      "[1, 2, 3, 4, '5']\n",
      "['a', 'b', 'aaa']\n",
      "['a']\n",
      "(None,)\n",
      "['b']\n"
     ]
    }
   ],
   "source": [
    "# 修改程序如下：\n",
    "def demo(newitem,old_list=None):\n",
    "    if old_list is None:\n",
    "        old_list=[]\n",
    "    old_list.append(newitem)\n",
    "    return old_list\n",
    "print(demo('5',[1,2,3,4]))  #right\n",
    "print(demo('aaa',['a','b']))  #right\n",
    "print(demo('a'))   #right\n",
    "print(demo.__defaults__) # 这里默认值就始终不会被修改 \n",
    "print(demo('b'))"
   ]
  },
  {
   "cell_type": "markdown",
   "id": "1bf4f0d6",
   "metadata": {},
   "source": [
    "#### 5.3.2 关键参数\n",
    "* 关键参数主要指实参，即调用函数时的参数传递方式。\n",
    "* 通过关键参数可以按参数名字传递值，实参顺序可以和形参顺序不一致，但不影响传递结果，避免了用户需要牢记位置参数顺序的麻烦。"
   ]
  },
  {
   "cell_type": "code",
   "execution_count": 124,
   "id": "9867ae62",
   "metadata": {},
   "outputs": [
    {
     "name": "stdout",
     "output_type": "stream",
     "text": [
      "3 7 5\n",
      "7 3 6\n",
      "9 0 8\n",
      "3 7 5\n",
      "None\n",
      "(3, 7, 5)\n"
     ]
    }
   ],
   "source": [
    "def demo(a,b,c=5): \n",
    "    print(a,b,c)\n",
    "\n",
    "demo(3,7)\n",
    "demo(a=7,b=3,c=6)\n",
    "demo(c=8,a=9,b=0)\n",
    "print(demo(3, 7)) # demo()没有返回值，默认返回None，故print(demo())输出为None\n",
    "\n",
    "def momo(a, b, c=5): \n",
    "    return a, b, c\n",
    "print(momo(3, 7)) # 这样就不会返回None了"
   ]
  },
  {
   "cell_type": "markdown",
   "id": "d1b934e9",
   "metadata": {},
   "source": [
    "#### 5.3.3 可变长度参数\n",
    "* 可变长度参数在定义函数时主要有两种形式：\n",
    "  * \\*parameter：接收多个实参并将其放在一个<b style=\"color: red;\">元组</b>中\n",
    "  * \\*\\*parameter：接收<b style=\"color: red;\">字典形式</b>的实参"
   ]
  },
  {
   "cell_type": "code",
   "execution_count": 125,
   "id": "54bd886f",
   "metadata": {},
   "outputs": [
    {
     "name": "stdout",
     "output_type": "stream",
     "text": [
      "(1, 2, 3)\n",
      "(1, 2)\n",
      "(1, 2, 3, 4, 5, 6, 7)\n",
      "('x', 1)\n",
      "('y', 2)\n",
      "('z', 3)\n"
     ]
    }
   ],
   "source": [
    "# 1.*parameter无论调用该函数时传递了多少实参，一律将其放在元组中\n",
    "def demo(*p):\n",
    "    print (p)\n",
    "\n",
    "demo(1,2,3)\n",
    "\n",
    "demo(1,2)\n",
    "\n",
    "demo(1,2,3,4,5,6,7)\n",
    "\n",
    "# 2.**parameter调用该函数时自动将接收的参数转换为字典\n",
    "def demo(**p):\n",
    "    for item in p.items():\n",
    "        print(item)\n",
    "\n",
    "demo(x=1,y=2,z=3)"
   ]
  },
  {
   "cell_type": "markdown",
   "id": "93c0f3c9",
   "metadata": {},
   "source": [
    "* 几种不同类型的参数可以混合使用,但是不建议这样做,易导致代码混乱而严重降低可读性，可能导致查错非常困难"
   ]
  },
  {
   "cell_type": "code",
   "execution_count": 126,
   "id": "6af13eaa",
   "metadata": {},
   "outputs": [
    {
     "name": "stdout",
     "output_type": "stream",
     "text": [
      "1 2 3\n",
      "(4, 5, 6, 7, 8, 9)\n",
      "{'xx': '1', 'yy': '2', 'zz': 3}\n",
      "1 2 3\n",
      "(4, 5, 6, 7)\n",
      "{'xx': '1', 'yy': '2', 'zz': 3}\n"
     ]
    }
   ],
   "source": [
    "def func_4(a,b,c=4,*aa,**bb):\n",
    "    print(a,b,c)\n",
    "    print(aa)\n",
    "    print(bb)\n",
    "\n",
    "func_4(1,2,3,4,5,6,7,8,9, xx='1', yy='2', zz=3)\n",
    "\n",
    "func_4(1,2,3,4,5,6,7,xx='1',yy='2',zz=3)"
   ]
  },
  {
   "cell_type": "markdown",
   "id": "a689c542",
   "metadata": {},
   "source": [
    "#### 5.3.4 参数传递的序列解包\n",
    "* 为含有多个变量的函数传递参数时，可以使用Python列表、元组、集合、字典以及其他可迭代对象作为实参，并在实参名称前加一个星号*，Python解释器将自动进行解包"
   ]
  },
  {
   "cell_type": "code",
   "execution_count": 129,
   "id": "806d16d7",
   "metadata": {},
   "outputs": [
    {
     "name": "stdout",
     "output_type": "stream",
     "text": [
      "6\n",
      "6\n",
      "6\n",
      "6\n",
      "abc\n"
     ]
    }
   ],
   "source": [
    "def demo(a,b,c):\n",
    "    print (a+b+c)\n",
    "seq=[1,2,3]\n",
    "demo(*seq)\n",
    "\n",
    "tup=(1,2,3)\n",
    "demo(*tup)\n",
    "\n",
    "dic={1:'a',2:'b',3:'c'}\n",
    "demo(*dic)\n",
    "\n",
    "set={1,2,3}\n",
    "demo(*set)\n",
    "\n",
    "demo(*dic.values())"
   ]
  },
  {
   "cell_type": "markdown",
   "id": "d6e5a1df",
   "metadata": {},
   "source": [
    "### 5.4 return语句\n",
    "* return语句用于从一个函数中返回并结束函数的执行，同时还可以通过其从函数中返回一个值。\n",
    "* 无论return语句出现在函数的什么位置，一旦得到执行将直接结束函数的执行。\n",
    "* 函数的返回值类型由return语句返回值的类型来决定\n",
    "* 如果函数没有return语句或者没有执行return语句，执行了不带任何值的return语句，则函数都默认为返回空值None。"
   ]
  },
  {
   "cell_type": "code",
   "execution_count": 130,
   "id": "aff324ef",
   "metadata": {},
   "outputs": [
    {
     "name": "stdout",
     "output_type": "stream",
     "text": [
      "4\n"
     ]
    }
   ],
   "source": [
    "def maximum( x, y ):\n",
    "    if x>y:\n",
    "        return x\n",
    "    else:\n",
    "        return y\n",
    "\n",
    "theMax = maximum(3,4)\n",
    "print(theMax)"
   ]
  },
  {
   "cell_type": "markdown",
   "id": "2fc11f1f",
   "metadata": {},
   "source": [
    "* 在调用内置数据类型的方法时，一定要注意该方法有没有返回值"
   ]
  },
  {
   "cell_type": "code",
   "execution_count": 133,
   "id": "959280bc",
   "metadata": {},
   "outputs": [
    {
     "name": "stdout",
     "output_type": "stream",
     "text": [
      "[1, 2, 3, 4, 5, 7, 9]\n",
      "[1, 2, 3, 4, 9, 5, 7]\n",
      "None\n",
      "[1, 2, 3, 4, 5, 7, 9]\n"
     ]
    }
   ],
   "source": [
    "# 1.有返回值\n",
    "a_list = [1,2,3,4,9,5,7]\n",
    "print(sorted(a_list))\n",
    "\n",
    "print(a_list)\n",
    "\n",
    "# 2.无返回值\n",
    "a_list = [1,2,3,4,9,5,7]\n",
    "print(a_list.sort()) # 无返回值\n",
    "\n",
    "print(a_list)"
   ]
  },
  {
   "cell_type": "markdown",
   "id": "4b583664",
   "metadata": {},
   "source": [
    "### 5.5 变量作用域\n",
    "* 变量起作用的范围称为变量作用域。\n",
    "* 一个变量在函数外部定义和在函数内部定义，其作用域是不同的:\n",
    "  * 局部变量\n",
    "  * 全局变量\n",
    "* 局部变量的引用比全局变量速度快。"
   ]
  },
  {
   "cell_type": "markdown",
   "id": "788c32a4",
   "metadata": {},
   "source": [
    "#### 5.5.1 局部变量\n",
    "* 局部变量在函数内定义的变量只在该函数内起作用\n",
    "* 函数结束时，其局部变量被自动删除"
   ]
  },
  {
   "cell_type": "code",
   "execution_count": 135,
   "id": "96613c38",
   "metadata": {},
   "outputs": [
    {
     "name": "stdout",
     "output_type": "stream",
     "text": [
      "3 4\n"
     ]
    },
    {
     "ename": "NameError",
     "evalue": "name 'x' is not defined",
     "output_type": "error",
     "traceback": [
      "\u001b[0;31m---------------------------------------------------------------------------\u001b[0m",
      "\u001b[0;31mNameError\u001b[0m                                 Traceback (most recent call last)",
      "Cell \u001b[0;32mIn[135], line 7\u001b[0m\n\u001b[1;32m      4\u001b[0m     \u001b[38;5;28mprint\u001b[39m(x,y)\n\u001b[1;32m      5\u001b[0m demo()\n\u001b[0;32m----> 7\u001b[0m \u001b[38;5;28mprint\u001b[39m(x, y)\n",
      "\u001b[0;31mNameError\u001b[0m: name 'x' is not defined"
     ]
    }
   ],
   "source": [
    "def demo():\n",
    "    x = 3\n",
    "    y = 4\n",
    "    print(x,y)\n",
    "demo()\n",
    "\n",
    "print(x, y)"
   ]
  },
  {
   "cell_type": "markdown",
   "id": "4949e91d",
   "metadata": {},
   "source": [
    "#### 5.5.2 全局变量\n",
    "* 全局变量：其作用域为全局的，能够同时作用于函数内外，通过global来定义。\n",
    "  * 一个变量已在函数外定义，如果在函数内需要为这个变量赋值，并要将这个赋值结果反映到函数外，可以在函数内用global声明这个变量，将其定义为全局变量。\n",
    "  * 在函数内部直接将一个变量声明为全局变量，在函数外没有声明，在调用这个函数之后，将增加为新的全局变量。"
   ]
  },
  {
   "cell_type": "code",
   "execution_count": 137,
   "id": "446616e3",
   "metadata": {},
   "outputs": [
    {
     "name": "stdout",
     "output_type": "stream",
     "text": [
      "3 4\n",
      "3\n"
     ]
    },
    {
     "ename": "NameError",
     "evalue": "name 'y' is not defined",
     "output_type": "error",
     "traceback": [
      "\u001b[0;31m---------------------------------------------------------------------------\u001b[0m",
      "\u001b[0;31mNameError\u001b[0m                                 Traceback (most recent call last)",
      "Cell \u001b[0;32mIn[137], line 12\u001b[0m\n\u001b[1;32m      8\u001b[0m demo()\n\u001b[1;32m     10\u001b[0m \u001b[38;5;28mprint\u001b[39m(x)\n\u001b[0;32m---> 12\u001b[0m \u001b[38;5;28mprint\u001b[39m(y)\n",
      "\u001b[0;31mNameError\u001b[0m: name 'y' is not defined"
     ]
    }
   ],
   "source": [
    "# 外部声明\n",
    "x = 5\n",
    "def demo():\n",
    "    global x\n",
    "    x = 3\n",
    "    y = 4\n",
    "    print( x,y)\n",
    "demo()\n",
    "\n",
    "print(x)\n",
    "\n",
    "print(y)"
   ]
  },
  {
   "cell_type": "code",
   "execution_count": 138,
   "id": "3fec2cbc",
   "metadata": {},
   "outputs": [
    {
     "name": "stdout",
     "output_type": "stream",
     "text": [
      "3 4\n",
      "3\n"
     ]
    }
   ],
   "source": [
    "# 内部声明\n",
    "def demo():\n",
    "    global x\n",
    "    x = 3\n",
    "    y = 4\n",
    "    print( x,y)\n",
    "\n",
    "demo()\n",
    "\n",
    "print(x)"
   ]
  },
  {
   "cell_type": "markdown",
   "id": "2f47d432",
   "metadata": {},
   "source": [
    "* 示例"
   ]
  },
  {
   "cell_type": "code",
   "execution_count": 144,
   "id": "dfdf9f0e",
   "metadata": {},
   "outputs": [
    {
     "name": "stdout",
     "output_type": "stream",
     "text": [
      "module pi = 3.141592653589793\n",
      "module e= 2.718281828459045\n",
      "global pi = 3.14\n",
      "local e= 2.718\n",
      "module pi = 3.14\n",
      "module e= 2.718281828459045\n"
     ]
    }
   ],
   "source": [
    "pi = 3.141592653589793\n",
    "e = 2.718281828459045\n",
    "def my_func():\n",
    "    global pi \n",
    "    pi = 3.14\n",
    "    print('global pi =',pi)\n",
    "    e = 2.718\n",
    "    print('local e=',e)\n",
    "print('module pi =', pi)\n",
    "print('module e=', e)\n",
    "my_func()\n",
    "print('module pi =', pi) # 全局变量\n",
    "print('module e=', e) # 局部变量"
   ]
  },
  {
   "cell_type": "markdown",
   "id": "0b98a00d",
   "metadata": {},
   "source": [
    "### 5.6 lambda表达式（自学）"
   ]
  },
  {
   "cell_type": "markdown",
   "id": "026df095",
   "metadata": {},
   "source": [
    "### 5.7 案例精选"
   ]
  },
  {
   "cell_type": "markdown",
   "id": "6012940b",
   "metadata": {},
   "source": [
    "例1：编写函数计算圆的面积"
   ]
  },
  {
   "cell_type": "code",
   "execution_count": 145,
   "id": "24d63b9d",
   "metadata": {},
   "outputs": [
    {
     "name": "stdout",
     "output_type": "stream",
     "text": [
      "Radius: 2\n",
      "12.566370614359172\n"
     ]
    }
   ],
   "source": [
    "from math import pi as PI\n",
    "def circleArea(r): \n",
    "    if isinstance(r, int) or isinstance(r, float): \n",
    "        return PI*r*r\n",
    "    else: \n",
    "        print('Please correctly input an interger or a float as radius.')\n",
    "a = eval(input('Radius: '))\n",
    "print(circleArea(a))"
   ]
  },
  {
   "cell_type": "markdown",
   "id": "7ad4a913",
   "metadata": {},
   "source": [
    "例2：编写函数，接收任意多个实数，返回一个元组，其中第一个元素为所有参数的平均值，其他元素为所有参数中大于平均值的实数"
   ]
  },
  {
   "cell_type": "code",
   "execution_count": 150,
   "id": "3601bc5f",
   "metadata": {},
   "outputs": [
    {
     "name": "stdout",
     "output_type": "stream",
     "text": [
      "(2.5, 3, 4)\n"
     ]
    }
   ],
   "source": [
    "def demo(*para): \n",
    "    avg = sum(para)/len(para)\n",
    "    g = [i for i in para if i > avg]\n",
    "    return (avg, ) + tuple(g) # 注意这里(avg)中要加‘,’!!!\n",
    "print(demo(1, 2, 3, 4))"
   ]
  },
  {
   "cell_type": "markdown",
   "id": "707ba577",
   "metadata": {},
   "source": [
    "例3：编写函数，接收字符串参数，返回一个元组，其中第一个元素为大写字母个数，第二个元素为小写字母个数"
   ]
  },
  {
   "cell_type": "code",
   "execution_count": 154,
   "id": "eb35ac49",
   "metadata": {},
   "outputs": [
    {
     "name": "stdout",
     "output_type": "stream",
     "text": [
      "[4, 4]\n"
     ]
    }
   ],
   "source": [
    "def demo(s): \n",
    "    a = [0, 0]\n",
    "    for ch in s: \n",
    "        if 'a' <= ch <= 'z': \n",
    "            a[1] += 1\n",
    "        if 'A' <= ch <= 'Z': \n",
    "            a[0] += 1\n",
    "    return a\n",
    "print(demo('abcdABCD'))"
   ]
  },
  {
   "cell_type": "markdown",
   "id": "969be572",
   "metadata": {},
   "source": [
    "例4：编写函数，接收包含20个整数的列表lst和一个整数k作为参数，返回新列表。处理规则为：将列表lst中下标k之前的元素逆序，下标k之后的元素逆序，然后将整个列表lst中的所有元素逆序"
   ]
  },
  {
   "cell_type": "code",
   "execution_count": 156,
   "id": "076afb1b",
   "metadata": {},
   "outputs": [
    {
     "name": "stdout",
     "output_type": "stream",
     "text": [
      "[1, 2, 3, 4, 5, 6, 7, 8, 9, 10, 11, 12, 13, 14, 15, 16, 17, 18, 19]\n",
      "[7, 8, 9, 10, 11, 12, 13, 14, 15, 16, 17, 18, 19, 1, 2, 3, 4, 5, 6]\n"
     ]
    }
   ],
   "source": [
    "def demo(lst, k): \n",
    "    x = lst[:k]\n",
    "    x.reverse()\n",
    "    y = lst[k:]\n",
    "    y.reverse()\n",
    "    z = x + y\n",
    "    z.reverse()\n",
    "    return z\n",
    "a = list(range(1, 20))\n",
    "print(a)\n",
    "print(demo(a, 6))"
   ]
  },
  {
   "cell_type": "markdown",
   "id": "986c6219",
   "metadata": {},
   "source": [
    "例5：编写函数，接收整数参数t，返回斐波那契数列中大于t的第一个数"
   ]
  },
  {
   "cell_type": "code",
   "execution_count": 165,
   "id": "970e2f34",
   "metadata": {},
   "outputs": [
    {
     "name": "stdout",
     "output_type": "stream",
     "text": [
      "55\n"
     ]
    }
   ],
   "source": [
    "def demo(t): \n",
    "    a, b = 1, 1\n",
    "    while b < t: # 这里是while\n",
    "        a, b = b, a+b\n",
    "    else: \n",
    "        return b\n",
    "print(demo(50))\n",
    "# 将判断条件与返值中的b修改为a结果也相同，只不过计算量多了1次"
   ]
  },
  {
   "cell_type": "markdown",
   "id": "9ee854b5",
   "metadata": {},
   "source": [
    "例6：编写函数，接收一个包含若干整数的列表参数lst，返回一个元组，其中第一个元素为列表lst中的最小值，其余元素为最小值在列表lst中的下标"
   ]
  },
  {
   "cell_type": "code",
   "execution_count": 167,
   "id": "4fdab1eb",
   "metadata": {},
   "outputs": [
    {
     "name": "stdout",
     "output_type": "stream",
     "text": [
      "[6, 20, 20, 14, 6, 14, 14, 16, 12, 8, 8, 17, 3, 15, 16, 8, 7, 9, 18, 15, 2, 18, 2, 4, 12, 18, 6, 7, 13, 12, 19, 6, 13, 8, 9, 11, 6, 9, 20, 13, 11, 6, 3, 3, 13, 15, 6, 19, 11, 15]\n",
      "(2, 20, 22)\n"
     ]
    }
   ],
   "source": [
    "import random\n",
    "def demo(lst): \n",
    "    a = min(lst)\n",
    "    result = (a, )\n",
    "    for index, value in enumerate(lst): \n",
    "        if value == a: \n",
    "            result = result + (index,)\n",
    "    return result\n",
    "x = [random.randint(1, 20) for i in range(50)]\n",
    "print(x)\n",
    "print(demo(x))"
   ]
  },
  {
   "cell_type": "markdown",
   "id": "a0033389",
   "metadata": {},
   "source": [
    "例7：编写函数，接收一个整数t为参数，打印杨辉三角前t行"
   ]
  },
  {
   "cell_type": "code",
   "execution_count": 189,
   "id": "8fe7f83e",
   "metadata": {},
   "outputs": [
    {
     "name": "stdout",
     "output_type": "stream",
     "text": [
      "[1]\n",
      "[1, 1]\n",
      "[1, 2, 1]\n",
      "[1, 3, 3, 1]\n",
      "[1, 4, 6, 4, 1]\n",
      "[1, 5, 10, 10, 5, 1]\n",
      "[1, 6, 15, 20, 15, 6, 1]\n",
      "[1, 7, 21, 35, 35, 21, 7, 1]\n",
      "[1, 8, 28, 56, 70, 56, 28, 8, 1]\n",
      "[1, 9, 36, 84, 126, 126, 84, 36, 9, 1]\n"
     ]
    }
   ],
   "source": [
    "def demo(t): \n",
    "    print([1])\n",
    "    print([1, 1])\n",
    "    line = [1, 1]\n",
    "    for i in range(2, t): # 接下来只需要打印(t-2)行\n",
    "        r = []\n",
    "        for j in range(0, len(line) - 1): \n",
    "            r.append(line[j] + line[j+1])\n",
    "        line = [1] + r + [1]\n",
    "        print(line)\n",
    "demo(10)"
   ]
  },
  {
   "cell_type": "markdown",
   "id": "0c2f7378",
   "metadata": {},
   "source": [
    "例8：编写函数，接收一个正偶数为参数，输出两个素数，并且这两个素数之和等于原来的正偶数。如果存在多组符合条件的素数，则全部输出"
   ]
  },
  {
   "cell_type": "code",
   "execution_count": 193,
   "id": "50f6c0a3",
   "metadata": {},
   "outputs": [
    {
     "name": "stdout",
     "output_type": "stream",
     "text": [
      "7 + 53 = 60\n",
      "13 + 47 = 60\n",
      "17 + 43 = 60\n",
      "19 + 41 = 60\n",
      "23 + 37 = 60\n",
      "29 + 31 = 60\n"
     ]
    }
   ],
   "source": [
    "import math\n",
    "def isPrime(n): # 判断是否是素数\n",
    "    m = int(math.sqrt(n)) + 1\n",
    "    for i in range(2, m): # 注意：素数判断除数从2开始\n",
    "        if n%i == 0: \n",
    "            return False\n",
    "    return True\n",
    "\n",
    "def demo(n): \n",
    "    if isinstance(n, int) and n>0 and n%2 == 0: \n",
    "        for i in range(3, int(n/2) + 1): # 第一个最小素数3开始\n",
    "            if isPrime(i) and isPrime(n-i): \n",
    "                print(i, '+', n-i, '=', n)\n",
    "demo(60)"
   ]
  },
  {
   "cell_type": "markdown",
   "id": "9c1dd19b",
   "metadata": {},
   "source": [
    "例9：编写函数，接收两个正整数作为参数，返回一个数组，其中第一个元素为最小公倍数，第二个元素为最大公约数"
   ]
  },
  {
   "cell_type": "code",
   "execution_count": 198,
   "id": "415559e5",
   "metadata": {},
   "outputs": [
    {
     "name": "stdout",
     "output_type": "stream",
     "text": [
      "60 10\n"
     ]
    }
   ],
   "source": [
    "# 最小公倍数*最大公约数=两数乘积\n",
    "# 欧几里得法：辗转相除法\n",
    "def demo(m, n): \n",
    "    if m > n: \n",
    "        m, n = n, m\n",
    "    p = m*n\n",
    "    r = n%m\n",
    "    while r != 0: \n",
    "        r = n%m\n",
    "        m = n\n",
    "        n = r\n",
    "    print(int(p/m), m) # 这样写比ppt更好理解\n",
    "demo(20, 30)"
   ]
  },
  {
   "cell_type": "markdown",
   "id": "77d0919d",
   "metadata": {},
   "source": [
    "例10：编写函数，接收一个所有元素值互不相等的整数数列x,和一个整数n，要求将值n的元素作为支点，将列表中所有值小于n元素全部放到n前面，所有值大于n的元素放到n后面"
   ]
  },
  {
   "cell_type": "code",
   "execution_count": 202,
   "id": "9365ec6a",
   "metadata": {},
   "outputs": [
    {
     "data": {
      "text/plain": [
       "[2, 3, 4, 5, 6, 7]"
      ]
     },
     "execution_count": 202,
     "metadata": {},
     "output_type": "execute_result"
    }
   ],
   "source": [
    "def demo(x, n): \n",
    "    x.sort()\n",
    "    for i in range(len(x)): \n",
    "        if x[i] <= n and x[i+1] >= n: \n",
    "            return x[:i+1] + [n] + x[i+1:]\n",
    "    else: \n",
    "        print('请重新输入n')\n",
    "x = [3, 5, 2, 7, 4]\n",
    "n = 6\n",
    "demo(x, n)"
   ]
  },
  {
   "cell_type": "code",
   "execution_count": 52,
   "id": "d7b35da1",
   "metadata": {},
   "outputs": [
    {
     "name": "stdout",
     "output_type": "stream",
     "text": [
      "请输入年份：2004\n",
      "True\n"
     ]
    }
   ],
   "source": [
    "def ifLeap(year):\n",
    "    if (year%4 == 0 and year%100 != 0) or year%400 == 0:\n",
    "        print('True')\n",
    "    else:\n",
    "        print('False')\n",
    "year = eval(input('请输入年份：'))\n",
    "ifLeap(year)"
   ]
  },
  {
   "cell_type": "markdown",
   "id": "b0f274b0",
   "metadata": {},
   "source": [
    "* 练习"
   ]
  },
  {
   "cell_type": "code",
   "execution_count": 18,
   "id": "53f9e46f",
   "metadata": {},
   "outputs": [
    {
     "name": "stdout",
     "output_type": "stream",
     "text": [
      "请输入单词：abcdef\n",
      "abcdefedcba\n"
     ]
    }
   ],
   "source": [
    "def f1(word1):\n",
    "    result=list(word1)\n",
    "    for i in range(len(word1)-2, -1, -1):\n",
    "        result.append(word1[i])\n",
    "    return result\n",
    "word1 = input('请输入单词：')\n",
    "print(''.join(f1(word1)))"
   ]
  },
  {
   "cell_type": "code",
   "execution_count": 20,
   "id": "27dfc0bc",
   "metadata": {},
   "outputs": [
    {
     "name": "stdout",
     "output_type": "stream",
     "text": [
      "请输入被检测的单词：abba\n",
      "True\n"
     ]
    }
   ],
   "source": [
    "def f2(word2):\n",
    "    result=[]\n",
    "    for i in range(len(word2)-1, -1, -1):\n",
    "        result.append(word2[i])\n",
    "    return result\n",
    "word2 = input('请输入被检测的单词：')\n",
    "if word2 == ''.join(f2(word2)):\n",
    "    print('True')\n",
    "else:\n",
    "    print('False')"
   ]
  }
 ],
 "metadata": {
  "kernelspec": {
   "display_name": "Python 3 (ipykernel)",
   "language": "python",
   "name": "python3"
  },
  "language_info": {
   "codemirror_mode": {
    "name": "ipython",
    "version": 3
   },
   "file_extension": ".py",
   "mimetype": "text/x-python",
   "name": "python",
   "nbconvert_exporter": "python",
   "pygments_lexer": "ipython3",
   "version": "3.11.5"
  }
 },
 "nbformat": 4,
 "nbformat_minor": 5
}
