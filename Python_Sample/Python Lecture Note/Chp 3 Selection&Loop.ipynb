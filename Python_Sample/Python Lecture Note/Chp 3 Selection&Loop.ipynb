{
 "cells": [
  {
   "cell_type": "markdown",
   "id": "df9f6c5a",
   "metadata": {},
   "source": [
    "# Chp 3 Selection & Loop"
   ]
  },
  {
   "cell_type": "markdown",
   "id": "b9f78eb5",
   "metadata": {},
   "source": [
    "### Lec 6\n",
    "#### 3.1 条件表达式"
   ]
  },
  {
   "cell_type": "code",
   "execution_count": 1,
   "id": "31433233",
   "metadata": {},
   "outputs": [
    {
     "name": "stdout",
     "output_type": "stream",
     "text": [
      "True\n"
     ]
    }
   ],
   "source": [
    "# 条件表达式\n",
    "print(1<3>2)"
   ]
  },
  {
   "cell_type": "markdown",
   "id": "8c68f673",
   "metadata": {},
   "source": [
    "* 条件表达式的值只要不是相当于0或者空，Python解释器均认为与True等价"
   ]
  },
  {
   "cell_type": "code",
   "execution_count": 333,
   "id": "a6d09efa",
   "metadata": {},
   "outputs": [
    {
     "name": "stdout",
     "output_type": "stream",
     "text": [
      "55\n",
      "55\n",
      "55\n"
     ]
    }
   ],
   "source": [
    "i = s = 0\n",
    "while True: # 使用关系表达式作为条件表达式\n",
    "    s += i\n",
    "    i += 1\n",
    "    if i > 10:\n",
    "        break\n",
    "print(s)\n",
    "\n",
    "# 也可写作：\n",
    "i = s = 0\n",
    "while i <= 10:\n",
    "    s += i\n",
    "    i += 1\n",
    "print(s)\n",
    "\n",
    "# 还可写作：\n",
    "i = s = 0\n",
    "for i in range(0, 11, 1):\n",
    "    s += i\n",
    "print(s)"
   ]
  },
  {
   "cell_type": "markdown",
   "id": "14d75dde",
   "metadata": {},
   "source": [
    "* 比较特殊的运算符还有逻辑运算符“and”和“or”，这两个运算符具有<b style=\"color: red;\">短路求值或惰性求值</b>的特点，简单地说，就是只计算必须计算的表达式的值\n",
    "  * 可以大幅度提高程序的运行效率，减少不必要的计算与判断"
   ]
  },
  {
   "cell_type": "code",
   "execution_count": 340,
   "id": "e4c835b4",
   "metadata": {},
   "outputs": [
    {
     "name": "stdout",
     "output_type": "stream",
     "text": [
      "1,2,3,4,5\n",
      "1:2:3:4:5\n",
      "1 2 3 4 5\n"
     ]
    }
   ],
   "source": [
    "def Join(chList, sep=None):\n",
    "    return(sep or ',').join(chList) # 惰性求值特点\n",
    "chTest = ['1', '2', '3', '4', '5']\n",
    "print(Join(chTest)) \n",
    "print(Join(chTest, ':'))\n",
    "print(Join(chTest, ' ')) # 注意有空格"
   ]
  },
  {
   "cell_type": "markdown",
   "id": "b9eeddb1",
   "metadata": {},
   "source": [
    "* 条件表达式不允许使用赋值运算符=，要用=="
   ]
  },
  {
   "cell_type": "markdown",
   "id": "05c9dcf9",
   "metadata": {},
   "source": [
    "#### 3.2 选择结构"
   ]
  },
  {
   "cell_type": "markdown",
   "id": "abec4cc7",
   "metadata": {},
   "source": [
    "#### 3.2.1 单分支结构"
   ]
  },
  {
   "cell_type": "code",
   "execution_count": 330,
   "id": "3474ffdd",
   "metadata": {},
   "outputs": [
    {
     "name": "stdout",
     "output_type": "stream",
     "text": [
      "empty\n"
     ]
    }
   ],
   "source": [
    "a = [] # 只要不为空，都是True，否则为False\n",
    "if a: # 一定要有冒号\n",
    "    print(a)\n",
    "else: # 一定要有冒号\n",
    "    print('empty')"
   ]
  },
  {
   "cell_type": "markdown",
   "id": "1a34da6e",
   "metadata": {},
   "source": [
    "#### 3.2.2 双分支结构"
   ]
  },
  {
   "cell_type": "code",
   "execution_count": 354,
   "id": "dcd1223b",
   "metadata": {},
   "outputs": [
    {
     "name": "stdout",
     "output_type": "stream",
     "text": [
      "6\n",
      "6\n",
      "9\n"
     ]
    }
   ],
   "source": [
    "a = 5\n",
    "print(6) if a > 3 else print(5)\n",
    "\n",
    "print(6 if a>3 else 5)\n",
    "\n",
    "b = 6 if a>13 else 9\n",
    "print(b)"
   ]
  },
  {
   "cell_type": "code",
   "execution_count": 358,
   "id": "e2a16a09",
   "metadata": {},
   "outputs": [
    {
     "name": "stdout",
     "output_type": "stream",
     "text": [
      "3.0\n"
     ]
    }
   ],
   "source": [
    "import math\n",
    "import random as rd\n",
    "x = math.sqrt(9) if 5>3 else rd.randint(1, 100)\n",
    "print(x)"
   ]
  },
  {
   "cell_type": "code",
   "execution_count": 4,
   "id": "d5e95869",
   "metadata": {},
   "outputs": [
    {
     "name": "stdout",
     "output_type": "stream",
     "text": [
      "Input two number:1 2\n",
      "1 2\n"
     ]
    }
   ],
   "source": [
    "a,b = input('Input two number:').split(' ') # split中一定要有空格\n",
    "if a > b:\n",
    "    a, b = b, a\n",
    "print(a, b)"
   ]
  },
  {
   "cell_type": "markdown",
   "id": "70ac1da8",
   "metadata": {},
   "source": [
    "#### 3.2.3 多分支结构"
   ]
  },
  {
   "cell_type": "code",
   "execution_count": 364,
   "id": "e0eb92f4",
   "metadata": {},
   "outputs": [
    {
     "name": "stdout",
     "output_type": "stream",
     "text": [
      "Please input a score: 90\n"
     ]
    },
    {
     "data": {
      "text/plain": [
       "'A'"
      ]
     },
     "execution_count": 364,
     "metadata": {},
     "output_type": "execute_result"
    }
   ],
   "source": [
    "def func(score):\n",
    "    if score > 100:\n",
    "        return 'wrong score. must <= 100.'\n",
    "    elif score >= 90:\n",
    "        return 'A'\n",
    "    elif score >= 80:\n",
    "        return 'B'\n",
    "    elif score >= 70:\n",
    "        return 'C'\n",
    "    elif score >= 60:\n",
    "        return 'D'\n",
    "    elif score >= 0:\n",
    "        return 'E'\n",
    "    else:\n",
    "        return 'wrong score.must >0'\n",
    "score = eval(input('Please input a score: '))\n",
    "func(score)"
   ]
  },
  {
   "cell_type": "markdown",
   "id": "a03a9987",
   "metadata": {},
   "source": [
    "#### 3.2.4 选择结构的嵌套"
   ]
  },
  {
   "cell_type": "code",
   "execution_count": 369,
   "id": "b80454c4",
   "metadata": {},
   "outputs": [
    {
     "name": "stdout",
     "output_type": "stream",
     "text": [
      "Please input a score: 90\n"
     ]
    },
    {
     "data": {
      "text/plain": [
       "'A'"
      ]
     },
     "execution_count": 369,
     "metadata": {},
     "output_type": "execute_result"
    }
   ],
   "source": [
    "def func(score):\n",
    "    degree = 'DCBAAF'\n",
    "    if score > 100 or score < 0:\n",
    "        return 'wrong score.must between 0 and 100.'\n",
    "    else:\n",
    "        index = (score - 60)//10\n",
    "        if index >= 0:\n",
    "            return degree[index]\n",
    "        else:\n",
    "            return degree[-1]\n",
    "score = eval(input('Please input a score: '))\n",
    "func(score)"
   ]
  },
  {
   "cell_type": "markdown",
   "id": "0fa849cd",
   "metadata": {},
   "source": [
    "#### 3.2.5 选择结构的应用"
   ]
  },
  {
   "cell_type": "code",
   "execution_count": 370,
   "id": "a2912720",
   "metadata": {},
   "outputs": [
    {
     "name": "stdout",
     "output_type": "stream",
     "text": [
      "恭喜，你已获得我公司的面试机会!\n"
     ]
    }
   ],
   "source": [
    "age=24\n",
    "subject=\"计算机\"\n",
    "college=\"非重点\"\n",
    "if (age > 25 and subject==\"电子信息工程\") or (college==\"重点\" and subject==\"电子信息工程\" ) or (age<=28 and subject==\"计算机\"):\n",
    "    print(\"恭喜，你已获得我公司的面试机会!\")\n",
    "else:\n",
    "    print(\"抱歉，你未达到面试要求\")"
   ]
  },
  {
   "cell_type": "code",
   "execution_count": 374,
   "id": "8882b0f9",
   "metadata": {},
   "outputs": [
    {
     "name": "stdout",
     "output_type": "stream",
     "text": [
      "请输入分数：90\n",
      "继续输入？（yes or no）yes\n",
      "请输入分数：95\n",
      "继续输入？（yes or no）no\n",
      "平均分为：92.5\n"
     ]
    }
   ],
   "source": [
    "# 例2：用户输入若干个分数，求所有分数的平均分。每输入一个分数后询问是否继续输入下一个分数，回答“yes”就继续输入下一个分数，\n",
    "# 回答“no”就停止输入分数。\n",
    "endFlag = 'yes'\n",
    "s = 0\n",
    "count = 0\n",
    "while endFlag.lower() == 'yes': \n",
    "    x = eval(input('请输入分数：'))\n",
    "    if isinstance(x, int) and 0 <= x <= 100: \n",
    "        s = s + x\n",
    "        count = count + 1\n",
    "    else:\n",
    "        print('输入不符合要求')\n",
    "    endFlag = input('继续输入？（yes or no）')\n",
    "average = s/count\n",
    "print(f'平均分为：{average}')"
   ]
  },
  {
   "cell_type": "code",
   "execution_count": 397,
   "id": "e986c5be",
   "metadata": {},
   "outputs": [
    {
     "name": "stdout",
     "output_type": "stream",
     "text": [
      "<module 'time' (built-in)>\n",
      "time.struct_time(tm_year=2024, tm_mon=5, tm_mday=28, tm_hour=14, tm_min=41, tm_sec=25, tm_wday=1, tm_yday=149, tm_isdst=0)\n",
      "149\n"
     ]
    }
   ],
   "source": [
    "# 例3：编写程序，判断今天是今年的第几天。\n",
    "import time\n",
    "print(time)\n",
    "date = time.localtime()\n",
    "print(date)\n",
    "year = date[0]\n",
    "month = date[1]\n",
    "day = date[2]\n",
    "day_month = [31, 28, 31, 30, 31, 30, 31, 31, 30, 31, 30, 31]\n",
    "if year%400 == 0 or (year%4 == 0 and year%100 != 0): \n",
    "    day_month[1] = 29\n",
    "if month == 1: \n",
    "    print(day)\n",
    "else: \n",
    "    print(sum(day_month[:month-1]) + day)"
   ]
  },
  {
   "cell_type": "markdown",
   "id": "b429ef28",
   "metadata": {},
   "source": [
    "#### 3.3 循环结构\n",
    "示例1. 生成10行lines"
   ]
  },
  {
   "cell_type": "code",
   "execution_count": 408,
   "id": "3a55ffee",
   "metadata": {},
   "outputs": [
    {
     "name": "stdout",
     "output_type": "stream",
     "text": [
      "This is line 1\n",
      "This is line 2\n",
      "This is line 3\n",
      "This is line 4\n",
      "This is line 5\n",
      "This is line 6\n",
      "This is line 7\n",
      "This is line 8\n",
      "This is line 9\n",
      "This is line 10\n",
      "This is line 1\n",
      "This is line 2\n",
      "This is line 3\n",
      "This is line 4\n",
      "This is line 5\n",
      "This is line 6\n",
      "This is line 7\n",
      "This is line 8\n",
      "This is line 9\n",
      "This is line 10\n",
      "This is line 1\n",
      "This is line 2\n",
      "This is line 3\n",
      "This is line 4\n",
      "This is line 5\n",
      "This is line 6\n",
      "This is line 7\n",
      "This is line 8\n",
      "This is line 9\n",
      "This is line 10\n"
     ]
    }
   ],
   "source": [
    "# while语句\n",
    "ln = 0\n",
    "while ln < 10: \n",
    "    print(f'This is line {ln + 1}') # 更快一些\n",
    "    # print('This is line', ln + 1)\n",
    "    ln = ln + 1\n",
    "\n",
    "# for语句\n",
    "for i in range(10):\n",
    "    print('This is line', i + 1)\n",
    "\n",
    "# 列表推导式\n",
    "lines = ['This is line %d'%(x+1)for x in range(10)]\n",
    "for each in lines:\n",
    "    print(each)"
   ]
  },
  {
   "cell_type": "markdown",
   "id": "a7b00cb5",
   "metadata": {},
   "source": [
    "示例2. 由用户输入一个正整数n，求从1到n各数平方和，如用户输入的整数为15，则求12+22+32+…+142+152=?"
   ]
  },
  {
   "cell_type": "code",
   "execution_count": 427,
   "id": "e5071deb",
   "metadata": {},
   "outputs": [
    {
     "name": "stdout",
     "output_type": "stream",
     "text": [
      "请输入一个正整数n: 10\n",
      "和为 385\n",
      "正整数1到10的平方和为 385\n",
      "正整数1到10的平方和为 385\n"
     ]
    }
   ],
   "source": [
    "# while语句\n",
    "n = eval(input('请输入一个正整数n: '))\n",
    "a = 0\n",
    "i = 1\n",
    "while i <= n: \n",
    "    a = a + i**2\n",
    "    i = i + 1\n",
    "print('和为', a)\n",
    "\n",
    "# for语句\n",
    "a = 0\n",
    "i = 1\n",
    "for i in range(1, 11): \n",
    "    a = a + i**2\n",
    "print('正整数1到%d的平方和为'%(n), a)\n",
    "\n",
    "# 列表\n",
    "x = [i**2 for i in range(1, n+1)]\n",
    "print('正整数1到%d的平方和为'%(n), sum(x))"
   ]
  },
  {
   "cell_type": "markdown",
   "id": "3d886642",
   "metadata": {},
   "source": [
    "示例3. Fibonacci数列前n项"
   ]
  },
  {
   "cell_type": "code",
   "execution_count": 431,
   "id": "95c9f8b8",
   "metadata": {},
   "outputs": [
    {
     "name": "stdout",
     "output_type": "stream",
     "text": [
      "请输入项数（n>0）：10\n",
      "1 1 2 3 5 8 13 21 34 55 "
     ]
    }
   ],
   "source": [
    "n = eval(input('请输入项数（n>0）：'))\n",
    "a, b = 0, 1\n",
    "i = 1\n",
    "while i <= n:\n",
    "    a, b = b, a+b\n",
    "    i = i + 1\n",
    "    print(a, end = ' ')"
   ]
  },
  {
   "cell_type": "markdown",
   "id": "4d4300fe",
   "metadata": {},
   "source": [
    "示例4. 输入一个字符串，输出以空格间隔的字符序列"
   ]
  },
  {
   "cell_type": "code",
   "execution_count": 443,
   "id": "81b7c568",
   "metadata": {},
   "outputs": [
    {
     "name": "stdout",
     "output_type": "stream",
     "text": [
      "请输入字符串：Fudan\n",
      "F u d a n \n",
      "F u d a n \n",
      "F u d a n \n"
     ]
    }
   ],
   "source": [
    "a = str(input('请输入字符串：'))\n",
    "\n",
    "# for\n",
    "dis = ''\n",
    "for each in a: \n",
    "    dis = dis + each + ' '\n",
    "print(dis)\n",
    "\n",
    "# for另外一种写法\n",
    "for each in a: \n",
    "    print(each, end = ' ')\n",
    "print() # 和之后的输出隔开！\n",
    "\n",
    "# 列表\n",
    "aList = list(a)\n",
    "i = 0\n",
    "while i < len(aList): \n",
    "    print(a[i], end = ' ')\n",
    "    i = i + 1\n",
    "print()"
   ]
  },
  {
   "cell_type": "markdown",
   "id": "59bd72b7",
   "metadata": {},
   "source": [
    "示例5. 查找一个最小正整数，要求满足以下条件：被3除余2，被5除余3，被7除余4"
   ]
  },
  {
   "cell_type": "code",
   "execution_count": 446,
   "id": "01c3b215",
   "metadata": {},
   "outputs": [
    {
     "name": "stdout",
     "output_type": "stream",
     "text": [
      "这个数是 53\n",
      "这个数是 53\n"
     ]
    }
   ],
   "source": [
    "num = 1\n",
    "while not (num%3 == 2 and num%5 == 3 and num%7 == 4):\n",
    "    num = num + 1\n",
    "print('这个数是', num)\n",
    "\n",
    "# 加入标记\n",
    "num = 1\n",
    "isFound = False\n",
    "while not isFound: \n",
    "    if num%3 == 2 and num%5 == 3 and num%7 == 4: \n",
    "        isFound = True\n",
    "    else: \n",
    "        num = num + 1\n",
    "        # 或者这里直接不要else:, 在if平行处直接写num = num + 1\n",
    "print('这个数是', num)"
   ]
  },
  {
   "cell_type": "markdown",
   "id": "c9b8372c",
   "metadata": {},
   "source": [
    "示例6. 查找要求满足以下条件的前n个正整数：被3除余2，被5除余3，被7除余4。n由用户指定"
   ]
  },
  {
   "cell_type": "code",
   "execution_count": 1,
   "id": "f24ac061",
   "metadata": {},
   "outputs": [
    {
     "name": "stdout",
     "output_type": "stream",
     "text": [
      "请输入总数: 10\n",
      "[53, 158, 263, 368, 473, 578, 683, 788, 893, 998]\n"
     ]
    }
   ],
   "source": [
    "total = eval(input(\"请输入总数: \")) \n",
    "keyList = []  \n",
    "num = 1  # 初始化数字\n",
    "count = 0  # 初始化计数器\n",
    "\n",
    "while count < total:\n",
    "    if num % 3 == 2 and num % 5 == 3 and num % 7 == 4:\n",
    "        keyList.append(num) \n",
    "        count = count + 1\n",
    "    num = num + 1  # 如果缩进，则死循环\n",
    "\n",
    "print(keyList)  "
   ]
  },
  {
   "cell_type": "markdown",
   "id": "1d2e454e",
   "metadata": {},
   "source": [
    "优化1：使用len(list)作为判断条件"
   ]
  },
  {
   "cell_type": "code",
   "execution_count": 448,
   "id": "38ff9b54",
   "metadata": {},
   "outputs": [
    {
     "name": "stdout",
     "output_type": "stream",
     "text": [
      "请输入要查找的个数n：10\n",
      "这些数是： [53, 158, 263, 368, 473, 578, 683, 788, 893, 998]\n"
     ]
    }
   ],
   "source": [
    "n = eval(input('请输入要查找的个数n：'))\n",
    "keyList = []\n",
    "num = 1\n",
    "while len(keyList) < n: \n",
    "    if num%3 == 2 and num%5 == 3 and num%7 == 4:\n",
    "        keyList.append(num)\n",
    "    num = num + 1\n",
    "print('这些数是：', keyList)"
   ]
  },
  {
   "cell_type": "markdown",
   "id": "eeb2dcc6",
   "metadata": {},
   "source": [
    "优化2：直接输出，不借助list"
   ]
  },
  {
   "cell_type": "code",
   "execution_count": 449,
   "id": "77de97b2",
   "metadata": {},
   "outputs": [
    {
     "name": "stdout",
     "output_type": "stream",
     "text": [
      "请输入要查找的个数n：10\n",
      "这些数是：53 158 263 368 473 578 683 788 893 998 \n"
     ]
    }
   ],
   "source": [
    "n = eval(input('请输入要查找的个数n：'))\n",
    "num = 1\n",
    "count = 0\n",
    "print('这些数是：', end = '')\n",
    "while count < n: \n",
    "    if num%3 == 2 and num%5 == 3 and num%7 == 4: \n",
    "        print(num, end = ' ')\n",
    "        count = count + 1\n",
    "    num = num + 1\n",
    "print()"
   ]
  },
  {
   "cell_type": "markdown",
   "id": "6dbb2d86",
   "metadata": {},
   "source": [
    "示例7：用户输入一个数，程序输出其平方数；重复上述过程，当用户输入0时程序才退出"
   ]
  },
  {
   "cell_type": "code",
   "execution_count": 453,
   "id": "616bf21f",
   "metadata": {},
   "outputs": [
    {
     "name": "stdout",
     "output_type": "stream",
     "text": [
      "请输入一个数字（输入0结束程序）：2\n",
      "2 的平方值是 4\n",
      "请输入一个数字（输入0结束程序）：2.1\n",
      "2.1 的平方值是 4.41\n",
      "请输入一个数字（输入0结束程序）：-2\n",
      "-2 的平方值是 4\n",
      "请输入一个数字（输入0结束程序）：0\n",
      "Good bye!\n"
     ]
    }
   ],
   "source": [
    "x = eval(input(\"请输入一个数字（输入0结束程序）：\"))\n",
    "\n",
    "while x:\n",
    "    print(x, \"的平方值是\", x**2)\n",
    "    x = eval(input(\"请输入一个数字（输入0结束程序）：\"))\n",
    "\n",
    "print(\"Good bye!\")"
   ]
  },
  {
   "cell_type": "markdown",
   "id": "f2fae51e",
   "metadata": {},
   "source": [
    "#### 3.4 break和continue\n",
    "* break语句在while循环和for循环中都可以使用，一般放在if选择结构（if嵌套于while或for内）中，一旦break语句被执行，将使得<b style=\"color: red;\">当前</b>整个循环提前结束\n",
    "* continue语句的作用是终止当前循环，并忽略continue之后的语句，然后回到循环的顶端，提前进入下一轮循环\n",
    "* 除非break语句让代码更简单或更清晰，否则不要轻易使用"
   ]
  },
  {
   "cell_type": "markdown",
   "id": "4fc77a04",
   "metadata": {},
   "source": [
    "示例：求200以内能被17整除的最大正整数"
   ]
  },
  {
   "cell_type": "code",
   "execution_count": 458,
   "id": "a1a46be6",
   "metadata": {},
   "outputs": [
    {
     "name": "stdout",
     "output_type": "stream",
     "text": [
      "187\n"
     ]
    }
   ],
   "source": [
    "num = 0\n",
    "for i in range(200, 0, -1): \n",
    "    if i%17 == 0:\n",
    "        print(i)\n",
    "        break # 跳出这一层的循环"
   ]
  },
  {
   "cell_type": "markdown",
   "id": "5d3b6129",
   "metadata": {},
   "source": [
    "示例：判断是否为素数"
   ]
  },
  {
   "cell_type": "code",
   "execution_count": 467,
   "id": "e59777b0",
   "metadata": {
    "scrolled": true
   },
   "outputs": [
    {
     "name": "stdout",
     "output_type": "stream",
     "text": [
      "请输入一个整数（>1）：14\n",
      "No\n"
     ]
    }
   ],
   "source": [
    "n = eval(input(\"请输入一个整数（>1）：\"))\n",
    "\n",
    "for k in range (2, n):\n",
    "    if n%k == 0:\n",
    "        print(\"No\")\n",
    "        break # 只要能被整除，就跳出这一层的循环\n",
    "    else:\n",
    "        print(\"Yes\")"
   ]
  },
  {
   "cell_type": "markdown",
   "id": "dbbf39d5",
   "metadata": {},
   "source": [
    "示例：不用列表的index()方法，在列表中查找某指定值首次出现的下标位置"
   ]
  },
  {
   "cell_type": "code",
   "execution_count": 472,
   "id": "6ec6feac",
   "metadata": {},
   "outputs": [
    {
     "name": "stdout",
     "output_type": "stream",
     "text": [
      "请输入要查询的值：6\n",
      "列表中不存在元素 6\n"
     ]
    }
   ],
   "source": [
    "a = [1, 2, 3, 4, 5]\n",
    "key = eval(input('请输入要查询的值：'))\n",
    "for i in range(len(a)): \n",
    "    if a[i] == key: \n",
    "        print('元素', key, '下标', i)\n",
    "        break\n",
    "else: # 注意这里else的位置\n",
    "    print('列表中不存在元素', key)"
   ]
  },
  {
   "cell_type": "markdown",
   "id": "80d87851",
   "metadata": {},
   "source": [
    "再做示例6：（采用break）查找一个最小正整数，要求满足以下条件：被3除余2，被5除余3，被7除余4"
   ]
  },
  {
   "cell_type": "code",
   "execution_count": 474,
   "id": "21fcece7",
   "metadata": {},
   "outputs": [
    {
     "name": "stdout",
     "output_type": "stream",
     "text": [
      "这个数是： 53\n"
     ]
    }
   ],
   "source": [
    "num = 1\n",
    "while True: \n",
    "    if num % 3 == 2 and num % 5 == 3 and num % 7 == 4: \n",
    "        break\n",
    "    else: \n",
    "        num = num + 1\n",
    "print('这个数是：', num)"
   ]
  },
  {
   "cell_type": "markdown",
   "id": "8382bdc6",
   "metadata": {},
   "source": [
    "再做示例7：（采用break）用户输入一个数，程序输出其平方数；重复上述过程，当用户输入0时程序才退出"
   ]
  },
  {
   "cell_type": "code",
   "execution_count": 477,
   "id": "f9066bfc",
   "metadata": {},
   "outputs": [
    {
     "name": "stdout",
     "output_type": "stream",
     "text": [
      "请输入一个数，直到输入0时退出：2\n",
      "2 的平方是 4\n",
      "请输入一个数，直到输入0时退出：2.1\n",
      "2.1 的平方是 4.41\n",
      "请输入一个数，直到输入0时退出：-2\n",
      "-2 的平方是 4\n",
      "请输入一个数，直到输入0时退出：0\n",
      "Goodbye!\n"
     ]
    }
   ],
   "source": [
    "while True: \n",
    "    a = eval(input('请输入一个数，直到输入0时退出：'))\n",
    "    if not a: \n",
    "        break\n",
    "    print(a, '的平方是', a**2)\n",
    "print('Goodbye!')"
   ]
  },
  {
   "cell_type": "markdown",
   "id": "fa820c1d",
   "metadata": {},
   "source": [
    "示例：比较两段代码功能差异"
   ]
  },
  {
   "cell_type": "code",
   "execution_count": 488,
   "id": "edb29c73",
   "metadata": {},
   "outputs": [
    {
     "name": "stdout",
     "output_type": "stream",
     "text": [
      "1\n",
      "2\n",
      "0\n",
      "0\n",
      "0\n",
      "0\n",
      "3\n",
      "和为 6\n"
     ]
    }
   ],
   "source": [
    "# 1\n",
    "i = s = 0 # 在Python中，变量可以通过赋值操作指向同一对象，但这通常是对可变对象（如列表、字典等）而言，对于不可变对象（如整数、字符串、元组等），赋值操作只是创建了一个新的绑定。要让两个变量指向同一个对象，你可以直接将一个变量赋值给另一个变量\n",
    "while i < 3: # 输入三次非0才结束\n",
    "    x = eval(input())\n",
    "    if not x: \n",
    "        continue\n",
    "    s = s + x\n",
    "    i = i + 1\n",
    "print('和为', s)"
   ]
  },
  {
   "cell_type": "code",
   "execution_count": 486,
   "id": "45217873",
   "metadata": {},
   "outputs": [
    {
     "name": "stdout",
     "output_type": "stream",
     "text": [
      "1\n",
      "2\n",
      "0\n",
      "和为 3\n"
     ]
    }
   ],
   "source": [
    "# 2\n",
    "i = s = 0\n",
    "for i in range(3): # 输入三次就结束\n",
    "    x = eval(input())\n",
    "    if not x: \n",
    "        continue\n",
    "    s = s + x # s += i\n",
    "print('和为', s)"
   ]
  },
  {
   "cell_type": "markdown",
   "id": "885eb73c",
   "metadata": {},
   "source": [
    "课堂练习：下面这段程序输出什么？"
   ]
  },
  {
   "cell_type": "code",
   "execution_count": 490,
   "id": "fcf82803",
   "metadata": {},
   "outputs": [
    {
     "name": "stdout",
     "output_type": "stream",
     "text": [
      "20\n"
     ]
    }
   ],
   "source": [
    "# 求10以内（不包括10）偶数的和\n",
    "s = 0\n",
    "for i in range(10):\n",
    "    if i%2: # 除以2的余数，若不等于0，跳出for\n",
    "        continue\n",
    "    s+=i\n",
    "print(s)"
   ]
  },
  {
   "cell_type": "markdown",
   "id": "c6e2373a",
   "metadata": {},
   "source": [
    "示例：找100以内最大素数"
   ]
  },
  {
   "cell_type": "code",
   "execution_count": 495,
   "id": "f5b3758c",
   "metadata": {},
   "outputs": [
    {
     "name": "stdout",
     "output_type": "stream",
     "text": [
      "97\n"
     ]
    }
   ],
   "source": [
    "for n in range(100, 1, -1): \n",
    "    for i in range(2, n): \n",
    "        if n%i == 0: \n",
    "            break\n",
    "    else: # else要再往左进4位，表示该层for语句没有中断（break）情况下正常执行才执行\n",
    "        print(n)\n",
    "        break"
   ]
  },
  {
   "cell_type": "code",
   "execution_count": 498,
   "id": "c85d27d1",
   "metadata": {},
   "outputs": [
    {
     "name": "stdout",
     "output_type": "stream",
     "text": [
      "97 89 83 79 73 71 67 61 59 53 47 43 41 37 31 29 23 19 17 13 11 7 5 3 2 \n"
     ]
    }
   ],
   "source": [
    "# 删除最后一个break可以输出100以内所有素数\n",
    "for n in range(100, 1, -1): \n",
    "    for i in range(2, n): \n",
    "        if n%i == 0: \n",
    "            break\n",
    "    else: # else要再往左进4位，表示该层for语句没有中断（break）情况下正常执行才执行\n",
    "        print(n, end=' ')\n",
    "print()"
   ]
  },
  {
   "cell_type": "markdown",
   "id": "044ace42",
   "metadata": {},
   "source": [
    "continue语句可能会带来问题：死循环"
   ]
  },
  {
   "cell_type": "code",
   "execution_count": 504,
   "id": "60ad16c4",
   "metadata": {},
   "outputs": [
    {
     "ename": "IndentationError",
     "evalue": "expected an indented block after 'if' statement on line 3 (1251120979.py, line 5)",
     "output_type": "error",
     "traceback": [
      "\u001b[0;36m  Cell \u001b[0;32mIn[504], line 5\u001b[0;36m\u001b[0m\n\u001b[0;31m    print(i)\u001b[0m\n\u001b[0m    ^\u001b[0m\n\u001b[0;31mIndentationError\u001b[0m\u001b[0;31m:\u001b[0m expected an indented block after 'if' statement on line 3\n"
     ]
    }
   ],
   "source": [
    "i=0\n",
    "while i<10:\n",
    "    if i%2 == 0:\n",
    "        # continue 会省略循环中后面的语句，回到循环开通重新开始\n",
    "    print(i)\n",
    "    i+=1"
   ]
  },
  {
   "cell_type": "code",
   "execution_count": 515,
   "id": "22568a3c",
   "metadata": {},
   "outputs": [
    {
     "name": "stdout",
     "output_type": "stream",
     "text": [
      "1 3 5 7 9 \n",
      "1 3 5 7 9 \n",
      "4376192184 : 0\n",
      "4376192216 : 1\n",
      "4376192248 : 2\n",
      "4376192280 : 3\n",
      "4376192312 : 4\n",
      "4376192344 : 5\n",
      "4376192376 : 6\n",
      "4376192408 : 7\n",
      "4376192440 : 8\n",
      "4376192472 : 9\n"
     ]
    }
   ],
   "source": [
    "# 改进\n",
    "for i in range(10): \n",
    "    if i%2 == 0: \n",
    "        continue\n",
    "    print(i, end = ' ')\n",
    "print()\n",
    "\n",
    "for i in range(10): \n",
    "    if i%2 == 0: \n",
    "        i += 1 # 没用\n",
    "        continue\n",
    "    print(i, end = ' ')\n",
    "print()\n",
    "\n",
    "# 为什么修改i值没用？因为每一次进入循环的i已经不是上一次的i\n",
    "for i in range(10): \n",
    "    print(id(i), ':', i)\n",
    "    i += 100"
   ]
  },
  {
   "cell_type": "markdown",
   "id": "e79d4d77",
   "metadata": {},
   "source": [
    "### 循环嵌套"
   ]
  },
  {
   "cell_type": "markdown",
   "id": "7c41ec52",
   "metadata": {},
   "source": [
    "示例1：打印乘法表"
   ]
  },
  {
   "cell_type": "code",
   "execution_count": 523,
   "id": "0d345c8f",
   "metadata": {},
   "outputs": [
    {
     "name": "stdout",
     "output_type": "stream",
     "text": [
      "1 x 1 = 1\t \n",
      "2 x 1 = 2\t 2 x 2 = 4\t \n",
      "3 x 1 = 3\t 3 x 2 = 6\t 3 x 3 = 9\t \n",
      "4 x 1 = 4\t 4 x 2 = 8\t 4 x 3 = 12\t 4 x 4 = 16\t \n",
      "5 x 1 = 5\t 5 x 2 = 10\t 5 x 3 = 15\t 5 x 4 = 20\t 5 x 5 = 25\t \n",
      "6 x 1 = 6\t 6 x 2 = 12\t 6 x 3 = 18\t 6 x 4 = 24\t 6 x 5 = 30\t 6 x 6 = 36\t \n",
      "7 x 1 = 7\t 7 x 2 = 14\t 7 x 3 = 21\t 7 x 4 = 28\t 7 x 5 = 35\t 7 x 6 = 42\t 7 x 7 = 49\t \n",
      "8 x 1 = 8\t 8 x 2 = 16\t 8 x 3 = 24\t 8 x 4 = 32\t 8 x 5 = 40\t 8 x 6 = 48\t 8 x 7 = 56\t 8 x 8 = 64\t \n",
      "9 x 1 = 9\t 9 x 2 = 18\t 9 x 3 = 27\t 9 x 4 = 36\t 9 x 5 = 45\t 9 x 6 = 54\t 9 x 7 = 63\t 9 x 8 = 72\t 9 x 9 = 81\t \n"
     ]
    }
   ],
   "source": [
    "for i in range(1, 10):\n",
    "    for j in range(1, i+1): \n",
    "        item = '%d x %d = %d\\t' %(i, j, i*j) # \\t为制表符\n",
    "        print(item, end = ' ')\n",
    "    print() # 保证每一个i换行"
   ]
  },
  {
   "cell_type": "markdown",
   "id": "c52e77cd",
   "metadata": {},
   "source": [
    "示例：鸡兔同笼"
   ]
  },
  {
   "cell_type": "markdown",
   "id": "1686c37c",
   "metadata": {},
   "source": [
    "示例：水仙花数\n",
    "* 两种顺序的推法\n",
    "* 一种拆解三位数的推法"
   ]
  },
  {
   "cell_type": "code",
   "execution_count": 524,
   "id": "f924688b",
   "metadata": {},
   "outputs": [
    {
     "name": "stdout",
     "output_type": "stream",
     "text": [
      "153\n",
      "370\n",
      "371\n",
      "407\n"
     ]
    }
   ],
   "source": [
    "for x in range(100, 1000): \n",
    "    ge = x%10\n",
    "    shi = x // 10 % 10\n",
    "    bai = x // 100\n",
    "    if x == ge**3 + shi**3 + bai**3:\n",
    "        print(x)"
   ]
  },
  {
   "cell_type": "markdown",
   "id": "e4cbe2cb",
   "metadata": {},
   "source": [
    "示例：编写程序，输出由1、2、3、4这四个数字组成的每位数都不相同的所有三位数，一行显示5个数"
   ]
  },
  {
   "cell_type": "code",
   "execution_count": 529,
   "id": "c471380d",
   "metadata": {},
   "outputs": [
    {
     "name": "stdout",
     "output_type": "stream",
     "text": [
      "123 124 132 134 142 \n",
      "143 213 214 231 234 \n",
      "241 243 312 314 321 \n",
      "324 341 342 412 413 \n",
      "421 423 431 432 "
     ]
    }
   ],
   "source": [
    "a = (1, 2, 3, 4) # 元组，属于序列\n",
    "count = 0\n",
    "for i in a: \n",
    "    for j in a: \n",
    "        for k in a: \n",
    "            if i != j and j != k and k != i: \n",
    "                print(100*i + 10*j + k, end = ' ')\n",
    "                count = count + 1\n",
    "                if count % 5 == 0:\n",
    "                    print() # 换行"
   ]
  },
  {
   "cell_type": "markdown",
   "id": "923e79f4",
   "metadata": {},
   "source": [
    "优化：将判断换到外层"
   ]
  },
  {
   "cell_type": "code",
   "execution_count": 528,
   "id": "bd3eecfa",
   "metadata": {},
   "outputs": [
    {
     "name": "stdout",
     "output_type": "stream",
     "text": [
      "123 124 132 134 142 \n",
      "143 213 214 231 234 \n",
      "241 243 312 314 321 \n",
      "324 341 342 412 413 \n",
      "421 423 431 432 "
     ]
    }
   ],
   "source": [
    "a = (1, 2, 3, 4) # 元组，属于序列\n",
    "count = 0\n",
    "for i in a: \n",
    "    for j in a: \n",
    "        if i == j: \n",
    "            continue # 注意随后的语句不能再if中，应该与if平行\n",
    "        for k in a: \n",
    "            if k == j or k == i: # k要同时与i和j做判断\n",
    "                continue # 注意随后的语句不能再if中，应该与if平行\n",
    "            print(100*i + 10*j + k, end = ' ')\n",
    "            count = count + 1\n",
    "            if count % 5 == 0:\n",
    "                print()"
   ]
  },
  {
   "cell_type": "markdown",
   "id": "5ef33939",
   "metadata": {},
   "source": [
    "### 两维列表与循环嵌套\n",
    "#### 两维列表"
   ]
  },
  {
   "cell_type": "markdown",
   "id": "7378ae45",
   "metadata": {},
   "source": [
    "创建矩阵"
   ]
  },
  {
   "cell_type": "code",
   "execution_count": 543,
   "id": "1a16c350",
   "metadata": {},
   "outputs": [
    {
     "name": "stdout",
     "output_type": "stream",
     "text": [
      "输入行数：2\n",
      "输入列数：2\n",
      "请输入值：1\n",
      "请输入值：2\n",
      "请输入值：3\n",
      "请输入值：4\n",
      "[[1, 2], [3, 4]]\n",
      "1 2 \n",
      "3 4 \n",
      "1 2 \n",
      "3 4 \n"
     ]
    }
   ],
   "source": [
    "matrix = []\n",
    "nofRow = eval(input('输入行数：'))\n",
    "nofColumn = eval(input('输入列数：'))\n",
    "for row in range(nofRow): \n",
    "    matrix.append([]) # 添加一行空行\n",
    "    for col in range(nofColumn): \n",
    "        value = eval(input('请输入值：'))\n",
    "        matrix[row].append(value)\n",
    "print(matrix)\n",
    "\n",
    "# 输出矩阵\n",
    "for row in matrix:\n",
    "    for value in row: # row是一个列表，相当于直接访问列表中的元素\n",
    "        print(value, end = ' ')\n",
    "    print()\n",
    "    \n",
    "# 或者\n",
    "for row in range(len(matrix)): \n",
    "    for col in range(len(matrix[row])): \n",
    "        print(matrix[row][col], end = ' ')\n",
    "    print()"
   ]
  },
  {
   "cell_type": "code",
   "execution_count": 545,
   "id": "c67d988c",
   "metadata": {},
   "outputs": [
    {
     "name": "stdout",
     "output_type": "stream",
     "text": [
      "10\n",
      "10\n"
     ]
    }
   ],
   "source": [
    "# 矩阵所有元素求和\n",
    "matrix = [[1, 2], [3, 4]]\n",
    "total = 0\n",
    "for row in matrix: \n",
    "    for value in row: \n",
    "        total += value\n",
    "print(total)\n",
    "\n",
    "# 一层循环\n",
    "matrix = [[1, 2], [3, 4]]\n",
    "total = 0\n",
    "for row in matrix: \n",
    "    total = total + sum(row)\n",
    "print(total)"
   ]
  },
  {
   "cell_type": "code",
   "execution_count": 547,
   "id": "ddd3558b",
   "metadata": {},
   "outputs": [
    {
     "name": "stdout",
     "output_type": "stream",
     "text": [
      "sum for coloum  0 is 4\n",
      "sum for coloum  1 is 6\n"
     ]
    }
   ],
   "source": [
    "# 按列求和\n",
    "matrix = [[1, 2], [3, 4]]\n",
    "for col in range(len(matrix[0])): \n",
    "    total = 0\n",
    "    for row in range(len(matrix)): \n",
    "        total += matrix[row][col]\n",
    "    print('sum for coloum ', col, 'is', total)"
   ]
  },
  {
   "cell_type": "code",
   "execution_count": 552,
   "id": "06189838",
   "metadata": {},
   "outputs": [
    {
     "name": "stdout",
     "output_type": "stream",
     "text": [
      "Max row is row 2 , sum is 7\n"
     ]
    }
   ],
   "source": [
    "# 找出和最大的行\n",
    "matrix = [[1, 2], [3, 4]]\n",
    "maxRow = sum(matrix[0])\n",
    "indexofmaxRow = 0\n",
    "for row in range(1, len(matrix)): \n",
    "    if sum(matrix[row]) > maxRow: \n",
    "        maxRow = sum(matrix[row])\n",
    "        indexofmaxRow = row\n",
    "print('Max row is row', indexofmaxRow + 1, ', sum is', maxRow)"
   ]
  },
  {
   "cell_type": "code",
   "execution_count": 562,
   "id": "520fa272",
   "metadata": {},
   "outputs": [
    {
     "name": "stdout",
     "output_type": "stream",
     "text": [
      "[[1, 2], [3, 4]]\n"
     ]
    }
   ],
   "source": [
    "# 打乱矩阵\n",
    "import random as rd\n",
    "\n",
    "matrix = [[1, 2], [3, 4]]\n",
    "for row in range(len(matrix)): \n",
    "    for col in range(len(matrix[row])): \n",
    "        i = rd.randint(0, len(matrix) - 1)\n",
    "        j = rd.randint(0, len(matrix[row]) - 1)\n",
    "        matrix[row][col], matrix[i][j] = matrix[i][j], matrix[row][col]\n",
    "print(matrix)"
   ]
  },
  {
   "cell_type": "code",
   "execution_count": 569,
   "id": "0b0aa143",
   "metadata": {},
   "outputs": [
    {
     "name": "stdout",
     "output_type": "stream",
     "text": [
      "[[1, 3, 5], [2, 4, 6]]\n",
      "[(1, 3, 5), (2, 4, 6)]\n"
     ]
    }
   ],
   "source": [
    "# 矩阵转置\n",
    "matrix = [[1, 2], [3, 4], [5, 6]]\n",
    "\n",
    "# 1. 列表推导式\n",
    "b = [[row[i] for row in matrix] for i in range(len(matrix[row]))] # len(matrix[row])是矩阵的列数\n",
    "print(b)\n",
    "\n",
    "# 2. 内置函数\n",
    "print(list(zip(*matrix))) # 序列解包"
   ]
  },
  {
   "cell_type": "markdown",
   "id": "16dbb1ef",
   "metadata": {},
   "source": [
    "sort()函数可以对二位列表排序，先按每一行第1个元素排序，第1个元素相同则按第2个元素排序"
   ]
  },
  {
   "cell_type": "code",
   "execution_count": 583,
   "id": "510bc3bb",
   "metadata": {},
   "outputs": [
    {
     "name": "stdout",
     "output_type": "stream",
     "text": [
      "[[5, 2, 7], [7, 9, 6], [8, 3, 5]]\n"
     ]
    }
   ],
   "source": [
    "matrix = [[8, 3, 5], [5, 2, 7], [7, 9, 6]]\n",
    "matrix.sort()\n",
    "print(matrix)"
   ]
  },
  {
   "cell_type": "code",
   "execution_count": 577,
   "id": "5d1ccd32",
   "metadata": {},
   "outputs": [
    {
     "name": "stdout",
     "output_type": "stream",
     "text": [
      "[[1, 1], [1, 2], [1, 7], [4, 1], [4, 2], [4, 5]]\n"
     ]
    }
   ],
   "source": [
    "matrix = [[4, 2], [1, 7], [4, 5], [1, 2], [1, 1], [4, 1]]\n",
    "matrix.sort()\n",
    "print(matrix)"
   ]
  },
  {
   "cell_type": "markdown",
   "id": "f7e9ca61",
   "metadata": {},
   "source": [
    "示例：给学生的答案评分"
   ]
  },
  {
   "cell_type": "code",
   "execution_count": 588,
   "id": "0b93e59f",
   "metadata": {},
   "outputs": [
    {
     "name": "stdout",
     "output_type": "stream",
     "text": [
      "Student 1 's score is 2\n",
      "Student 2 's score is 1\n"
     ]
    }
   ],
   "source": [
    "answers = [['A', 'B'], ['A', 'C']]\n",
    "keys = ['A', 'B']\n",
    "for i in range(len(answers)): \n",
    "    correctCount = 0\n",
    "    for j in range(len(answers[i])): \n",
    "        if answers[i][j] == keys[j]: \n",
    "            correctCount += 1\n",
    "    print('Student', i+1, '\\'s score is', correctCount)"
   ]
  },
  {
   "cell_type": "markdown",
   "id": "08052b4b",
   "metadata": {},
   "source": [
    "#### 循环嵌套break"
   ]
  },
  {
   "cell_type": "markdown",
   "id": "dda56484",
   "metadata": {},
   "source": [
    "示例：输入一整数，输出小于等于该整数的全部质数"
   ]
  },
  {
   "cell_type": "code",
   "execution_count": 591,
   "id": "0a6ca0d5",
   "metadata": {},
   "outputs": [
    {
     "name": "stdout",
     "output_type": "stream",
     "text": [
      "请输入一个整数：20\n",
      "2 3 5 7 11 13 17 19 "
     ]
    }
   ],
   "source": [
    "m = eval(input('请输入一个整数：'))\n",
    "for n in range(2, m+1): \n",
    "    for k in range(2, n): \n",
    "        if n%k == 0: \n",
    "            break\n",
    "    else:\n",
    "        print(n, end = ' ')"
   ]
  },
  {
   "cell_type": "markdown",
   "id": "9779df93",
   "metadata": {},
   "source": [
    "优化：偶数不用检验"
   ]
  },
  {
   "cell_type": "code",
   "execution_count": 598,
   "id": "5b3326bd",
   "metadata": {},
   "outputs": [
    {
     "name": "stdout",
     "output_type": "stream",
     "text": [
      "请输入一个整数：20\n",
      "2 3 5 7 11 13 17 19 \n"
     ]
    }
   ],
   "source": [
    "import math\n",
    "m = eval(input('请输入一个整数：'))\n",
    "\n",
    "print(2, end = ' ')\n",
    "\n",
    "for n in range(3, m+1, 2): \n",
    "    for k in range(3, int(math.sqrt(n)) + 1, 2): # 开根加一取整\n",
    "        if not n%k: \n",
    "            break\n",
    "    else: # 注意不要省去else: \n",
    "        print(n, end = ' ')\n",
    "print()"
   ]
  },
  {
   "cell_type": "markdown",
   "id": "bbc1bb4a",
   "metadata": {},
   "source": [
    "#### 循环结构优化\n",
    "* 在编写循环语句时，应尽量减少循环内部不必要的计算，将与循环变量无关的代码尽可能地提取到循环之外"
   ]
  },
  {
   "cell_type": "code",
   "execution_count": 622,
   "id": "4fa85092",
   "metadata": {},
   "outputs": [
    {
     "name": "stdout",
     "output_type": "stream",
     "text": [
      "0.01710367202758789\n",
      "[111, 112, 113, 114, 121, 122, 123, 124, 131, 132, 133, 134, 141, 142, 143, 144, 211, 212, 213, 214, 221, 222, 223, 224, 231, 232, 233, 234, 241, 242, 243, 244, 311, 312, 313, 314, 321, 322, 323, 324, 331, 332, 333, 334, 341, 342, 343, 344, 411, 412, 413, 414, 421, 422, 423, 424, 431, 432, 433, 434, 441, 442, 443, 444]\n"
     ]
    }
   ],
   "source": [
    "import time\n",
    "digits = (1, 2, 3, 4)\n",
    "start = time.time() # 计时\n",
    "for i in range(1000):\n",
    "    result = []\n",
    "    for i in digits:\n",
    "        for j in digits:\n",
    "            for k in digits:\n",
    "                result.append(i*100+j*10+k)\n",
    "print(time.time()-start)\n",
    "print(result)"
   ]
  },
  {
   "cell_type": "code",
   "execution_count": 623,
   "id": "36a0d6d7",
   "metadata": {},
   "outputs": [
    {
     "name": "stdout",
     "output_type": "stream",
     "text": [
      "0.016878128051757812\n",
      "[111, 112, 113, 114, 121, 122, 123, 124, 131, 132, 133, 134, 141, 142, 143, 144, 211, 212, 213, 214, 221, 222, 223, 224, 231, 232, 233, 234, 241, 242, 243, 244, 311, 312, 313, 314, 321, 322, 323, 324, 331, 332, 333, 334, 341, 342, 343, 344, 411, 412, 413, 414, 421, 422, 423, 424, 431, 432, 433, 434, 441, 442, 443, 444]\n"
     ]
    }
   ],
   "source": [
    "# 优化后：\n",
    "import time\n",
    "digits = (1, 2, 3, 4)\n",
    "start = time.time() # 计时\n",
    "for i in range(1000):\n",
    "    result = []\n",
    "    for i in digits:\n",
    "        i = i*100\n",
    "        for j in digits:\n",
    "            j = j*10\n",
    "            for k in digits:\n",
    "                result.append(i+j+k)\n",
    "print(time.time()-start)\n",
    "print(result)"
   ]
  },
  {
   "cell_type": "markdown",
   "id": "8b3db007",
   "metadata": {},
   "source": [
    "### HW"
   ]
  },
  {
   "cell_type": "code",
   "execution_count": 9,
   "id": "29adf919",
   "metadata": {},
   "outputs": [
    {
     "name": "stdout",
     "output_type": "stream",
     "text": [
      "请输入矩阵大小：5\n",
      "     *     \n",
      "    ***    \n",
      "   *****   \n",
      "  *******  \n",
      " ********* \n",
      "***********\n",
      " ********* \n",
      "  *******  \n",
      "   *****   \n",
      "    ***    \n",
      "     *     \n"
     ]
    }
   ],
   "source": [
    "n = int(input(\"请输入矩阵大小：\"))\n",
    "\n",
    "for i in range(1, 2*n+2):\n",
    "    for j in range (1, 2*n+2):\n",
    "        if abs(j - (n+1)) <= n - abs(i-(n+1)):\n",
    "            print(\"*\", end=\"\")\n",
    "        else:\n",
    "            print(\" \", end=\"\")\n",
    "    print()"
   ]
  }
 ],
 "metadata": {
  "kernelspec": {
   "display_name": "Python 3 (ipykernel)",
   "language": "python",
   "name": "python3"
  },
  "language_info": {
   "codemirror_mode": {
    "name": "ipython",
    "version": 3
   },
   "file_extension": ".py",
   "mimetype": "text/x-python",
   "name": "python",
   "nbconvert_exporter": "python",
   "pygments_lexer": "ipython3",
   "version": "3.11.5"
  }
 },
 "nbformat": 4,
 "nbformat_minor": 5
}
