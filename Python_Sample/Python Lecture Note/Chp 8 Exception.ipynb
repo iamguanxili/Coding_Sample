{
 "cells": [
  {
   "cell_type": "markdown",
   "id": "474db15f",
   "metadata": {},
   "source": [
    "# Chp 8 Exception"
   ]
  },
  {
   "cell_type": "markdown",
   "id": "cee2c065",
   "metadata": {},
   "source": [
    "* 异常（Exception）：\n",
    "  * 简单地说，异常是指程序运行时引发的错误。引发错误的原因有很多，例如除零、下标越界、文件不存在、网络异常、类型错误、名字错误、字典键错误、磁盘空间不足，等等。\n",
    "  * 如果这些错误得不到正确的处理将会导致程序终止运行，而合理地使用异常处理结果可以使得程序更加健壮，具有更强的容错性，不会因为用户不小心的错误输入或其他运行时原因而造成程序终止。\n",
    "  * 也可以使用异常处理结构为用户提供更加友好的提示。\n",
    "  * 程序出现异常或错误之后是否能够调试程序并快速定位和解决存在的问题也是程序员综合水平和能力的重要体现方式之一。\n",
    "### 8.1 什么是异常\n",
    "  * 异常分为两个阶段：第一个阶段是引起异常发生的错误；第二个阶段是检测并处理阶段。\n",
    "  * 不建议使用异常来代替常规的检查，如if...else判断。\n",
    "  * 应避免过多依赖于异常处理机制。\n",
    "  * 当程序出现错误，python会自动引发异常，也可以通过raise显式地引发异常\n",
    "### 8.2 Python中的异常类\n",
    "  * NameError：尝试访问一个没有申明的变量\n",
    "  * ZeroDivisionError：除数为0\n",
    "  * SyntaxError：语法错误\n",
    "  * IndexError：索引超出范围\n",
    "  * KeyError：请求一个不存在的字典关键词\n",
    "  * IOError：输入输出错误（例如访问一个不存在的文件）\n",
    "  * AttributeError：尝试访问未知的对象属性\n",
    "  * ValueError：传给函数的参数类型错误（例如给int()传入字符串）\n",
    "  * AssertionError：断言异常\n",
    "* 抛出异常raise语句\n",
    "  * 主动抛出异常\n",
    "    * 定义自己的异常类时；\n",
    "    * 或者需要抛出异常时。\n",
    "  * raise语法：raise \\[SomeException\\[, args\\[, traceback\\]\\]\n",
    "    * SomeException：必须是一个异常类，或异常类的实例；\n",
    "    * Args：传递给SomeException的参数，必须是一个元组；\n",
    "    * Traceback：很少用，主要是用来提供一个traceback对象\n",
    "* 自定义异常类\n",
    "  * 下面的例子演示了自定义的异常类\n",
    "    * 必须继承Exception类：所有异常类的基类"
   ]
  },
  {
   "cell_type": "code",
   "execution_count": 230,
   "id": "61d362d3",
   "metadata": {},
   "outputs": [
    {
     "name": "stdout",
     "output_type": "stream",
     "text": [
      "My exception occurred, value: 4\n"
     ]
    }
   ],
   "source": [
    "class MyError(Exception): # 定义一个类\n",
    "    def __init__(self, value):\n",
    "        self.value = value # 将value赋值给self.value\n",
    "    def __str__(self):\n",
    "        return repr(self.value) # 返回异常的字符串表示\n",
    "    # 函数str()将其转化成为适于人阅读的前端样式文本\n",
    "    # 函数repr(object)将对象转化为供解释器读取的形式。返回一个对象的string格式\n",
    "try:\n",
    "    raise MyError(2*2) # 创建一个带有value属性值为4的异常对象\n",
    "except MyError as e: # 捕获MyError类型的异常，并将异常对象赋值给变量e\n",
    "    print('My exception occurred, value:', e.value)\n",
    "    # raise MyError('oops!')"
   ]
  },
  {
   "cell_type": "markdown",
   "id": "f9483dc7",
   "metadata": {},
   "source": [
    "### 8.3 Python的异常处理结构\n",
    "* 常见的异常处理结构\n",
    "  * try.......except结构\n",
    "  * try.......except .......else结构\n",
    "  * 带有多个except的try结构\n",
    "  * try.......except .......finally结构\n",
    "#### 8.3.1 try...except结构"
   ]
  },
  {
   "cell_type": "code",
   "execution_count": 222,
   "id": "623a8991",
   "metadata": {},
   "outputs": [],
   "source": [
    "# 形式一：\n",
    "# try:\n",
    "    # try_block #被监控的代码\n",
    "# except Exception[,reason]:\n",
    "    # except_block #异常处理代码\n",
    "    \n",
    "# 形式二：\n",
    "# try:\n",
    "    # ...\n",
    "# except BaseException,e:\n",
    "    # except_block\n",
    "# 优势：能够处理所有的异常"
   ]
  },
  {
   "cell_type": "markdown",
   "id": "d054474e",
   "metadata": {},
   "source": [
    "try...except：示例1"
   ]
  },
  {
   "cell_type": "code",
   "execution_count": 226,
   "id": "102733f8",
   "metadata": {},
   "outputs": [
    {
     "name": "stdout",
     "output_type": "stream",
     "text": [
      "Please enter a number: a\n",
      "That was no valid number.  Try again...\n",
      "Please enter a number: 1\n"
     ]
    }
   ],
   "source": [
    "while True:\n",
    "    try:\n",
    "        x = int(input(\"Please enter a number: \"))\n",
    "        break\n",
    "    except ValueError:\n",
    "        print(\"That was no valid number.  Try again...\")"
   ]
  },
  {
   "cell_type": "markdown",
   "id": "c9314d31",
   "metadata": {},
   "source": [
    "try...except：示例2"
   ]
  },
  {
   "cell_type": "code",
   "execution_count": 235,
   "id": "63befc9b",
   "metadata": {},
   "outputs": [
    {
     "name": "stdout",
     "output_type": "stream",
     "text": [
      "<class 'Exception'>\n",
      "('spam', 'eggs')\n",
      "('spam', 'eggs')\n",
      "x = spam\n",
      "y = eggs\n"
     ]
    }
   ],
   "source": [
    "try:\n",
    "    raise Exception('spam', 'eggs')\n",
    "except Exception as inst:\n",
    "    print(type(inst))    # the exception instance\n",
    "    print(inst.args)     # arguments stored in .args\n",
    "    print(inst)          # __str__ allows args to be printed directly,\n",
    "                            # but may be overridden in exception subclasses\n",
    "    x, y = inst.args     # unpack args\n",
    "    print('x =', x)\n",
    "    print('y =', y)"
   ]
  },
  {
   "cell_type": "markdown",
   "id": "d9ed9315",
   "metadata": {},
   "source": [
    "#### 8.3.2 try...except...else：示例1\n",
    "* 在没有例外的情况下，执行else语句"
   ]
  },
  {
   "cell_type": "code",
   "execution_count": 245,
   "id": "32b7130a",
   "metadata": {},
   "outputs": [
    {
     "name": "stdout",
     "output_type": "stream",
     "text": [
      "请输入字符串的序号\n",
      "5\n",
      "列表元素的下标越界，请重新输入字符串的序号\n",
      "请输入字符串的序号\n",
      "0\n",
      "China\n"
     ]
    }
   ],
   "source": [
    "a_list = ['China', 'America', 'England', 'France']\n",
    "while True:\n",
    "    print('请输入字符串的序号')\n",
    "    n = int(input())\n",
    "    try:\n",
    "        print(a_list[n])\n",
    "    except IndexError:\n",
    "        print('列表元素的下标越界，请重新输入字符串的序号')\n",
    "    else: # 正常运行就会退出循环，这里的正常运行指的是没有触发except\n",
    "        break"
   ]
  },
  {
   "cell_type": "markdown",
   "id": "14b4fb3a",
   "metadata": {},
   "source": [
    "try...except...else：示例1\n",
    "  * sys模块"
   ]
  },
  {
   "cell_type": "code",
   "execution_count": 249,
   "id": "8c9d5ffd",
   "metadata": {},
   "outputs": [
    {
     "name": "stdout",
     "output_type": "stream",
     "text": [
      "cannot open -f\n",
      "/Users/liguanxi/Library/Jupyter/runtime/kernel-fd32e67a-eb24-490f-808e-aa291b89a564.json has 12 lines\n"
     ]
    }
   ],
   "source": [
    "import sys\n",
    "for arg in sys.argv[1:]:\n",
    "    try:\n",
    "        f = open(arg, 'r')\n",
    "    except IOError:\n",
    "        print('cannot open', arg) # 出现例外，执行该语句，结束循环\n",
    "    else:\n",
    "        print(arg, 'has', len(f.readlines()), 'lines') # 没有出现例外，执行该模块内容\n",
    "    f.close()"
   ]
  },
  {
   "cell_type": "markdown",
   "id": "e68c1ecb",
   "metadata": {},
   "source": [
    "#### 8.3.3 带有多个except的try结构"
   ]
  },
  {
   "cell_type": "code",
   "execution_count": 250,
   "id": "818a9961",
   "metadata": {},
   "outputs": [],
   "source": [
    "# try:\n",
    "    # try_block         #被监控的语句\n",
    "# except Exception1:\n",
    "    # except_block_1    #处理异常1的语句\n",
    "# except Exception2:\n",
    "    # except_block_2    #处理异常2的语句\n",
    "# ..."
   ]
  },
  {
   "cell_type": "markdown",
   "id": "6a929f83",
   "metadata": {},
   "source": [
    "示例1：除法"
   ]
  },
  {
   "cell_type": "code",
   "execution_count": 270,
   "id": "87776c8a",
   "metadata": {},
   "outputs": [
    {
     "name": "stdout",
     "output_type": "stream",
     "text": [
      "请输入被除数: a\n",
      "被除数和除数应为数值类型2\n"
     ]
    }
   ],
   "source": [
    "try:\n",
    "    x = int(input('请输入被除数: '))\n",
    "    y = int(input('请输入除数: '))\n",
    "    z = float(x) / y\n",
    "except ZeroDivisionError:\n",
    "    print('除数不能为零')\n",
    "except TypeError: # TypeError出现在\n",
    "    print('被除数和除数应为数值类型1')\n",
    "except ValueError:\n",
    "    print('被除数和除数应为数值类型2')\n",
    "except NameError:\n",
    "    print('变量不存在')\n",
    "else:\n",
    "    print(x, '/', y, '=', z)\n",
    "    \n",
    "# 同样是输入a，sum()的错误类型是TypeError【】，int()的错误类型是ValueError"
   ]
  },
  {
   "cell_type": "markdown",
   "id": "fabf4625",
   "metadata": {},
   "source": [
    "* TypeError通常为函数或方法接受了不适当的【类型】的参数，例如sum()不接受字符串类型，sum('a')的错误类型故为TypeError\n",
    "* ValueError通常为函数或方法接受了正确【类型】的参数，但参数的值不适当，例如int()接受字符串类型，但参数的值不适当，int('a')中的'a'不具备表示一个整数的含义，故错误类型为ValueError"
   ]
  },
  {
   "cell_type": "markdown",
   "id": "9f6f2fb7",
   "metadata": {},
   "source": [
    "带有多个except的try：示例2\n",
    "  * 当有多个except块而且处理相同时，可以使用元组的形式处理"
   ]
  },
  {
   "cell_type": "code",
   "execution_count": 271,
   "id": "9b345d10",
   "metadata": {},
   "outputs": [
    {
     "name": "stdout",
     "output_type": "stream",
     "text": [
      "Could not convert data to an integer.\n"
     ]
    }
   ],
   "source": [
    "import sys\n",
    "try:\n",
    "    f = open('sample.txt')\n",
    "    s = f.readline()\n",
    "    i = int(s.strip())\n",
    "except OSError as err:\n",
    "    print(\"OS error: {0}\".format(err))\n",
    "except ValueError:\n",
    "    print(\"Could not convert data to an integer.\")\n",
    "except:\n",
    "    print(\"Unexpected error:\", sys.exc_info()[0])\n",
    "    raise"
   ]
  },
  {
   "cell_type": "code",
   "execution_count": 272,
   "id": "08954ed9",
   "metadata": {},
   "outputs": [],
   "source": [
    "import sys\n",
    "try:\n",
    "    f = open('sample.txt')\n",
    "    s = f.readline()\n",
    "    i = int(s.strip())\n",
    "except (OSError, ValueError, RuntimeError, NameError):\n",
    "    pass"
   ]
  },
  {
   "cell_type": "markdown",
   "id": "632045dd",
   "metadata": {},
   "source": [
    "#### 8.3.4 try...except...finally结构\n",
    "* 特点\n",
    "  * Finally中的语句总会执行；\n",
    "  * 可以用于清理工作，以便释放资源。\n",
    "* 典型结构如下："
   ]
  },
  {
   "cell_type": "code",
   "execution_count": null,
   "id": "c577a431",
   "metadata": {},
   "outputs": [],
   "source": [
    "# try:\n",
    "    # try_block         #被监控的代码\n",
    "# except:\n",
    "    # except_block      #例外处理程序块\n",
    "# finally:\n",
    "    # finally_block     #无论如何都会执行"
   ]
  },
  {
   "cell_type": "code",
   "execution_count": 273,
   "id": "d9ac9217",
   "metadata": {},
   "outputs": [
    {
     "name": "stdout",
     "output_type": "stream",
     "text": [
      "3\n",
      "5\n"
     ]
    }
   ],
   "source": [
    "try:\n",
    "    3/0\n",
    "except:\n",
    "    print(3)\n",
    "finally:\n",
    "    print(5)"
   ]
  },
  {
   "cell_type": "markdown",
   "id": "ddad21e1",
   "metadata": {},
   "source": [
    "try.......except .......finally：示例1\n",
    "  * 文件读取"
   ]
  },
  {
   "cell_type": "code",
   "execution_count": 274,
   "id": "3dafada4",
   "metadata": {},
   "outputs": [
    {
     "name": "stdout",
     "output_type": "stream",
     "text": [
      "\t(1)\t(2)\t(3)\t(4)\t(5)\n",
      "\n"
     ]
    }
   ],
   "source": [
    "# 并非完美的写法，如果文件没有创建，则在finally模块中会报出异常\n",
    "try:\n",
    "    f = open('sample.txt', 'r')\n",
    "    line = f.readline( )\n",
    "    print(line)\n",
    "finally:\n",
    "    f.close()"
   ]
  },
  {
   "cell_type": "markdown",
   "id": "219a3520",
   "metadata": {},
   "source": [
    "try...except...finally：示例2\n",
    "  * 例外产生之后，需要有相应的处理。如果没有相应的except处理块，代码的执行顺序会发生改变，直到找到相应的except处理块或者程序退出为止"
   ]
  },
  {
   "cell_type": "code",
   "execution_count": 275,
   "id": "bebe6926",
   "metadata": {},
   "outputs": [
    {
     "name": "stdout",
     "output_type": "stream",
     "text": [
      "result is 2.0\n",
      "executing finally clause\n",
      "division by zero!\n",
      "executing finally clause\n",
      "executing finally clause\n"
     ]
    },
    {
     "ename": "TypeError",
     "evalue": "unsupported operand type(s) for /: 'str' and 'str'",
     "output_type": "error",
     "traceback": [
      "\u001b[0;31m---------------------------------------------------------------------------\u001b[0m",
      "\u001b[0;31mTypeError\u001b[0m                                 Traceback (most recent call last)",
      "Cell \u001b[0;32mIn[275], line 14\u001b[0m\n\u001b[1;32m     10\u001b[0m divide(\u001b[38;5;241m2\u001b[39m, \u001b[38;5;241m1\u001b[39m)\n\u001b[1;32m     12\u001b[0m divide(\u001b[38;5;241m2\u001b[39m, \u001b[38;5;241m0\u001b[39m)\n\u001b[0;32m---> 14\u001b[0m divide(\u001b[38;5;124m\"\u001b[39m\u001b[38;5;124m2\u001b[39m\u001b[38;5;124m\"\u001b[39m, \u001b[38;5;124m\"\u001b[39m\u001b[38;5;124m1\u001b[39m\u001b[38;5;124m\"\u001b[39m)\n",
      "Cell \u001b[0;32mIn[275], line 3\u001b[0m, in \u001b[0;36mdivide\u001b[0;34m(x, y)\u001b[0m\n\u001b[1;32m      1\u001b[0m \u001b[38;5;28;01mdef\u001b[39;00m \u001b[38;5;21mdivide\u001b[39m(x, y):\n\u001b[1;32m      2\u001b[0m     \u001b[38;5;28;01mtry\u001b[39;00m:\n\u001b[0;32m----> 3\u001b[0m         result \u001b[38;5;241m=\u001b[39m x \u001b[38;5;241m/\u001b[39m y\n\u001b[1;32m      4\u001b[0m     \u001b[38;5;28;01mexcept\u001b[39;00m \u001b[38;5;167;01mZeroDivisionError\u001b[39;00m:\n\u001b[1;32m      5\u001b[0m         \u001b[38;5;28mprint\u001b[39m(\u001b[38;5;124m\"\u001b[39m\u001b[38;5;124mdivision by zero!\u001b[39m\u001b[38;5;124m\"\u001b[39m)\n",
      "\u001b[0;31mTypeError\u001b[0m: unsupported operand type(s) for /: 'str' and 'str'"
     ]
    }
   ],
   "source": [
    "def divide(x, y):\n",
    "    try:\n",
    "        result = x / y\n",
    "    except ZeroDivisionError:\n",
    "        print(\"division by zero!\")\n",
    "    else:\n",
    "        print(\"result is\", result)\n",
    "    finally:\n",
    "        print(\"executing finally clause\")\n",
    "divide(2, 1)\n",
    "\n",
    "divide(2, 0)\n",
    "\n",
    "divide(\"2\", \"1\")"
   ]
  },
  {
   "cell_type": "markdown",
   "id": "7e854232",
   "metadata": {},
   "source": [
    "try...except...finally：示例3\n",
    "  * finally代码中：返回值要慎重！"
   ]
  },
  {
   "cell_type": "code",
   "execution_count": 278,
   "id": "643a7dd9",
   "metadata": {},
   "outputs": [
    {
     "name": "stdout",
     "output_type": "stream",
     "text": [
      "-1\n",
      "-1\n",
      "-1\n"
     ]
    }
   ],
   "source": [
    "def demo_div(a, b):\n",
    "    try:\n",
    "        return a/b\n",
    "    except:\n",
    "        pass # 跳过该次循环\n",
    "    finally:\n",
    "        return -1\n",
    "\n",
    "print(demo_div(1, 0))\n",
    "print(demo_div(1, 2))\n",
    "print(demo_div(10, 2))\n",
    "# finally语句导致所有输出都为-1"
   ]
  },
  {
   "cell_type": "markdown",
   "id": "9b722477",
   "metadata": {},
   "source": [
    "### 8.4 断言与上下文处理\n",
    "* 两种特殊的异常处理形式；\n",
    "* 形式上比通常的异常处理简单\n",
    "#### 8.4.1 断言\n",
    "* 断言语句的语法\n",
    "  * assert expression\\[, reason\\] \n",
    "  * 当判断表达式expression为真时，什么都不做；如果表达式为假，则抛出异常。 \n",
    "* assert语句用途\n",
    "  * 一般用于开发程序时对特定必须满足的条件进行验证，仅当__debug__为True时有效。\n",
    "  * 当Python脚本以-O选项编译为字节码文件时，assert语句将被移除以提高运行速度"
   ]
  },
  {
   "cell_type": "markdown",
   "id": "41357ea4",
   "metadata": {},
   "source": [
    "断言：示例1"
   ]
  },
  {
   "cell_type": "code",
   "execution_count": 279,
   "id": "99bc6b22",
   "metadata": {},
   "outputs": [
    {
     "name": "stdout",
     "output_type": "stream",
     "text": [
      "AssertionError:1 is not equal 2!\n"
     ]
    }
   ],
   "source": [
    "try:\n",
    "    assert 1 == 2 , \"1 is not equal 2!\"\n",
    "except AssertionError as reason:\n",
    "    print(\"%s:%s\"%(reason.__class__.__name__, reason))"
   ]
  },
  {
   "cell_type": "markdown",
   "id": "f6d8938d",
   "metadata": {},
   "source": [
    "断言：示例2\n",
    "  * assert作用：调用函数使用的参数符合要求；\n",
    "  * 不符合要求时：提示用户存在的问题"
   ]
  },
  {
   "cell_type": "code",
   "execution_count": 282,
   "id": "8c2a95ce",
   "metadata": {},
   "outputs": [
    {
     "name": "stdout",
     "output_type": "stream",
     "text": [
      "55\n"
     ]
    }
   ],
   "source": [
    "def RecursiveSum(n):\n",
    "    #precondition: n >= 0\n",
    "    assert(n >= 0)\n",
    "    if n == 0: return 0\n",
    "    return RecursiveSum(n - 1) + n\n",
    "    #postcondition: returned sum of 1 to n\n",
    "\n",
    "def SumToN(n):\n",
    "    if n <= 0:\n",
    "        raise ValueError(\"N must be greater than or equal to 0\")\n",
    "    else:\n",
    "        return RecursiveSum(n)\n",
    "print(SumToN(10))\n",
    "# print(SumToN('a'))"
   ]
  },
  {
   "cell_type": "markdown",
   "id": "24c4fdfa",
   "metadata": {},
   "source": [
    "#### 8.4.2 上下文管理\n",
    "* 使用with语句进行上下文管理\n",
    "* with语句的语法\n",
    "* with语句的作用\n",
    "  * 解决try…finally结构中的资源释放问题；\n",
    "  * 提供了一种简单的方法。\n",
    "* with语句的实现\n",
    "  * 依赖于python语言的magic method，需要实现__enter__()和__exit__()两个方法：上下文管理协议；\n",
    "  * 或者通过引用contextlib，并使用@contextlib.contextmanager方式实现"
   ]
  },
  {
   "cell_type": "code",
   "execution_count": 285,
   "id": "6e607ec4",
   "metadata": {},
   "outputs": [],
   "source": [
    "# with context_expr [as obj]:\n",
    "    # with_block\n",
    "\n",
    "# obj = context_expr\n",
    "# obj.__enter__()\n",
    "# try:\n",
    "    # with_block\n",
    "# finally:\n",
    "    # obj.__exit__()"
   ]
  },
  {
   "cell_type": "markdown",
   "id": "a63c12ea",
   "metadata": {},
   "source": [
    "with语句：示例1"
   ]
  },
  {
   "cell_type": "code",
   "execution_count": 286,
   "id": "35aba245",
   "metadata": {},
   "outputs": [
    {
     "name": "stdout",
     "output_type": "stream",
     "text": [
      "elapsed: 0.0007407665252685547\n"
     ]
    }
   ],
   "source": [
    "import time\n",
    "class Timer(object):\n",
    "    def __init__(self):\n",
    "        pass\n",
    " \n",
    "    def __enter__(self):\n",
    "        self.start = time.time()\n",
    " \n",
    "    def __exit__(self, exception_type, exception_val, trace):\n",
    "        print(\"elapsed:\", time.time() - self.start)\n",
    "\n",
    "with Timer():\n",
    "    [i for i in range(10000)]"
   ]
  },
  {
   "cell_type": "markdown",
   "id": "085c102c",
   "metadata": {},
   "source": [
    "with语句：示例2"
   ]
  },
  {
   "cell_type": "code",
   "execution_count": 289,
   "id": "1f3fe2f9",
   "metadata": {},
   "outputs": [
    {
     "ename": "SyntaxError",
     "evalue": "invalid non-printable character U+00A0 (3872104712.py, line 4)",
     "output_type": "error",
     "traceback": [
      "\u001b[0;36m  Cell \u001b[0;32mIn[289], line 4\u001b[0;36m\u001b[0m\n\u001b[0;31m    \u001b[0m\n\u001b[0m    ^\u001b[0m\n\u001b[0;31mSyntaxError\u001b[0m\u001b[0;31m:\u001b[0m invalid non-printable character U+00A0\n"
     ]
    }
   ],
   "source": [
    "# 功能与上例相同\n",
    "import contextlib\n",
    "import time\n",
    " \n",
    "@contextlib.contextmanager\n",
    "def time_print(task_name):\n",
    "    t = time.time()\n",
    "    try:\n",
    "        yield\n",
    "    finally:\n",
    "        print(task_name, \"took\", time.time() - t, \"seconds.\")\n",
    "\n",
    "with time_print(\"processes\"):\n",
    "    [i for i in range(10000)]"
   ]
  },
  {
   "cell_type": "markdown",
   "id": "b1654119",
   "metadata": {},
   "source": [
    "with语句：示例3\n",
    "* 文件读写\n",
    "  * 下面的代码把文件myfile.txt内容复制到myfile.txt-bk中；\n",
    "  * 思考：代码是否足够简洁？"
   ]
  },
  {
   "cell_type": "code",
   "execution_count": 294,
   "id": "8359c789",
   "metadata": {},
   "outputs": [
    {
     "name": "stdout",
     "output_type": "stream",
     "text": [
      "1\tfudan\t复旦大学\t中国上海\t200433\n",
      "2\tsjtu\t交通大学\t中国上海\t200240\n"
     ]
    }
   ],
   "source": [
    "def fa(fname):\n",
    "    f = open(fname)\n",
    "    while True:\n",
    "        line = f.readline()\n",
    "        if line == '':\n",
    "            break\n",
    "        print(line.strip())\n",
    "    #end while\n",
    "    f.close()\n",
    "\n",
    "fa('sample7-1-3.txt')\n",
    "\n",
    "with open(\"sample7-1-2.txt\") as fr, open(\"sample7-1-3.txt\",\"w\") as fw:\n",
    "    for line in fr:\n",
    "        fw.write(line)"
   ]
  },
  {
   "cell_type": "markdown",
   "id": "483a86d9",
   "metadata": {},
   "source": [
    "### 8.5 用sys模块追溯最后的异常\n",
    "* 发生异常时\n",
    "  * Python回溯异常，给出大量的提示；\n",
    "  * 可用sys模块回溯最近一次的异常"
   ]
  },
  {
   "cell_type": "code",
   "execution_count": 295,
   "id": "09821342",
   "metadata": {},
   "outputs": [],
   "source": [
    "# import sys\n",
    "# try:\n",
    "    # block\n",
    "# except:\n",
    "    # errors = sys.exc_info()\n",
    "    # print(errors"
   ]
  },
  {
   "cell_type": "markdown",
   "id": "0a3ff1cc",
   "metadata": {},
   "source": [
    "* sys.exc_info()可以直接定位"
   ]
  },
  {
   "cell_type": "code",
   "execution_count": 301,
   "id": "34468772",
   "metadata": {},
   "outputs": [
    {
     "name": "stdout",
     "output_type": "stream",
     "text": [
      "(<class 'ZeroDivisionError'>, ZeroDivisionError('division by zero'), <traceback object at 0x10de0db40>)\n"
     ]
    },
    {
     "ename": "ZeroDivisionError",
     "evalue": "division by zero",
     "output_type": "error",
     "traceback": [
      "\u001b[0;31m---------------------------------------------------------------------------\u001b[0m",
      "\u001b[0;31mZeroDivisionError\u001b[0m                         Traceback (most recent call last)",
      "Cell \u001b[0;32mIn[301], line 14\u001b[0m\n\u001b[1;32m     12\u001b[0m     \u001b[38;5;28mprint\u001b[39m(r)\n\u001b[1;32m     13\u001b[0m \u001b[38;5;66;03m# (<type 'exceptions.ZeroDivisionError'>, ZeroDivisionError(division by zero',), <traceback object at 0x0134C990>)\u001b[39;00m\n\u001b[0;32m---> 14\u001b[0m C()\n",
      "Cell \u001b[0;32mIn[301], line 6\u001b[0m, in \u001b[0;36mC\u001b[0;34m()\u001b[0m\n\u001b[1;32m      5\u001b[0m \u001b[38;5;28;01mdef\u001b[39;00m \u001b[38;5;21mC\u001b[39m():\n\u001b[0;32m----> 6\u001b[0m     B()\n",
      "Cell \u001b[0;32mIn[301], line 4\u001b[0m, in \u001b[0;36mB\u001b[0;34m()\u001b[0m\n\u001b[1;32m      3\u001b[0m \u001b[38;5;28;01mdef\u001b[39;00m \u001b[38;5;21mB\u001b[39m():\n\u001b[0;32m----> 4\u001b[0m     A()\n",
      "Cell \u001b[0;32mIn[301], line 2\u001b[0m, in \u001b[0;36mA\u001b[0;34m()\u001b[0m\n\u001b[1;32m      1\u001b[0m \u001b[38;5;28;01mdef\u001b[39;00m \u001b[38;5;21mA\u001b[39m():\n\u001b[0;32m----> 2\u001b[0m     \u001b[38;5;241m1\u001b[39m\u001b[38;5;241m/\u001b[39m\u001b[38;5;241m0\u001b[39m\n",
      "\u001b[0;31mZeroDivisionError\u001b[0m: division by zero"
     ]
    }
   ],
   "source": [
    "def A():\n",
    "    1/0\n",
    "def B():\n",
    "    A()   \n",
    "def C():\n",
    "    B()\n",
    "\n",
    "try:\n",
    "    C()\n",
    "except:\n",
    "    r = sys.exc_info()\n",
    "    print(r)\n",
    "# (<type 'exceptions.ZeroDivisionError'>, ZeroDivisionError(division by zero',), <traceback object at 0x0134C990>)\n",
    "C()"
   ]
  },
  {
   "cell_type": "markdown",
   "id": "c0ac062f",
   "metadata": {},
   "source": [
    "* 练习"
   ]
  },
  {
   "cell_type": "code",
   "execution_count": 1,
   "id": "5de396f4",
   "metadata": {},
   "outputs": [
    {
     "name": "stdout",
     "output_type": "stream",
     "text": [
      "<__main__.Student object at 0x1055f1b90> 自定义类型type： <class '__main__.Student'>\n",
      "<__main__.Student object at 0x1055f3010> 自定义类型type： <class '__main__.Student'>\n",
      "stu1的参数: ccx 22\n",
      "stu2的参数: xgq woman 23\n"
     ]
    }
   ],
   "source": [
    "# 定义一个类，使用class关键字\n",
    "class Student:\n",
    "    pass # 暂时不赋值\n",
    "\n",
    "#创建类的对象\n",
    "stu1 = Student() # 创建Student类的一个实例\n",
    "stu2 = Student()\n",
    "print(stu1,'自定义类型type：',type(stu1))\n",
    "print(stu2,'自定义类型type：',type(stu2))\n",
    "# 为对象绑定属性 （注：需要先给类创建实例）\n",
    "stu1.name = 'ccx'\n",
    "stu1.age = 22\n",
    "stu2.name = 'xgq'\n",
    "stu2.age = 23\n",
    "stu2.sex = 'woman'\n",
    "# 调用\n",
    "print('stu1的参数:',stu1.name,stu1.age) #打印stu1的参数\n",
    "print('stu2的参数:',stu2.name,stu2.sex,stu2.age) # 打印stu2的参数"
   ]
  }
 ],
 "metadata": {
  "kernelspec": {
   "display_name": "Python 3 (ipykernel)",
   "language": "python",
   "name": "python3"
  },
  "language_info": {
   "codemirror_mode": {
    "name": "ipython",
    "version": 3
   },
   "file_extension": ".py",
   "mimetype": "text/x-python",
   "name": "python",
   "nbconvert_exporter": "python",
   "pygments_lexer": "ipython3",
   "version": "3.11.5"
  }
 },
 "nbformat": 4,
 "nbformat_minor": 5
}
