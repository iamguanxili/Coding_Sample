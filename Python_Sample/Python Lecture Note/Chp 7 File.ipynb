{
 "cells": [
  {
   "cell_type": "markdown",
   "id": "8aa602d7",
   "metadata": {},
   "source": [
    "# Chp 7 File"
   ]
  },
  {
   "cell_type": "markdown",
   "id": "e8407a88",
   "metadata": {},
   "source": [
    "* 文件分类：文件文本\n",
    "  * 文本文件\n",
    "    * 存储的是常规字符串，由若干文本行组成，通常每行以换行符'\\n'结尾。\n",
    "    * 常规字符串是指记事本或其他文本编辑器能正常显示、编辑并且人类能够直接阅读和理解的字符串，如英文字母、汉字、数字字符串。\n",
    "  * 文本文件的编辑\n",
    "    * 可以使用字处理软件如gedit、记事本进行编辑。\n",
    "  * 常用文本文件工具有notepad++，ultraedit，notepad等。\n",
    "* 文件分类：二进制文件\n",
    "  * 二进制文件\n",
    "    * 包含：数据库文件、图像文件、可执行文件、音视频文件、Office文档等等。\n",
    "  * 二进制文件的编辑\n",
    "    * 不能使用记事本或其他文本编辑软件进行正常读写，也无法通过Python的文件对象直接读取和理解二进制文件的内容。\n",
    "  * 常用的二进制文件工具有ultraedit、ultrahex；notepad++等。\n",
    "### 7.1 文件对象\n",
    "* 文件对象是python内置对象之一\n",
    "  * 是一种资源；\n",
    "  * 需要打开文件对象；\n",
    "  * 同时，需要释放文件对象。\n",
    "* 文件对象的操作遵循特定的流程：三步\n",
    "  * 打开：使用open()；\n",
    "  * 操作：读、写、删除等操作；\n",
    "  * 关闭：使用close()。\n",
    "* 文件打开详解：\n",
    "  * 文件对象名 = open（文件名\\[，访问模式\\[，缓冲区\\]\\])\n",
    "    * 文件名\n",
    "      * 被打开的文件名称；\n",
    "    * 访问模式\n",
    "      * 打开文件后的处理方式；\n",
    "      * 具体取值见右表：红色的标记可与其他组合使用；【r：读，w：写，a：追加，<b style=\"color: red;\">b：二进制模式，+：读写模式</b>】\n",
    "      * 默认值是‘r’；\n",
    "    * 缓冲区\n",
    "      * 读写文件的缓存模式；\n",
    "      * 0表示不缓存，1表示缓存，大于1则表示缓冲区的大小，小于0则表示使用默认的缓冲区大小；\n",
    "      * 默认值是缓存模式。\n",
    "    * 函数返回1个文件对象\n",
    "      * 利用该对象可以进行各种文件操作；\n",
    "      * 可以访问文件对象的属性。\n",
    "* 文件打开典型调用方法\n",
    "  * 典型调用方式\n",
    "    * 以读模式打开文件：f = open('a.txt')\n",
    "    * 以读模式打开二进制文件：f = open('c.dat','rb')\n",
    "    * 以读写模式打开文件（文件不存在则创建文件，否则置文件指针到文件尾）：f = open('b.csv','a+')\n",
    "* 文件对象的属性"
   ]
  },
  {
   "cell_type": "code",
   "execution_count": 207,
   "id": "609b765c",
   "metadata": {},
   "outputs": [
    {
     "name": "stdout",
     "output_type": "stream",
     "text": [
      "file name  : sample.txt\n",
      "access mode: r\n",
      "encoding   : UTF-8\n",
      "closed     : False\n"
     ]
    }
   ],
   "source": [
    "#filename property.py\n",
    "import os\n",
    "def printfp():\n",
    "    fh = open('sample.txt')\n",
    "    try:\n",
    "        print('file name  : %s' % fh.name) # 文件的名称\n",
    "        print('access mode: %s' % fh.mode) # 文件的访问模式\n",
    "        print('encoding   : %s' % fh.encoding) # 文件所使用的编码\n",
    "        print('closed     : %s' % fh.closed) # 若文件关闭则为真，否则为假\n",
    "    finally:\n",
    "        fh.close()\n",
    "#end printfp\n",
    "\n",
    "if __name__=='__main__':\n",
    "    printfp()\n",
    "#end if"
   ]
  },
  {
   "cell_type": "markdown",
   "id": "99b84b6a",
   "metadata": {},
   "source": [
    "* 文件对象的常用操作\n",
    "  * 读\n",
    "    * f.read(\\[size\\])：从文件中读取size个字节，默认读取所有内容\n",
    "    * f.readline()：从文本文件中读取一行内容\n",
    "    * f.readlines()：把文本文件中的每行作为字符串插入列表中返回该列表\n",
    "  * 写\n",
    "    * f.write(s)：把字符串s的内容写入文件\n",
    "    * f.writelines(s)：把字符串列表s写入文本文件，不添加换行符\n",
    "  * 其他操作\n",
    "    * f.flush()：把缓冲区的内容写入文件，不关闭文件\n",
    "    * f.close()：把缓冲区的内容写入文件，关闭文件，释放文件对象\n",
    "    * f.truncated(\\[size\\])：删除从当前指针位置到文件末尾的内容。如果制定了size，则不论指针在什么位置都只留下size个字节，其余的删除\n",
    "    * f.seek(offset\\[,whence\\])：把文件指针移动到新的位置。offset表示相对于whence的位置；whence为0表示从文件头开始计算，1表示从当前位置开始计算，2表示从文件尾开始计算，默认为0"
   ]
  },
  {
   "cell_type": "markdown",
   "id": "56400d31",
   "metadata": {},
   "source": [
    "* 文件操作模式"
   ]
  },
  {
   "cell_type": "code",
   "execution_count": null,
   "id": "80a344e5",
   "metadata": {},
   "outputs": [],
   "source": [
    "# 模式一\n",
    "handler = open('sample.txt')\n",
    "lines = handler.readlines()\n",
    "handler.close()\n",
    "\n",
    "print(lines)\n",
    "# 优缺点：最常见的操作方式：三步；如有例外产生时，程序运行不正常；同时资源不能释放\n",
    "\n",
    "# 模式二\n",
    "lines=[]\n",
    "with open('sample.txt') as handler:\n",
    "    lines = handler.readlines()\n",
    "\n",
    "print(lines)\n",
    "# 优缺点：比较安全的操作方式；可以自动进行资源管理\n",
    "\n",
    "# 模式三\n",
    "lines=[]\n",
    "handler=open('sample.txt')\n",
    "try:\n",
    "    lines = handler.readlines()\n",
    "finally:\n",
    "    handler.close()\n",
    "\n",
    "print(lines)\n",
    "# 优缺点：很好的操作方式；可以保证资源的释放"
   ]
  },
  {
   "cell_type": "markdown",
   "id": "17ee4477",
   "metadata": {},
   "source": [
    "### 7.2 文本文件操作案例精选"
   ]
  },
  {
   "cell_type": "markdown",
   "id": "dda57b68",
   "metadata": {},
   "source": [
    "例7-1：向文本文件写入内容。可以仿照模式一和模式二写代码如右侧；注意s1和s2中都有行结束标记"
   ]
  },
  {
   "cell_type": "code",
   "execution_count": 211,
   "id": "29f6ca92",
   "metadata": {},
   "outputs": [],
   "source": [
    "f = open('sample7-1.txt', 'a+') # 不存在则创建文件\n",
    "f.truncate(0) # 不管指针在什么位置，文档都只留下0个字节，其余的删除\n",
    "s1 = '1\\tfudan\\t复旦大学\\t中国上海\\t200433\\n'\n",
    "s2 = '2\\tsjtu\\t交通大学\\t中国上海\\t200240\\n'\n",
    "f.write(s1)\n",
    "f.write(s2)\n",
    "f.close()"
   ]
  },
  {
   "cell_type": "code",
   "execution_count": 212,
   "id": "2204aea1",
   "metadata": {},
   "outputs": [],
   "source": [
    "s1 = '1\\tfudan\\t复旦大学\\t中国上海\\t200433\\n'\n",
    "s2 = '2\\tsjtu\\t交通大学\\t中国上海\\t200240\\n'\n",
    "with open('sample7-1-2.txt', 'a+') as f: \n",
    "    f.write(s1)\n",
    "    f.write(s2)"
   ]
  },
  {
   "cell_type": "code",
   "execution_count": 213,
   "id": "70af49f7",
   "metadata": {},
   "outputs": [],
   "source": [
    "s1 = '1\\tfudan\\t复旦大学\\t中国上海\\t200433\\n'\n",
    "s2 = '2\\tsjtu\\t交通大学\\t中国上海\\t200240\\n'\n",
    "f = open('sample7-1-3.txt', 'a+')\n",
    "try: \n",
    "    f.write(s1)\n",
    "    f.write(s2)\n",
    "finally: \n",
    "    f.close()"
   ]
  },
  {
   "cell_type": "markdown",
   "id": "a4d0a9ec",
   "metadata": {},
   "source": [
    "例7-3：读取并显示文本文件所有行\n",
    "  * print()函数默认输出一个换行符；当使用end参数，可以指定输出的结束字符；\n",
    "  * 读出的每一行(line)中包含一个换行符；\n",
    "  * 不做处理的话，将输出一个空行"
   ]
  },
  {
   "cell_type": "code",
   "execution_count": 223,
   "id": "e01f279d",
   "metadata": {},
   "outputs": [
    {
     "name": "stdout",
     "output_type": "stream",
     "text": [
      "1\tfudan\t复旦大学\t中国上海\t200433\n",
      "2\tsjtu\t交通大学\t中国上海\t200240\n",
      "1\tfudan\t复旦大学\t中国上海\t200433\n",
      "2\tsjtu\t交通大学\t中国上海\t200240\n"
     ]
    }
   ],
   "source": [
    "def fa(fname):\n",
    "    f = open(fname)\n",
    "    while True:\n",
    "        line = f.readline()\n",
    "        if line == '':\n",
    "            break\n",
    "        print(line.strip()) # 去除字符串开头结尾空格、换行符、制表符等空白字符，保证不会在行与行之间输出一个空白行，这里主要消除了换行符\n",
    "    #end while\n",
    "    f.close()\n",
    "\n",
    "fa('sample7-1.txt')\n",
    "\n",
    "def fb(fname): \n",
    "    #lines = []\n",
    "    with open(fname) as f:\n",
    "        lines = f.readlines()\n",
    "        for line in lines:\n",
    "            print(line,end='') # end=''保证不会在行与行之间输出一个空白行\n",
    "\n",
    "fb('sample7-1.txt')"
   ]
  },
  {
   "cell_type": "code",
   "execution_count": 6,
   "id": "0968eb1c",
   "metadata": {},
   "outputs": [
    {
     "name": "stdout",
     "output_type": "stream",
     "text": [
      "['1', '200433']\n",
      "0 1\tfudan\t复旦大学\t中国上海\t200433\n",
      "['2', '200240']\n",
      "1 2\tsjtu\t交通大学\t中国上海\t200240\n"
     ]
    }
   ],
   "source": [
    "import re\n",
    "with open('sample7-1.txt', 'r') as f: \n",
    "    id = 0\n",
    "    for line in f: \n",
    "        num = re.findall('[0-9]+', line)\n",
    "        print(num)\n",
    "        print(id, line, end='')\n",
    "        id += 1"
   ]
  },
  {
   "cell_type": "markdown",
   "id": "4b346558",
   "metadata": {},
   "source": [
    "例7.5：排序10KI.txt中的整数，并按升序排列写入10KI_asc.txt中"
   ]
  },
  {
   "cell_type": "code",
   "execution_count": 135,
   "id": "cabf0307",
   "metadata": {},
   "outputs": [
    {
     "name": "stdout",
     "output_type": "stream",
     "text": [
      "\n"
     ]
    }
   ],
   "source": [
    "def fa(fname):\n",
    "    f = open(fname)\n",
    "    while True:\n",
    "        line = f.readline()\n",
    "        if line == '':\n",
    "            break\n",
    "    print(line.strip())\n",
    "    #end while\n",
    "    f.close()\n",
    "\n",
    "def sort10ki():\n",
    "    with open('sample7-5.txt','r') as f:\n",
    "        data = f.readlines()\n",
    "    #end with\n",
    "    data = [int(line.strip()) for line in data]\n",
    "    data.sort()\n",
    "    data = [str(i)+'\\n' for i in data]\n",
    "    with open('sample7-5.txt','a+') as f:\n",
    "        f.truncate(0)\n",
    "        f.writelines(data)\n",
    "    #end with\n",
    "\n",
    "sort10ki()\n",
    "fa('sample7-5.txt')"
   ]
  },
  {
   "cell_type": "markdown",
   "id": "c72098d4",
   "metadata": {},
   "source": [
    "例7.6：把T76.py中的代码，在行首加上行号，保存为文件T76_n.py"
   ]
  },
  {
   "cell_type": "code",
   "execution_count": 136,
   "id": "22da45f0",
   "metadata": {},
   "outputs": [],
   "source": [
    "def comment(fname):\n",
    "    with open(fname,'r') as f:\n",
    "        lines = f.readlines()\n",
    "    #end with\n",
    "    lines = [ str(idx)+\") \"+line for idx,line in enumerate(lines)]\n",
    "  \n",
    "    with open(fname[:-3]+'_n.py','a+') as f:\n",
    "        f.truncate(0)\n",
    "        f.writelines(lines)\n",
    "    #end with\n",
    "\n",
    "comment('sample7-6.py')"
   ]
  },
  {
   "cell_type": "markdown",
   "id": "55ab0574",
   "metadata": {},
   "source": [
    "### 7.4 文件级操作\n",
    "* 文件级别的操作\n",
    "  * 文件内容：7.1中的内容\n",
    "  * 文件路径：os.path\n",
    "  * 读取文件内容：fileinput\n",
    "  * 临时文件和文件夹：tempfile\n",
    "  * Python 3.4以上：pathlib"
   ]
  },
  {
   "cell_type": "markdown",
   "id": "b350b8d2",
   "metadata": {},
   "source": [
    "* 重点：os模块、os.path模块【见Chp 7 ppt p21, 22】"
   ]
  },
  {
   "cell_type": "markdown",
   "id": "0f4fdc2c",
   "metadata": {},
   "source": [
    "* 示例1：列出当前目录下，所有扩展名为.pyc的文件。"
   ]
  },
  {
   "cell_type": "code",
   "execution_count": 137,
   "id": "6b3986c7",
   "metadata": {},
   "outputs": [
    {
     "name": "stdout",
     "output_type": "stream",
     "text": [
      "['Chp 3 Selection&Loop.ipynb', 'Chp 4 String.ipynb', 'Chp 5 Function.ipynb', 'Lecture Note.ipynb', 'Chp 2 Sequence.ipynb', 'Chp 1 Basics.ipynb']\n"
     ]
    }
   ],
   "source": [
    "import os\n",
    "def list_file_ext(ext):\n",
    "    file_list = [fn for fn in os.listdir(os.getcwd())\\\n",
    "                 if os.path.isfile(fn) and fn.endswith(ext)] # os.getcwd：给出当前路径\n",
    "    print(file_list)\n",
    "list_file_ext('.ipynb')"
   ]
  },
  {
   "cell_type": "code",
   "execution_count": 13,
   "id": "2b807903",
   "metadata": {},
   "outputs": [
    {
     "name": "stdout",
     "output_type": "stream",
     "text": [
      "['Lecture Note.ipynb', 'Chp 1.ipynb']\n"
     ]
    }
   ],
   "source": [
    "import os\n",
    "\n",
    "def list_file_ext(ext):\n",
    "    file_list = [fn for fn in os.listdir(os.getcwd()) if os.path.isfile(fn) and fn.endswith(ext)]\n",
    "    print(file_list)\n",
    "\n",
    "list_file_ext('.ipynb')"
   ]
  },
  {
   "cell_type": "markdown",
   "id": "fb7b3c4b",
   "metadata": {},
   "source": [
    "* 示例2：更改当前目录下，所有扩展名为.html的文件为.htm"
   ]
  },
  {
   "cell_type": "code",
   "execution_count": null,
   "id": "d9cf1100",
   "metadata": {},
   "outputs": [],
   "source": [
    "import os\n",
    "def rename_extention(old,new):\n",
    "    file_list = os.listdir('.')\n",
    "    for filename in file_list:\n",
    "        pos = filename.rindex('.') # 找'.'，然后返回下标\n",
    "        if filename[pos+1:] == old :\n",
    "            newname = filename[:pos+1]+ new\n",
    "            os.rename(filename,newname)\n",
    "            print(filename+\"更改为:\"+newname)\n",
    "\n",
    "rename_extention('html','htm')"
   ]
  },
  {
   "cell_type": "code",
   "execution_count": 143,
   "id": "0d4c0bc7",
   "metadata": {},
   "outputs": [],
   "source": [
    "import os\n",
    "def rename_extention2(old,new):\n",
    "    file_list = [filename for filename in os.listdir('.') if filename.endswith(old)]\n",
    "    for filename in file_list:\n",
    "        newname = filename[:-4] + new\n",
    "        os.rename(filename,newname)\n",
    "        print(filename+\"更改为:\"+newname)\n",
    "\n",
    "\n",
    "rename_extention2('html','htm')"
   ]
  },
  {
   "cell_type": "markdown",
   "id": "5569773b",
   "metadata": {},
   "source": [
    "### 7.5 目录操作：递归遍历\n",
    "* os和os.path模块中包含目录操作方法\n",
    "  * 可以通过dir(os)和dir(os.path)查看【见Chp 7 ppt p27】"
   ]
  },
  {
   "cell_type": "code",
   "execution_count": 201,
   "id": "cba74fb3",
   "metadata": {},
   "outputs": [
    {
     "name": "stdout",
     "output_type": "stream",
     "text": [
      "/Users/liguanxi/Dropbox/00 大学/大三下/课程（大三下）/Python/Python note/sample7-1-3.txt\n",
      "/Users/liguanxi/Dropbox/00 大学/大三下/课程（大三下）/Python/Python note/resume.htm\n",
      "/Users/liguanxi/Dropbox/00 大学/大三下/课程（大三下）/Python/Python note/sample7-1-2.txt\n",
      "/Users/liguanxi/Dropbox/00 大学/大三下/课程（大三下）/Python/Python note/.DS_Store\n",
      "/Users/liguanxi/Dropbox/00 大学/大三下/课程（大三下）/Python/Python note/Chp 3 Selection&Loop.ipynb\n",
      "/Users/liguanxi/Dropbox/00 大学/大三下/课程（大三下）/Python/Python note/sample7-1.txt\n",
      "/Users/liguanxi/Dropbox/00 大学/大三下/课程（大三下）/Python/Python note/Chp 4 String.ipynb\n",
      "/Users/liguanxi/Dropbox/00 大学/大三下/课程（大三下）/Python/Python note/pdf\n",
      "/Users/liguanxi/Dropbox/00 大学/大三下/课程（大三下）/Python/Python note/pdf/Chp 1 Basics.pdf\n",
      "/Users/liguanxi/Dropbox/00 大学/大三下/课程（大三下）/Python/Python note/pdf/.DS_Store\n",
      "/Users/liguanxi/Dropbox/00 大学/大三下/课程（大三下）/Python/Python note/pdf/Chp 2 Sequence.pdf\n",
      "/Users/liguanxi/Dropbox/00 大学/大三下/课程（大三下）/Python/Python note/pdf/Chp 4 String.pdf\n",
      "/Users/liguanxi/Dropbox/00 大学/大三下/课程（大三下）/Python/Python note/pdf/Chp 3 Selection&Loop.pdf\n",
      "/Users/liguanxi/Dropbox/00 大学/大三下/课程（大三下）/Python/Python note/sample7-5.txt\n",
      "/Users/liguanxi/Dropbox/00 大学/大三下/课程（大三下）/Python/Python note/Chp 5 Function.ipynb\n",
      "/Users/liguanxi/Dropbox/00 大学/大三下/课程（大三下）/Python/Python note/Lecture Note.ipynb\n",
      "/Users/liguanxi/Dropbox/00 大学/大三下/课程（大三下）/Python/Python note/sample7-6_n.py\n",
      "/Users/liguanxi/Dropbox/00 大学/大三下/课程（大三下）/Python/Python note/.ipynb_checkpoints\n",
      "/Users/liguanxi/Dropbox/00 大学/大三下/课程（大三下）/Python/Python note/.ipynb_checkpoints/Chp 2-checkpoint.ipynb\n",
      "/Users/liguanxi/Dropbox/00 大学/大三下/课程（大三下）/Python/Python note/.ipynb_checkpoints/Chp 3-checkpoint.ipynb\n",
      "/Users/liguanxi/Dropbox/00 大学/大三下/课程（大三下）/Python/Python note/.ipynb_checkpoints/Chp 5 Function-checkpoint.ipynb\n",
      "/Users/liguanxi/Dropbox/00 大学/大三下/课程（大三下）/Python/Python note/.ipynb_checkpoints/未命名-checkpoint.ipynb\n",
      "/Users/liguanxi/Dropbox/00 大学/大三下/课程（大三下）/Python/Python note/.ipynb_checkpoints/Chp 4 String-checkpoint.ipynb\n",
      "/Users/liguanxi/Dropbox/00 大学/大三下/课程（大三下）/Python/Python note/.ipynb_checkpoints/Lecture Note-checkpoint.ipynb\n",
      "/Users/liguanxi/Dropbox/00 大学/大三下/课程（大三下）/Python/Python note/.ipynb_checkpoints/Chp 1 Basics-checkpoint.ipynb\n",
      "/Users/liguanxi/Dropbox/00 大学/大三下/课程（大三下）/Python/Python note/.ipynb_checkpoints/lec-checkpoint.ipynb\n",
      "/Users/liguanxi/Dropbox/00 大学/大三下/课程（大三下）/Python/Python note/.ipynb_checkpoints/Chp 1-checkpoint.ipynb\n",
      "/Users/liguanxi/Dropbox/00 大学/大三下/课程（大三下）/Python/Python note/Chp 2 Sequence.ipynb\n",
      "/Users/liguanxi/Dropbox/00 大学/大三下/课程（大三下）/Python/Python note/Chp 1 Basics.ipynb\n",
      "/Users/liguanxi/Dropbox/00 大学/大三下/课程（大三下）/Python/Python note/sample7-6.py\n",
      "/Users/liguanxi/Dropbox/00 大学/大三下/课程（大三下）/Python/Python note/.vscode\n",
      "/Users/liguanxi/Dropbox/00 大学/大三下/课程（大三下）/Python/Python note/.vscode/tasks.json\n",
      "/Users/liguanxi/Dropbox/00 大学/大三下/课程（大三下）/Python/Python note/sample.txt\n",
      "\n",
      "\n",
      "1\n",
      "/Users/liguanxi/Dropbox/00 大学/大三下/课程（大三下）/Python/Python note/pdf\n",
      "/Users/liguanxi/Dropbox/00 大学/大三下/课程（大三下）/Python/Python note/.ipynb_checkpoints\n",
      "/Users/liguanxi/Dropbox/00 大学/大三下/课程（大三下）/Python/Python note/.vscode\n",
      "2\n",
      "/Users/liguanxi/Dropbox/00 大学/大三下/课程（大三下）/Python/Python note/sample7-1-3.txt\n",
      "/Users/liguanxi/Dropbox/00 大学/大三下/课程（大三下）/Python/Python note/resume.htm\n",
      "/Users/liguanxi/Dropbox/00 大学/大三下/课程（大三下）/Python/Python note/sample7-1-2.txt\n",
      "/Users/liguanxi/Dropbox/00 大学/大三下/课程（大三下）/Python/Python note/.DS_Store\n",
      "/Users/liguanxi/Dropbox/00 大学/大三下/课程（大三下）/Python/Python note/Chp 3 Selection&Loop.ipynb\n",
      "/Users/liguanxi/Dropbox/00 大学/大三下/课程（大三下）/Python/Python note/sample7-1.txt\n",
      "/Users/liguanxi/Dropbox/00 大学/大三下/课程（大三下）/Python/Python note/Chp 4 String.ipynb\n",
      "/Users/liguanxi/Dropbox/00 大学/大三下/课程（大三下）/Python/Python note/sample7-5.txt\n",
      "/Users/liguanxi/Dropbox/00 大学/大三下/课程（大三下）/Python/Python note/Chp 5 Function.ipynb\n",
      "/Users/liguanxi/Dropbox/00 大学/大三下/课程（大三下）/Python/Python note/Lecture Note.ipynb\n",
      "/Users/liguanxi/Dropbox/00 大学/大三下/课程（大三下）/Python/Python note/sample7-6_n.py\n",
      "/Users/liguanxi/Dropbox/00 大学/大三下/课程（大三下）/Python/Python note/Chp 2 Sequence.ipynb\n",
      "/Users/liguanxi/Dropbox/00 大学/大三下/课程（大三下）/Python/Python note/Chp 1 Basics.ipynb\n",
      "/Users/liguanxi/Dropbox/00 大学/大三下/课程（大三下）/Python/Python note/sample7-6.py\n",
      "/Users/liguanxi/Dropbox/00 大学/大三下/课程（大三下）/Python/Python note/sample.txt\n",
      "3\n",
      "1\n",
      "2\n",
      "/Users/liguanxi/Dropbox/00 大学/大三下/课程（大三下）/Python/Python note/pdf/Chp 1 Basics.pdf\n",
      "/Users/liguanxi/Dropbox/00 大学/大三下/课程（大三下）/Python/Python note/pdf/.DS_Store\n",
      "/Users/liguanxi/Dropbox/00 大学/大三下/课程（大三下）/Python/Python note/pdf/Chp 2 Sequence.pdf\n",
      "/Users/liguanxi/Dropbox/00 大学/大三下/课程（大三下）/Python/Python note/pdf/Chp 4 String.pdf\n",
      "/Users/liguanxi/Dropbox/00 大学/大三下/课程（大三下）/Python/Python note/pdf/Chp 3 Selection&Loop.pdf\n",
      "3\n",
      "1\n",
      "2\n",
      "/Users/liguanxi/Dropbox/00 大学/大三下/课程（大三下）/Python/Python note/.ipynb_checkpoints/Chp 2-checkpoint.ipynb\n",
      "/Users/liguanxi/Dropbox/00 大学/大三下/课程（大三下）/Python/Python note/.ipynb_checkpoints/Chp 3-checkpoint.ipynb\n",
      "/Users/liguanxi/Dropbox/00 大学/大三下/课程（大三下）/Python/Python note/.ipynb_checkpoints/Chp 5 Function-checkpoint.ipynb\n",
      "/Users/liguanxi/Dropbox/00 大学/大三下/课程（大三下）/Python/Python note/.ipynb_checkpoints/未命名-checkpoint.ipynb\n",
      "/Users/liguanxi/Dropbox/00 大学/大三下/课程（大三下）/Python/Python note/.ipynb_checkpoints/Chp 4 String-checkpoint.ipynb\n",
      "/Users/liguanxi/Dropbox/00 大学/大三下/课程（大三下）/Python/Python note/.ipynb_checkpoints/Lecture Note-checkpoint.ipynb\n",
      "/Users/liguanxi/Dropbox/00 大学/大三下/课程（大三下）/Python/Python note/.ipynb_checkpoints/Chp 1 Basics-checkpoint.ipynb\n",
      "/Users/liguanxi/Dropbox/00 大学/大三下/课程（大三下）/Python/Python note/.ipynb_checkpoints/lec-checkpoint.ipynb\n",
      "/Users/liguanxi/Dropbox/00 大学/大三下/课程（大三下）/Python/Python note/.ipynb_checkpoints/Chp 1-checkpoint.ipynb\n",
      "3\n",
      "1\n",
      "2\n",
      "/Users/liguanxi/Dropbox/00 大学/大三下/课程（大三下）/Python/Python note/.vscode/tasks.json\n",
      "3\n"
     ]
    }
   ],
   "source": [
    "# 不使用walk方法\n",
    "def VisitDef(path):\n",
    "    if not os.path.isdir(path): # 判断是否存在该目录\n",
    "        print('Error')\n",
    "        return\n",
    "    for lists in os.listdir(path): # 列出目录下所有文件的文件名\n",
    "        sub_path = os.path.join(path, lists) # 合并目录和文件名\n",
    "        print(sub_path)\n",
    "        if os.path.isdir(sub_path): # 如果存在子目录，子目录也一并打出，利用了上一级的输出结果\n",
    "            VisitDef(sub_path) # 递归\n",
    "VisitDef('/Users/liguanxi/Dropbox/00 大学/大三下/课程（大三下）/Python/Python note')\n",
    "print()\n",
    "print()\n",
    "\n",
    "# 使用os.walk方法\n",
    "def visitDir2(path):\n",
    "    if not os.path.isdir(path):\n",
    "        print('Error:\"',path,'\" is not a directory or does not exist.')\n",
    "        return\n",
    "    list_dirs = os.walk(path)   \n",
    "    #os.walk返回3个元素的元组：所有路径名、该层路径所有目录列表与该层路径文件列表\n",
    "    for root, dirs, files in list_dirs:  # 一层一层目录进行访问\n",
    "    #遍历该元组的目录和文件信息\n",
    "        print(1)\n",
    "        for d in dirs: \n",
    "            print(os.path.join(root, d))  \n",
    "            #获取完整路径\n",
    "        print(2)\n",
    "        for f in files: \n",
    "            print(os.path.join(root, f))  \n",
    "            #获取文件绝对路径\n",
    "        print(3)\n",
    "visitDir2('/Users/liguanxi/Dropbox/00 大学/大三下/课程（大三下）/Python/Python note')"
   ]
  },
  {
   "cell_type": "code",
   "execution_count": 197,
   "id": "56055993",
   "metadata": {},
   "outputs": [
    {
     "name": "stdout",
     "output_type": "stream",
     "text": [
      "/Users/liguanxi/Dropbox/00 大学/大三下/课程（大三下）/Python/Python note\n",
      "1\n",
      "pdf\n",
      ".ipynb_checkpoints\n",
      ".vscode\n",
      "2\n",
      "sample7-1-3.txt\n",
      "resume.htm\n",
      "sample7-1-2.txt\n",
      ".DS_Store\n",
      "Chp 3 Selection&Loop.ipynb\n",
      "sample7-1.txt\n",
      "Chp 4 String.ipynb\n",
      "sample7-5.txt\n",
      "Chp 5 Function.ipynb\n",
      "Lecture Note.ipynb\n",
      "sample7-6_n.py\n",
      "Chp 2 Sequence.ipynb\n",
      "Chp 1 Basics.ipynb\n",
      "sample7-6.py\n",
      "sample.txt\n",
      "3\n",
      "/Users/liguanxi/Dropbox/00 大学/大三下/课程（大三下）/Python/Python note/pdf\n",
      "1\n",
      "2\n",
      "Chp 1 Basics.pdf\n",
      ".DS_Store\n",
      "Chp 2 Sequence.pdf\n",
      "Chp 4 String.pdf\n",
      "Chp 3 Selection&Loop.pdf\n",
      "3\n",
      "/Users/liguanxi/Dropbox/00 大学/大三下/课程（大三下）/Python/Python note/.ipynb_checkpoints\n",
      "1\n",
      "2\n",
      "Chp 2-checkpoint.ipynb\n",
      "Chp 3-checkpoint.ipynb\n",
      "Chp 5 Function-checkpoint.ipynb\n",
      "未命名-checkpoint.ipynb\n",
      "Chp 4 String-checkpoint.ipynb\n",
      "Lecture Note-checkpoint.ipynb\n",
      "Chp 1 Basics-checkpoint.ipynb\n",
      "lec-checkpoint.ipynb\n",
      "Chp 1-checkpoint.ipynb\n",
      "3\n",
      "/Users/liguanxi/Dropbox/00 大学/大三下/课程（大三下）/Python/Python note/.vscode\n",
      "1\n",
      "2\n",
      "tasks.json\n",
      "3\n"
     ]
    }
   ],
   "source": [
    "# os.walk\n",
    "import os\n",
    "a = os.walk('/Users/liguanxi/Dropbox/00 大学/大三下/课程（大三下）/Python/Python note')\n",
    "for i, j, k in a: \n",
    "    print(i) # 目录名\n",
    "    print(1)\n",
    "    for m in j: \n",
    "        print(m) # 目录列表\n",
    "    print(2)\n",
    "    for n in k: \n",
    "        print(n) # 文件列表\n",
    "    print(3)"
   ]
  },
  {
   "cell_type": "code",
   "execution_count": 150,
   "id": "434ae366",
   "metadata": {},
   "outputs": [
    {
     "data": {
      "text/plain": [
       "44"
      ]
     },
     "execution_count": 150,
     "metadata": {},
     "output_type": "execute_result"
    }
   ],
   "source": [
    "# 高级话题：计算文本文件中最长行的长度\n",
    "def getlonglinesize(fname):\n",
    "    f = open(fname,'r')\n",
    "    allLineLens = [len(line.strip()) for line in f] # allLineLens = max([len(line.strip()) for line in f])\n",
    "    f.close\n",
    "    longest = max(allLineLens)\n",
    "    return(longest)\n",
    "getlonglinesize('sample.txt')"
   ]
  }
 ],
 "metadata": {
  "kernelspec": {
   "display_name": "Python 3 (ipykernel)",
   "language": "python",
   "name": "python3"
  },
  "language_info": {
   "codemirror_mode": {
    "name": "ipython",
    "version": 3
   },
   "file_extension": ".py",
   "mimetype": "text/x-python",
   "name": "python",
   "nbconvert_exporter": "python",
   "pygments_lexer": "ipython3",
   "version": "3.11.5"
  }
 },
 "nbformat": 4,
 "nbformat_minor": 5
}
