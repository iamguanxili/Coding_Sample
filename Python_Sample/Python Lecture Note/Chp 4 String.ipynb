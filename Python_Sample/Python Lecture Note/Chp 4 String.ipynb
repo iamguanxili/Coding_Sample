{
 "cells": [
  {
   "cell_type": "markdown",
   "id": "9e7455bf",
   "metadata": {},
   "source": [
    "## Chp 4 字符串与正则表达式"
   ]
  },
  {
   "cell_type": "markdown",
   "id": "823669b7",
   "metadata": {},
   "source": [
    "4.1 字符串\n",
    "* 记住一些转义字符：\\0 \\a \\b \\t \\n \\v \\f \\r \\e\n",
    "* 字符串属于不可变序列类型：支持序列通用方法，包括切片"
   ]
  },
  {
   "cell_type": "code",
   "execution_count": 1,
   "id": "0e2b3e7e",
   "metadata": {},
   "outputs": [
    {
     "name": "stdout",
     "output_type": "stream",
     "text": [
      "361\n",
      "4368213784\n"
     ]
    }
   ],
   "source": [
    "年龄 = 19\n",
    "print(年龄**2)\n",
    "print(id(年龄))"
   ]
  },
  {
   "cell_type": "markdown",
   "id": "9c4fc289",
   "metadata": {},
   "source": [
    "* 字符串驻留机制\n",
    "  * 将其赋值给多个不同的对象时，内存中只有一个副本，多个对象共享该副本。\n",
    "  * 保护.pyc文件不会被错误代码搞的过大，例如有人写了'abc'\\*10\\*\\*10这种代码\n",
    "  * 数值-5~256也遵循驻留机制"
   ]
  },
  {
   "cell_type": "code",
   "execution_count": 14,
   "id": "3a4ab2aa",
   "metadata": {},
   "outputs": [
    {
     "name": "stdout",
     "output_type": "stream",
     "text": [
      "4421293296\n",
      "4421293296\n",
      "False\n",
      "False\n"
     ]
    }
   ],
   "source": [
    "# 字符串驻留机制 string interning\n",
    "s = \"good\"\n",
    "print(id(s))\n",
    "t = \"good\"\n",
    "print(id(t))\n",
    "\n",
    "a = -6\n",
    "b = -6\n",
    "print(id(a) == id(b))\n",
    "\n",
    "a = 257\n",
    "b = 257\n",
    "print(id(a) == id(b))"
   ]
  },
  {
   "cell_type": "markdown",
   "id": "82fe4de3",
   "metadata": {},
   "source": [
    "* 判断变量s是否为字符串：isinstance(s, str)"
   ]
  },
  {
   "cell_type": "code",
   "execution_count": 15,
   "id": "1d7aff9b",
   "metadata": {},
   "outputs": [
    {
     "name": "stdout",
     "output_type": "stream",
     "text": [
      "True\n",
      "True\n"
     ]
    }
   ],
   "source": [
    "# 判断变量s是否为字符串\n",
    "a = 'good'\n",
    "print(isinstance(a,str))\n",
    "b = '中国梦'\n",
    "print(isinstance(b,str))"
   ]
  },
  {
   "cell_type": "markdown",
   "id": "1919da65",
   "metadata": {},
   "source": [
    "* 字符串属于不可变序列，可以进行切片操作"
   ]
  },
  {
   "cell_type": "code",
   "execution_count": 16,
   "id": "1d427f58",
   "metadata": {},
   "outputs": [
    {
     "name": "stdout",
     "output_type": "stream",
     "text": [
      "d\n",
      "an Un\n",
      "ytisr\n",
      "abcxyz\n",
      "True\n",
      "True\n",
      "6\n"
     ]
    }
   ],
   "source": [
    "# 字符串属于不可变序列\n",
    "# 下面进行对字符串的切片操作\n",
    "s = 'Fudan University'\n",
    "x = s[2]\n",
    "y = s[3:8] # 始终记住，切片操作包含起始索引，不包括结束索引\n",
    "z = s[-1:-6:-1] # 逆序需要确定负的步长\n",
    "print(x)\n",
    "print(y)\n",
    "print(z)\n",
    "\n",
    "a = 'abc'\n",
    "c = a + 'xyz'\n",
    "print(c)\n",
    "print('x' in c)\n",
    "print('xy' in c)\n",
    "print(len(c))"
   ]
  },
  {
   "cell_type": "markdown",
   "id": "9c30db23",
   "metadata": {},
   "source": [
    "* 练习：把输入的字符串切割成指定行数"
   ]
  },
  {
   "cell_type": "code",
   "execution_count": 23,
   "id": "c57014e1",
   "metadata": {},
   "outputs": [
    {
     "name": "stdout",
     "output_type": "stream",
     "text": [
      "请输入一串字符：Fudan University\n",
      "请输入行数：3\n",
      "Fudan \n",
      "Univer\n",
      "sity\n"
     ]
    }
   ],
   "source": [
    "s = input(\"请输入一串字符：\")\n",
    "m = eval(input(\"请输入行数：\"))\n",
    "\n",
    "n = len(s) // m if len(s) % m == 0 else len(s) // m +1\n",
    "\n",
    "for i in range(0, len(s), n):\n",
    "    print(s[i:i+n])"
   ]
  },
  {
   "cell_type": "markdown",
   "id": "bc898c97",
   "metadata": {},
   "source": [
    "* 字符串常量"
   ]
  },
  {
   "cell_type": "code",
   "execution_count": 29,
   "id": "0c820f9f",
   "metadata": {},
   "outputs": [
    {
     "name": "stdout",
     "output_type": "stream",
     "text": [
      "0123456789\n",
      "!\"#$%&'()*+,-./:;<=>?@[\\]^_`{|}~\n",
      "abcdefghijklmnopqrstuvwxyzABCDEFGHIJKLMNOPQRSTUVWXYZ\n",
      "0123456789abcdefghijklmnopqrstuvwxyzABCDEFGHIJKLMNOPQRSTUVWXYZ!\"#$%&'()*+,-./:;<=>?@[\\]^_`{|}~ \t\n",
      "\r",
      "\u000b",
      "\f",
      "\n",
      "abcdefghijklmnopqrstuvwxyz\n",
      "ABCDEFGHIJKLMNOPQRSTUVWXYZ\n"
     ]
    }
   ],
   "source": [
    "import string\n",
    "print(string.digits)\n",
    "print(string.punctuation)\n",
    "print(string.ascii_letters)\n",
    "print(string.printable)\n",
    "print(string.ascii_lowercase)\n",
    "print(string.ascii_uppercase)"
   ]
  },
  {
   "cell_type": "markdown",
   "id": "cd67e6e9",
   "metadata": {},
   "source": [
    "* 练习：删除字符串中的非字符、非数字符号"
   ]
  },
  {
   "cell_type": "code",
   "execution_count": 32,
   "id": "5e340955",
   "metadata": {},
   "outputs": [
    {
     "name": "stdout",
     "output_type": "stream",
     "text": [
      "请输入字符串：a.b`c-d~1^2<3?4\n",
      "abcd1234\n"
     ]
    }
   ],
   "source": [
    "import string\n",
    "s = input('请输入字符串：')\n",
    "\n",
    "character = string.ascii_letters + string.digits\n",
    "\n",
    "t = ''\n",
    "\n",
    "for i in s: \n",
    "    if i in character: # 要用in，不能用==\n",
    "        t = t + i\n",
    "print(t)"
   ]
  },
  {
   "cell_type": "markdown",
   "id": "f77c247c",
   "metadata": {},
   "source": [
    "* 字符串转换函数"
   ]
  },
  {
   "cell_type": "code",
   "execution_count": 34,
   "id": "8d38efe6",
   "metadata": {},
   "outputs": [
    {
     "name": "stdout",
     "output_type": "stream",
     "text": [
      "WHAT IS YOUR NAME?\n",
      "what is your name?\n",
      "What is your name?\n",
      "wHAT IS YOUR NAME?\n",
      "What is your name?\n"
     ]
    }
   ],
   "source": [
    "s = 'What is your name?'\n",
    "\n",
    "print(s.upper())\n",
    "print(s.lower())\n",
    "print(s.capitalize())\n",
    "print(s.swapcase()) # 交换大小写\n",
    "print(s)"
   ]
  },
  {
   "cell_type": "markdown",
   "id": "2cdc3f33",
   "metadata": {},
   "source": [
    "* 互逆的两个函数：ord()和chr()，ACSII码和字符串相互转换"
   ]
  },
  {
   "cell_type": "code",
   "execution_count": 39,
   "id": "f3c899f9",
   "metadata": {},
   "outputs": [
    {
     "name": "stdout",
     "output_type": "stream",
     "text": [
      "56\n",
      "8\n"
     ]
    }
   ],
   "source": [
    "print(ord('8')) # 字符串转ASCII\n",
    "print(chr(56)) # ASCII转字符串"
   ]
  },
  {
   "cell_type": "markdown",
   "id": "1e70f762",
   "metadata": {},
   "source": [
    "* 练习：自己实现大小写转换"
   ]
  },
  {
   "cell_type": "code",
   "execution_count": 42,
   "id": "dc09d5b4",
   "metadata": {},
   "outputs": [
    {
     "name": "stdout",
     "output_type": "stream",
     "text": [
      "请输入字符串：Fudan\n",
      "fUDAN\n"
     ]
    }
   ],
   "source": [
    "def MySwap(x): \n",
    "    y = x\n",
    "    if 'a' <= x <= 'z': \n",
    "        y = chr(ord(x) - ord('a') + ord('A')) # 这里x不需要打引号，本身x就是作为一个变量传进来，如何打上引号，ord('x')则表示'x'的ASCII值\n",
    "    if 'A' <= x <= 'Z':  \n",
    "        y = chr(ord(x) - ord('A') + ord('a'))\n",
    "    return y\n",
    "\n",
    "a = input('请输入字符串：')\n",
    "t = ''\n",
    "\n",
    "for i in a: \n",
    "    t = t + MySwap(i)\n",
    "print(t)"
   ]
  },
  {
   "cell_type": "markdown",
   "id": "b4d34d45",
   "metadata": {},
   "source": [
    "* 字符串链接函数sep.join(a)"
   ]
  },
  {
   "cell_type": "code",
   "execution_count": 43,
   "id": "a5c10cbc",
   "metadata": {},
   "outputs": [
    {
     "name": "stdout",
     "output_type": "stream",
     "text": [
      "a,b,c,d\n"
     ]
    }
   ],
   "source": [
    "a = ['a', 'b', 'c', 'd']\n",
    "sep = ','\n",
    "s = sep.join(a)\n",
    "print(s)"
   ]
  },
  {
   "cell_type": "code",
   "execution_count": 48,
   "id": "9a558562",
   "metadata": {},
   "outputs": [
    {
     "name": "stdout",
     "output_type": "stream",
     "text": [
      "abcxyz\n",
      "abc-xyz-abc-xyz\n",
      "xabcyabcz\n",
      "axyzbxyzc\n"
     ]
    }
   ],
   "source": [
    "[s, t] = ['abc', 'xyz']\n",
    "print(''.join([s, t]))\n",
    "print('-'.join([s, t, s, t]))\n",
    "print(s.join(t)) # 注意！\n",
    "print(t.join(s)) # 注意！"
   ]
  },
  {
   "cell_type": "markdown",
   "id": "24b3976f",
   "metadata": {},
   "source": [
    "* 练习：输入一个字符串，用空格隔开每一个字符"
   ]
  },
  {
   "cell_type": "code",
   "execution_count": 50,
   "id": "a5253a37",
   "metadata": {},
   "outputs": [
    {
     "name": "stdout",
     "output_type": "stream",
     "text": [
      "请输入字符串：Fudan University\n",
      "F u d a n   U n i v e r s i t y\n"
     ]
    }
   ],
   "source": [
    "print(' '.join(input('请输入字符串：')))"
   ]
  },
  {
   "cell_type": "markdown",
   "id": "1395f4c7",
   "metadata": {},
   "source": [
    "* 内置函数eval()：获取<b style=\"color: red;\">字符串表达式</b>值"
   ]
  },
  {
   "cell_type": "code",
   "execution_count": 54,
   "id": "6be1f9b1",
   "metadata": {},
   "outputs": [
    {
     "name": "stdout",
     "output_type": "stream",
     "text": [
      "1.7320508075688772\n"
     ]
    }
   ],
   "source": [
    "import math\n",
    "print(eval('math.sqrt(3)')) # 【字符串表达式】的值！"
   ]
  },
  {
   "cell_type": "markdown",
   "id": "b3b66908",
   "metadata": {},
   "source": [
    "* str()：将数字转化为字符串"
   ]
  },
  {
   "cell_type": "code",
   "execution_count": 62,
   "id": "986805e2",
   "metadata": {},
   "outputs": [
    {
     "name": "stdout",
     "output_type": "stream",
     "text": [
      "3.4\n",
      "230000.0\n",
      "2.3e-05\n"
     ]
    }
   ],
   "source": [
    "print(str(3.4))\n",
    "print(str(2.3e5))\n",
    "print(2.3E-5)"
   ]
  },
  {
   "cell_type": "markdown",
   "id": "5deba06d",
   "metadata": {},
   "source": [
    "* 练习：列出1000以内的所有回文数"
   ]
  },
  {
   "cell_type": "code",
   "execution_count": 63,
   "id": "94dc9dd0",
   "metadata": {},
   "outputs": [
    {
     "name": "stdout",
     "output_type": "stream",
     "text": [
      "['0', '1', '2', '3', '4', '5', '6', '7', '8', '9', '11', '22', '33', '44', '55', '66', '77', '88', '99', '101', '111', '121', '131', '141', '151', '161', '171', '181', '191', '202', '212', '222', '232', '242', '252', '262', '272', '282', '292', '303', '313', '323', '333', '343', '353', '363', '373', '383', '393', '404', '414', '424', '434', '444', '454', '464', '474', '484', '494', '505', '515', '525', '535', '545', '555', '565', '575', '585', '595', '606', '616', '626', '636', '646', '656', '666', '676', '686', '696', '707', '717', '727', '737', '747', '757', '767', '777', '787', '797', '808', '818', '828', '838', '848', '858', '868', '878', '888', '898', '909', '919', '929', '939', '949', '959', '969', '979', '989', '999']\n"
     ]
    }
   ],
   "source": [
    "result = []\n",
    "for i in range(1000): \n",
    "    s = str(i)\n",
    "    if s == s[::-1]: \n",
    "        result.append(s)\n",
    "print(result)"
   ]
  },
  {
   "cell_type": "markdown",
   "id": "217f0e6f",
   "metadata": {},
   "source": [
    "* <b style=\"color: red;\">加密和解密：非常重要！！！</b>\n",
    "  * 已知密文和m，如何恢复明文？"
   ]
  },
  {
   "cell_type": "code",
   "execution_count": 112,
   "id": "ccec4810",
   "metadata": {},
   "outputs": [
    {
     "name": "stdout",
     "output_type": "stream",
     "text": [
      "请输入原文：abcde\n",
      "请输入钥匙m：3\n",
      "caebd\n",
      "abcde\n"
     ]
    }
   ],
   "source": [
    "# 加密\n",
    "password = list(input('请输入原文：'))\n",
    "key = eval(input('请输入钥匙m：'))\n",
    "\n",
    "answer = []\n",
    "\n",
    "index = 0\n",
    "\n",
    "while password: \n",
    "    index = (index + key - 1)%len(password)\n",
    "    answer.append(password.pop(index))\n",
    "answer = ''.join(answer)\n",
    "print(answer)\n",
    "\n",
    "# 解密\n",
    "z = list(range(len(answer)))\n",
    "raw = [None]*len(answer)\n",
    "\n",
    "for i in answer: \n",
    "    index = (index + m - 1)%len(z)\n",
    "    raw[z.pop(index)] = i\n",
    "raw = ''.join(raw)\n",
    "print(raw)"
   ]
  },
  {
   "cell_type": "markdown",
   "id": "fb0d978c",
   "metadata": {},
   "source": [
    "* 练习（报数出圈）：设有编号为1~n的n个人按顺时针站成一个圆圈。首先从第1个人开始，按顺时针从1开始报数，报到第m个人，令其出列。然后再从出列的下一个人开始，按顺时针从1开始报数，报到第m个人，再令其出列，……。如此下去，直到圆圈不再有人为止。求这n个人出列的顺序。\n",
    "  * 思路：假设此圈共有rest个人，对应x\\[0\\], x\\[1\\], x\\[2\\], …, x\\[rest-1\\]。假设这一轮报1的人对应的元素下标为 curIndex (0 <= curIndex < rest)，则报m的人对应的数组元素下标为 (curIndex + m - 1) % rest 。把报m的人对应的元素从列表中删除(元素删除导致 rest 自动减1)。把curIndex赋值为刚才被删除元素的下标，之后进行下一轮报数。"
   ]
  },
  {
   "cell_type": "code",
   "execution_count": 77,
   "id": "c353e792",
   "metadata": {},
   "outputs": [
    {
     "name": "stdout",
     "output_type": "stream",
     "text": [
      "请输入总人数：20\n",
      "请输入m值：7\n",
      "[7, 14, 1, 9, 17, 5, 15, 4, 16, 8, 20, 13, 11, 10, 12, 19, 6, 18, 2, 3]\n"
     ]
    }
   ],
   "source": [
    "n = eval(input('请输入总人数：'))\n",
    "m = eval(input('请输入m值：'))\n",
    "\n",
    "x = list(range(1, n+1))\n",
    "y = []\n",
    "\n",
    "currentIndex = 0\n",
    "\n",
    "while x: \n",
    "    currentIndex = (currentIndex + m - 1)%len(x)\n",
    "    y.append(x.pop(currentIndex)) # x pop掉，append到y后\n",
    "print(y)"
   ]
  },
  {
   "cell_type": "code",
   "execution_count": 98,
   "id": "d5d066b7",
   "metadata": {},
   "outputs": [
    {
     "name": "stdout",
     "output_type": "stream",
     "text": [
      "请输入一串字符：Fudan\n",
      "请输入密码m：3\n",
      "dFnua\n"
     ]
    }
   ],
   "source": [
    "# 明文加密\n",
    "x = input('请输入一串字符：')\n",
    "x = list(x)\n",
    "m = eval(input('请输入密码m：'))\n",
    "y = []\n",
    "\n",
    "curIndex = 0\n",
    "while x: \n",
    "    curIndex = (curIndex + m - 1)%len(x)\n",
    "    y.append(x.pop(curIndex))\n",
    "\n",
    "y = ''.join(y)\n",
    "print(y)"
   ]
  },
  {
   "cell_type": "code",
   "execution_count": 104,
   "id": "d367b26c",
   "metadata": {},
   "outputs": [
    {
     "name": "stdout",
     "output_type": "stream",
     "text": [
      "请输入一串密文：dFnua\n",
      "请输入密码m：3\n",
      "Fudan\n"
     ]
    }
   ],
   "source": [
    "# 密文解密\n",
    "x = input('请输入一串密文：')\n",
    "x = list(x)\n",
    "m = eval(input('请输入密码m：'))\n",
    "y = [None]*len(x)\n",
    "z = list(range(len(y))) # 指示原来被pop出的位置\n",
    "\n",
    "curIndex = 0\n",
    "for i in x: \n",
    "    curIndex = (curIndex + m - 1) % len(z)\n",
    "    y[z.pop(curIndex)] = i\n",
    "\n",
    "y = ''.join(y)\n",
    "print(y)"
   ]
  },
  {
   "cell_type": "markdown",
   "id": "42277279",
   "metadata": {},
   "source": [
    "* 字符串对齐方法"
   ]
  },
  {
   "cell_type": "code",
   "execution_count": 116,
   "id": "8d973d06",
   "metadata": {},
   "outputs": [
    {
     "name": "stdout",
     "output_type": "stream",
     "text": [
      "       Fudan        \n",
      "=======Fudan========\n",
      "Fudan===============\n",
      "===============Fudan\n"
     ]
    }
   ],
   "source": [
    "print('Fudan'.center(20))\n",
    "print('Fudan'.center(20, '='))\n",
    "print('Fudan'.ljust(20, '='))\n",
    "print('Fudan'.rjust(20, '='))"
   ]
  },
  {
   "cell_type": "markdown",
   "id": "da5cf7cf",
   "metadata": {},
   "source": [
    "* 练习：打印三角形（1）"
   ]
  },
  {
   "cell_type": "code",
   "execution_count": 118,
   "id": "d74bbbc1",
   "metadata": {},
   "outputs": [
    {
     "name": "stdout",
     "output_type": "stream",
     "text": [
      "请输入n值：3\n",
      "*\n",
      "**\n",
      "***\n",
      "\n"
     ]
    }
   ],
   "source": [
    "lines = eval(input('请输入n值：'))\n",
    "\n",
    "for i in range(lines): \n",
    "    print('*'*(i+1))\n",
    "print()"
   ]
  },
  {
   "cell_type": "markdown",
   "id": "8bc9f8a5",
   "metadata": {},
   "source": [
    "* 练习：打印三角形（2）"
   ]
  },
  {
   "cell_type": "code",
   "execution_count": 119,
   "id": "3cabd0de",
   "metadata": {},
   "outputs": [
    {
     "name": "stdout",
     "output_type": "stream",
     "text": [
      "请输入n值：3\n",
      "*\n",
      "* *\n",
      "* * *\n",
      "\n"
     ]
    }
   ],
   "source": [
    "lines = eval(input('请输入n值：'))\n",
    "\n",
    "for i in range(lines): \n",
    "    stars = '*'*(i+1)\n",
    "    stars = ' '.join(stars)\n",
    "    print(stars)\n",
    "print()"
   ]
  },
  {
   "cell_type": "markdown",
   "id": "32b2e2ae",
   "metadata": {},
   "source": [
    "* 练习：打印三角形（3）"
   ]
  },
  {
   "cell_type": "code",
   "execution_count": 122,
   "id": "f8b1af94",
   "metadata": {},
   "outputs": [
    {
     "name": "stdout",
     "output_type": "stream",
     "text": [
      "请输入n值：3\n",
      "    *\n",
      "  * *\n",
      "* * *\n",
      "\n"
     ]
    }
   ],
   "source": [
    "# 方法1\n",
    "lines = eval(input('请输入n值：'))\n",
    "\n",
    "for i in range(lines): \n",
    "    stars = ' '*(lines - (i+1)) + '*'*(i+1)\n",
    "    stars = ' '.join(stars)\n",
    "    print(stars)\n",
    "print()"
   ]
  },
  {
   "cell_type": "code",
   "execution_count": 129,
   "id": "5aa364b4",
   "metadata": {},
   "outputs": [
    {
     "name": "stdout",
     "output_type": "stream",
     "text": [
      "请输入n值：3\n",
      "    *\n",
      "  * *\n",
      "* * *\n",
      "\n"
     ]
    }
   ],
   "source": [
    "# 方法2\n",
    "lines = eval(input('请输入n值：'))\n",
    "\n",
    "for i in range(lines): \n",
    "    stars = '*'*(i+1)\n",
    "    stars = ' '.join(stars)\n",
    "    stars = stars.rjust(lines*2-1, ' ')\n",
    "    print(stars)\n",
    "print()"
   ]
  },
  {
   "cell_type": "markdown",
   "id": "d60cd2e3",
   "metadata": {},
   "source": [
    "* 练习：打印三角形（4）"
   ]
  },
  {
   "cell_type": "code",
   "execution_count": 135,
   "id": "5be23dab",
   "metadata": {},
   "outputs": [
    {
     "name": "stdout",
     "output_type": "stream",
     "text": [
      "请输入行数：9\n",
      "        *\n",
      "      * *\n",
      "    * * *\n",
      "  * * * *\n",
      "    * * *\n",
      "      * *\n",
      "        *\n"
     ]
    }
   ],
   "source": [
    "lines = eval(input('请输入行数：'))\n",
    "\n",
    "for i in range(lines // 2): \n",
    "    stars = '*'*(i + 1)\n",
    "    stars = ' '.join(stars)\n",
    "    oneline = stars.rjust(lines, ' ')\n",
    "    print(oneline)\n",
    "    \n",
    "for i in range(lines // 2 - 1, 0, -1): \n",
    "    stars = '*'*i\n",
    "    stars = ' '.join(stars)\n",
    "    oneline = stars.rjust(lines, ' ')\n",
    "    print(oneline)"
   ]
  },
  {
   "cell_type": "markdown",
   "id": "f7e640a9",
   "metadata": {},
   "source": [
    "* 练习：打印三角形（5）"
   ]
  },
  {
   "cell_type": "code",
   "execution_count": 138,
   "id": "0c023591",
   "metadata": {},
   "outputs": [
    {
     "name": "stdout",
     "output_type": "stream",
     "text": [
      "请输入行数：9\n",
      "    *    \n",
      "   * *   \n",
      "  * * *  \n",
      " * * * * \n",
      "  * * *  \n",
      "   * *   \n",
      "    *    \n"
     ]
    }
   ],
   "source": [
    "lines = eval(input('请输入行数：'))\n",
    "\n",
    "for i in range(lines//2): \n",
    "    stars = '*'*(i+1)\n",
    "    stars = ' '.join(stars)\n",
    "    oneline = stars.center(lines, ' ')\n",
    "    print(oneline)\n",
    "\n",
    "for i in range(lines//2 - 1, 0, -1): \n",
    "    stars = '*'*i\n",
    "    stars = ' '.join(stars)\n",
    "    oneline = stars.center(lines, ' ')\n",
    "    print(oneline)"
   ]
  },
  {
   "cell_type": "markdown",
   "id": "85585b90",
   "metadata": {},
   "source": [
    "* 字符串格式化\n",
    "  * Chp 4 ppt p36\n",
    "  * %s：字符串(采用str()的显示)\n",
    "  * %r：字符串(采用repr()的显示)\n",
    "  * %c：单个字符\n",
    "  * %b：二进制整数\n",
    "  * %d：十进制整数\n",
    "  * %i：十进制整数\n",
    "  * %o：八进制整数\n",
    "  * %x：十六进制整数\n",
    "  * %e：指数(基底写为e)\n",
    "  * %E：指数(基底写为E)\n",
    "  * %f、%F：浮点数\n",
    "  * %g：指数(e)或浮点数(根据显示长度)\n",
    "  * %G：指数(E)或浮点数(根据显示长度)\n",
    "  * %%：字符“%”"
   ]
  },
  {
   "cell_type": "code",
   "execution_count": 146,
   "id": "24ab8d3f",
   "metadata": {},
   "outputs": [
    {
     "name": "stdout",
     "output_type": "stream",
     "text": [
      "2322\n",
      "1234\n",
      "4d2\n",
      "1.234000e+03\n",
      "1234\n"
     ]
    }
   ],
   "source": [
    "x = 1234\n",
    "so = '%o' %x # 转化为八进制\n",
    "print(so)\n",
    "\n",
    "di = '%d' %x # 十进制转化为十进制\n",
    "print(di)\n",
    "\n",
    "X = '%x' %x\n",
    "print(X)\n",
    "\n",
    "e = '%e' %x\n",
    "print(e)\n",
    "\n",
    "st = '%s' %x\n",
    "print(st)"
   ]
  },
  {
   "cell_type": "markdown",
   "id": "fb9e351f",
   "metadata": {},
   "source": [
    "* <b style=\"color: red;\">常用格式举例</b>\n",
    "  * 10.2f：格式化浮点数，总宽度为10，四舍五入到小数点后第2位\n",
    "  * 10.2e：以科学计数法表示浮点数，总宽度为10，系数保留到小数点后2位\n",
    "  * 5d：将整数格式化为总宽度为5的十进制形式\n",
    "  * 5o：将整数格式化为总宽度为5的八进制形式\n",
    "  * 5x：将整数格式化为总宽度为5的十六进制形式\n",
    "  * 5b：将整数格式化为总宽度为5的二进制形式\n",
    "  * 50s：将字符串格式化为总宽度为50的字符串，不足则补上空格\n",
    "  * 50.2s：截取字符串的前2位，将其格式化为总宽度为50的字符串，不足补空格\n",
    "  * -10.2f：向左对齐格式化对象，若无负号(即默认)则是右对齐<b style=\"color: red;\">【左边的数为总长度，包括小数点，右边的数为小数点后保留的位数】</b>\n",
    "  * +10.2f：格式化浮点数，如果是正数，则自动加上正号+（默认不加正号）"
   ]
  },
  {
   "cell_type": "markdown",
   "id": "52c25a8b",
   "metadata": {},
   "source": [
    "* <b style=\"color: red;\">字符串格式化：format()</b>"
   ]
  },
  {
   "cell_type": "code",
   "execution_count": 148,
   "id": "756be2b9",
   "metadata": {},
   "outputs": [
    {
     "name": "stdout",
     "output_type": "stream",
     "text": [
      "The number 5,555 in hex is: 0x15b3, the number 55 in oct is 0o67\n",
      "The number 55 in hex is: 0x37, the number 5555 in oct is 0o12663\n",
      "my name is Dong Fuguo, my age is 37, and my QQ is 306467355\n"
     ]
    }
   ],
   "source": [
    "print( \"The number {0:,} in hex is: {0:#x}, the number {1} in oct is {1:#o}\".format( 5555, 55 ))\n",
    "print( \"The number {1:,} in hex is: {1:#x}, the number {0} in oct is {0:#o}\".format( 5555, 55 ))\n",
    "print( \"my name is {name}, my age is {age}, and my QQ is {qq}\".format(name = \"Dong Fuguo\",age = 37,qq = \"306467355\"))"
   ]
  },
  {
   "cell_type": "code",
   "execution_count": 149,
   "id": "8a480174",
   "metadata": {},
   "outputs": [
    {
     "name": "stdout",
     "output_type": "stream",
     "text": [
      "X:5;Y:8;Z:13\n"
     ]
    }
   ],
   "source": [
    "position = (5,8,13)\n",
    "print( \"X:{0[0]};Y:{0[1]};Z:{0[2]}\".format(position))"
   ]
  },
  {
   "cell_type": "markdown",
   "id": "402e6661",
   "metadata": {},
   "source": [
    "* <b style=\"color: red;\">方法对象</b>"
   ]
  },
  {
   "cell_type": "code",
   "execution_count": 155,
   "id": "aee49003",
   "metadata": {},
   "outputs": [
    {
     "name": "stdout",
     "output_type": "stream",
     "text": [
      "Weather of 'Monday' is 'rain'\n",
      "Weather of 'Tuesday' is 'sunny'\n",
      "Weather of 'Wednesday' is 'sunny'\n",
      "Weather of 'Thursday' is 'rain'\n",
      "Weather of 'Friday' is 'Cloudy'\n",
      "\n",
      "Weather of 'Monday' is 'rain'\n",
      "Weather of 'Tuesday' is 'sunny'\n",
      "Weather of 'Wednesday' is 'sunny'\n",
      "Weather of 'Thursday' is 'rain'\n",
      "Weather of 'Friday' is 'Cloudy'\n"
     ]
    }
   ],
   "source": [
    "weather = [(\"Monday\",\"rain\"),(\"Tuesday\",\"sunny\"),(\"Wednesday\", \"sunny\"),(\"Thursday\",\"rain\"),(\"Friday\",\"Cloudy\")]\n",
    "formatter = \"Weather of '{0[0]}' is '{0[1]}'\".format  #方法对象\n",
    "for item in map(formatter,weather): \n",
    "    print(item)\n",
    "\n",
    "print()\n",
    "\n",
    "for item in weather: \n",
    "    print(formatter(item))"
   ]
  },
  {
   "cell_type": "markdown",
   "id": "a60e5d37",
   "metadata": {},
   "source": [
    "* <b style=\"color: red;\">%和.format()的区别</b>"
   ]
  },
  {
   "cell_type": "code",
   "execution_count": 181,
   "id": "6a99a849",
   "metadata": {},
   "outputs": [
    {
     "name": "stdout",
     "output_type": "stream",
     "text": [
      "s= 数    3.50与数142.267 之和为00497.94!\n",
      "t= 数    3.50与数142.267 之和为00497.94!\n"
     ]
    }
   ],
   "source": [
    "x, y = 3.5, 142.26732335\n",
    "\n",
    "patStrA = '数%8.2f与数%-8.3f之和为%08.2f!' # -是左对齐，默认右对齐\n",
    "patStrB = '数{0:8.2f}与数{1:<8.3f}之和为{2:08.2f}!' # .format()中左右对其为<和>，默认右对齐\n",
    "\n",
    "s = patStrA % (x, y, x*y)\n",
    "t = patStrB.format(x, y, x*y)\n",
    "\n",
    "print('s=', s)\n",
    "print('t=', t)"
   ]
  },
  {
   "cell_type": "markdown",
   "id": "80a7b8ea",
   "metadata": {},
   "source": [
    "* 字符串的查找\n",
    "  * find()、rfind()\n",
    "    * find()和rfind方法分别用来查找一个字符串在另一个字符串指定范围（默认是整个字符串）中首次和最后一次出现的位置，如果不存在则返回-1；\n",
    "  * index()、rindex()\n",
    "    * index()和rindex()方法用来返回一个字符串在另一个字符串指定范围中首次和最后一次出现的位置，如果不存在则抛出异常；\n",
    "  * count() \n",
    "    * count()方法用来返回一个字符串在另一个字符串中出现的次数。"
   ]
  },
  {
   "cell_type": "code",
   "execution_count": 187,
   "id": "f810f5d4",
   "metadata": {},
   "outputs": [
    {
     "name": "stdout",
     "output_type": "stream",
     "text": [
      "29\n",
      "6\n",
      "19\n",
      "-1\n",
      "25\n",
      "1\n",
      "6\n",
      "25\n",
      "5\n",
      "1\n",
      "0\n"
     ]
    }
   ],
   "source": [
    "s=\"apple,peach,banana,peach,pear\"\n",
    "print(len(s))\n",
    "print(s.find(\"peach\"))\n",
    "print(s.find(\"peach\",7)) # 在(7, 29)中找\n",
    "print(s.find(\"peach\",7,20)) # 不存在，返回-1\n",
    "print(s.rfind('p'))\n",
    "print(s.index('p'))\n",
    "print(s.index('pe'))\n",
    "print(s.index('pear'))\n",
    "# print(s.index('ppp'))\n",
    "print(s.count('p'))\n",
    "print(s.count('pp'))\n",
    "print(s.count('ppp'))"
   ]
  },
  {
   "cell_type": "markdown",
   "id": "33540dda",
   "metadata": {},
   "source": [
    "* 字符串分割\n",
    "  * split()、rsplit()\n",
    "    * split()和rsplit()方法分别用来以指定字符为分隔符，将字符串左端和右端开始将其分割成多个字符串，并返回包含分割结果的列表；split()与join()作用相反。split()与rsplit()的区别，在第2个参数指定的分隔符个数n小于实际分隔符数目时，才能看出来。\n",
    "  * partition()、rpartition()\n",
    "    * partition()和rpartition()用来以指定字符串为分隔符将原字符串分割为3部分元组，即分隔符前的字符串、分隔符字符串、分隔符后的字符串，如果指定的分隔符不在原字符串中，则返回原字符串和两个空字符串。"
   ]
  },
  {
   "cell_type": "code",
   "execution_count": 201,
   "id": "2b0a5b2e",
   "metadata": {},
   "outputs": [
    {
     "name": "stdout",
     "output_type": "stream",
     "text": [
      "['apple', 'peach', 'banana', 'pear']\n",
      "('apple', ',', 'peach,banana,pear')\n",
      "('apple,peach,banana', ',', 'pear')\n",
      "('apple,peach,', 'banana', ',pear')\n",
      "['2014', '10', '31']\n",
      "[2014, 10, 31]\n"
     ]
    }
   ],
   "source": [
    "s=\"apple,peach,banana,pear\"\n",
    "print(s.split(\",\"))\n",
    "\n",
    "print(s.partition(',')) # 返回三组字符串\n",
    "\n",
    "print(s.rpartition(',')) # 返回三组字符串\n",
    "\n",
    "print(s.rpartition('banana'))\n",
    "\n",
    "s = \"2014-10-31\"\n",
    "t=s.split(\"-\")\n",
    "print(t)\n",
    "\n",
    "print(list(map(int, t)))"
   ]
  },
  {
   "cell_type": "markdown",
   "id": "81e289c0",
   "metadata": {},
   "source": [
    "* 对于split()和rsplit()方法，如果不指定分隔符，则字符串中的任何空白符号（包括空格、换行符、制表符等等）都将被认为是分隔符，返回包含最终分割结果的列表。\n",
    "  * <b style=\"color: red;\">顺序为找到第一个非空白字符，再开始分割，遇到第一个非空白字符，完成分割</b>"
   ]
  },
  {
   "cell_type": "code",
   "execution_count": 204,
   "id": "d1c50183",
   "metadata": {},
   "outputs": [
    {
     "name": "stdout",
     "output_type": "stream",
     "text": [
      "['hello', 'world', 'My', 'name', 'is', 'Dong']\n",
      "['hello', 'world', 'My', 'name', 'is', 'Dong']\n",
      "['hello', 'world', 'My', 'name', 'is', 'Dong']\n"
     ]
    }
   ],
   "source": [
    "s = 'hello world \\n\\n My name is Dong   '\n",
    "print(s.split())\n",
    "\n",
    "s = '\\n\\nhello world \\n\\n\\n My name is Dong   '\n",
    "print(s.split())\n",
    "\n",
    "s = '\\n\\nhello\\t\\t world \\n\\n\\n My name\\t is Dong   '\n",
    "print(s.split())"
   ]
  },
  {
   "cell_type": "markdown",
   "id": "e49a361e",
   "metadata": {},
   "source": [
    "* split()和rsplit()方法还允许指定最大分割次数\n",
    "  * <b style=\"color: red;\">重申：顺序为找到第一个非空白字符，再开始分割，遇到第一个非空白字符，完成分割</b>"
   ]
  },
  {
   "cell_type": "code",
   "execution_count": 208,
   "id": "9b713edb",
   "metadata": {},
   "outputs": [
    {
     "name": "stdout",
     "output_type": "stream",
     "text": [
      "['hello', 'world \\n\\n\\n My name is Dong   ']\n",
      "['\\n\\nhello\\t\\t world \\n\\n\\n My name is', 'Dong']\n",
      "['hello', 'world', 'My name is Dong   ']\n",
      "['\\n\\nhello\\t\\t world \\n\\n\\n My name', 'is', 'Dong']\n",
      "['hello', 'world', 'My', 'name', 'is', 'Dong   ']\n",
      "['hello', 'world', 'My', 'name', 'is', 'Dong']\n"
     ]
    }
   ],
   "source": [
    "s = '\\n\\nhello\\t\\t world \\n\\n\\n My name is Dong   '\n",
    "print(s.split(None,1))     # None表示不指定分割符\n",
    "# 这里直接忽略了开头的\\n\n",
    "\n",
    "print(s.rsplit(None,1))\n",
    "\n",
    "print(s.split(None,2))\n",
    "\n",
    "print(s.rsplit(None,2))\n",
    "\n",
    "print(s.split(None,5))\n",
    "\n",
    "print(s.split(None,6))"
   ]
  },
  {
   "cell_type": "markdown",
   "id": "86539265",
   "metadata": {},
   "source": [
    "* 字符串替换"
   ]
  },
  {
   "cell_type": "code",
   "execution_count": 210,
   "id": "3d5b0177",
   "metadata": {},
   "outputs": [
    {
     "name": "stdout",
     "output_type": "stream",
     "text": [
      "中国，中国\n",
      "中华人民共和国，中华人民共和国\n"
     ]
    }
   ],
   "source": [
    "# 查找替换 replace(.)\n",
    "s=\"中国，中国\"\n",
    "print(s)\n",
    "s2 = s.replace(\"中国\", \"中华人民共和国\")\n",
    "print(s2)"
   ]
  },
  {
   "cell_type": "markdown",
   "id": "76a5d81b",
   "metadata": {},
   "source": [
    "* 字符串转换\n",
    "  * 生成映射表函数maketrans(.)和按映射表关系转换字符串函数translate(.)"
   ]
  },
  {
   "cell_type": "code",
   "execution_count": 221,
   "id": "5ce8e8df",
   "metadata": {},
   "outputs": [
    {
     "name": "stdout",
     "output_type": "stream",
     "text": [
      "Python is u gryuty progrumming lunguugy. I liky it!\n"
     ]
    }
   ],
   "source": [
    "import string\n",
    "#table = str.maketrans('abcdef123','uvwxyz@#$')\n",
    "s=\"Python is a greate programming language. I like it!\"\n",
    "print(s.translate(table))\n",
    "\n",
    "#print(s.translate(table,\"gtm\")) #第二个参数表示要删除的字符\n",
    "# python 3中代码发生了一些变化"
   ]
  },
  {
   "cell_type": "markdown",
   "id": "f601194d",
   "metadata": {},
   "source": [
    "* 字符串消减\n",
    "  * strip()、rstrip()、lstrip()：这几个方法分别用来删除两端、右端或左端的空格或连续的指定字符"
   ]
  },
  {
   "cell_type": "code",
   "execution_count": 222,
   "id": "f649bc63",
   "metadata": {},
   "outputs": [
    {
     "name": "stdout",
     "output_type": "stream",
     "text": [
      "abc\n",
      "ssddf\n",
      "ssdd\n",
      "aaaassddf\n",
      "ssddfaaa\n"
     ]
    }
   ],
   "source": [
    "s=\" abc  \"\n",
    "s2=s.strip( )\n",
    "print(s2)\n",
    "\n",
    "print(\"aaaassddf\".strip(\"a\"))\n",
    "\n",
    "print(\"aaaassddf\".strip(\"af\"))\n",
    "\n",
    "print(\"aaaassddfaaa\".rstrip(\"a\"))\n",
    "\n",
    "print(\"aaaassddfaaa\".lstrip(\"a\"))"
   ]
  },
  {
   "cell_type": "markdown",
   "id": "e2bc0ce1",
   "metadata": {},
   "source": [
    "* 字符成员判断\n",
    "  * s.startwith(t)、s.endswith(t)：判断字符串是否以指定字符串开始或结束"
   ]
  },
  {
   "cell_type": "code",
   "execution_count": 244,
   "id": "84cad915",
   "metadata": {},
   "outputs": [
    {
     "ename": "SyntaxError",
     "evalue": "invalid character '）' (U+FF09) (2579249403.py, line 3)",
     "output_type": "error",
     "traceback": [
      "\u001b[0;36m  Cell \u001b[0;32mIn[244], line 3\u001b[0;36m\u001b[0m\n\u001b[0;31m    print(\"j\" in \"abcde\"）\u001b[0m\n\u001b[0m                        ^\u001b[0m\n\u001b[0;31mSyntaxError\u001b[0m\u001b[0;31m:\u001b[0m invalid character '）' (U+FF09)\n"
     ]
    }
   ],
   "source": [
    "print(\"a\" in \"abcde\")\n",
    "\n",
    "print(\"j\" in \"abcde\"）"
   ]
  },
  {
   "cell_type": "code",
   "execution_count": 225,
   "id": "829b0b01",
   "metadata": {},
   "outputs": [],
   "source": [
    "import os\n",
    "# [filename for filename in os.listdir(r'c:\\\\') if filename.endswith(('.bmp','.jpg','.gif'))]"
   ]
  },
  {
   "cell_type": "markdown",
   "id": "fd07badc",
   "metadata": {},
   "source": [
    "* 检验字符串是否为字母、数字等\n",
    "  * isalnum()：检验字符串是否为数字或字母\n",
    "  * isalpha()：检验字符串是否为字母\n",
    "  * isdigit()：检验字符串是否为数字字符\n",
    "  * isspace()：检验字符串是否为空白字符\n",
    "  * isupper()：检验字符串是否为大写字母\n",
    "  * islower()：检验字符串是否为小写字母"
   ]
  },
  {
   "cell_type": "code",
   "execution_count": 233,
   "id": "c85ade11",
   "metadata": {},
   "outputs": [
    {
     "name": "stdout",
     "output_type": "stream",
     "text": [
      "True\n",
      "False\n",
      "True\n",
      "False\n",
      "False\n"
     ]
    }
   ],
   "source": [
    "print('1234abcd'.isalnum())\n",
    "print('1234abcd'.isalpha())\n",
    "print('1234'.isdigit())\n",
    "print('1234.0'.isdigit()) # 注意！\n",
    "print('abcd.'.isalpha())"
   ]
  },
  {
   "cell_type": "markdown",
   "id": "39e5f6c4",
   "metadata": {},
   "source": [
    "* 练习：连续输入若干行字符串（以空行结束），输出最长的那些行。"
   ]
  },
  {
   "cell_type": "code",
   "execution_count": 239,
   "id": "a610f683",
   "metadata": {},
   "outputs": [
    {
     "name": "stdout",
     "output_type": "stream",
     "text": [
      "123\n",
      "asdfgh\n",
      "zxcvbn\n",
      "asd\n",
      "iop\n",
      "\n",
      "asdfgh\n",
      "zxcvbn\n"
     ]
    }
   ],
   "source": [
    "strList = []\n",
    "\n",
    "s = input()\n",
    "\n",
    "while s: \n",
    "    strList.append(s)\n",
    "    s = input()\n",
    "    \n",
    "lenList = [len(x) for x in strList]\n",
    "maxlen = max(lenList)\n",
    "for i in range(len(strList)): \n",
    "    if lenList[i] == maxlen: \n",
    "        print(strList[i])"
   ]
  },
  {
   "cell_type": "markdown",
   "id": "709acc07",
   "metadata": {},
   "source": [
    "* 练习：统计文章的单词个数。约定单词由英文字母组成，其他字符只是用来分隔单词。\n",
    "  * <b style=\"color: red;\">记住这种条件语句的逻辑！</b>"
   ]
  },
  {
   "cell_type": "code",
   "execution_count": 245,
   "id": "a6b34e85",
   "metadata": {},
   "outputs": [
    {
     "name": "stdout",
     "output_type": "stream",
     "text": [
      "abc, cdf, 12a.bc\n",
      "4\n"
     ]
    }
   ],
   "source": [
    "import string\n",
    "word = 0\n",
    "inword = False\n",
    "s = input()\n",
    "\n",
    "for c in s: \n",
    "    if inword: # 避免重复计数，两个条件语句都是碰到另一种情况才会跳转到对方语句\n",
    "        if c not in string.ascii_letters: \n",
    "            inword = False\n",
    "    else: \n",
    "        if c in string.ascii_letters: \n",
    "            inword = True\n",
    "            word += 1\n",
    "print(word)"
   ]
  },
  {
   "cell_type": "markdown",
   "id": "45c6205b",
   "metadata": {},
   "source": [
    "<b style=\"color: red;\">格式化输出期末考试大概率会有</b>"
   ]
  },
  {
   "cell_type": "markdown",
   "id": "c6f63211",
   "metadata": {},
   "source": [
    "### 4.2 正则表达式\n",
    "* 记住元字符：\n",
    ". \\d \\D \\s[\\t\\n\\r\\f\\v] \\S \\w[a-zA-Z0-9_] \\W ^ \\\\$ \\b \\B ^ $ . \\* \\? \\+ \\- \\ \\{ \\} \\[ \\] | ( )  \n",
    "  * 如果要作为普通字符使用，需要转义\n",
    "* re模块提供了正则表达式操作所需要的功能：\n",
    "  * re.findall(pattern, string)：以列表形式列出字符串中模式的所有匹配项"
   ]
  },
  {
   "cell_type": "markdown",
   "id": "0c5d6141",
   "metadata": {},
   "source": [
    "#### 4.2.1 正则表达式元字符：字符类\n",
    "* 字符类：由一对[]方括号括起来的字符集合，定义方式如下：\n",
    "  * \\[xyz\\]:枚举字符集，匹配括号中任意字符\n",
    "  * '\\[pjc\\]ython'可以匹配'python'、'jython'、'cython'\n",
    "  * \\[^xyz\\]:否定枚举字符集，匹配不在括号中任意字符\n",
    "  * '\\[^abc\\]'可以匹配一个任意除'a'、'b'、'c'之外的字符\n",
    "  * \\[a-z\\]:指定范围的字符，匹配指定范围的任意字符\n",
    "  * '\\[a-zA-Z0-9\\]'可以匹配一个任意大小写字母或数字\n",
    "  * \\[^m-z\\]:指定范围以外的字符，匹配指定范围以外的任意字符\n",
    "* 预定义字符类：正则表达式将常常用到的一些特定字符类形成了若干预定义字符类\n",
    "  * .：匹配除换行符以外的任意单个字符\n",
    "  * \\d：匹配任何数字，相当于\\[0-9\\]\n",
    "  * \\D：与\\d含义相反,非数字，相当于\\[^0-9\\]\n",
    "  * \\s：匹配任何空白字符，相当于\\[\\t\\n\\r\\f\\v\\]\n",
    "  * \\S：与\\s含义相反，相当于\\[^\\t\\n\\r\\f\\v\\]\n",
    "  * \\w：匹配任何字母、数字以及下划线，相当于\\[a-zA-Z0-9_\\]\n",
    "  * \\W：与\\w含义相反,相当于\\[^a-zA-Z0-9_\\]\n",
    "* 边界匹配符：字符串匹配往往涉及从某个位置开始匹配，例如行的开头或结果、单词边界等，边界匹配符用于匹配字符串的位置\n",
    "  * ^：匹配行首，匹配以^后面的字符开头的字符串，如：“^a”匹配“abc”中的“a”,不匹配“bat”中的“a”\n",
    "  * \\\\$：匹配行尾，匹配以\\\\$之前的字符结束的字符串，如：“c\\\\$”匹配“abc”中的“c”,不匹配“acb”中的“c”\n",
    "  * \\b：匹配单词头或单词尾，如：“\\\\\\bfoo\\\\\\b”匹配”foo”、“foo.” “(foo)” “bar foo baz”但不匹配“foobar”“foo3”。注意：’\\\\b’在正则表达式表示单词边界，而在字符串中’\\b’表示退格字符，所以这些与标准转义字符重复的元字符必须使用两个\\\\字符，在python中也可以使用原始字符串r””或r’’，即“\\\\\\bfoo\\\\\\b”  或 r“\\\\bfoo\\\\b”\n",
    "  * \\B：与\\b含义相反，如：’py\\B’ 匹配 ”python” “py3” “py2”,但不匹配”happy” ”sleepy” ”py!”\n",
    "* 重复限定符：指定重复的次数（默认最大匹配）\n",
    "  * X\\{n,m\\}：X重复n到m次，如：“o\\{1,3\\}”匹配“fooooood”中的前3个“o”和后3个“o”\n",
    "  * X\\{n,\\}：X至少重复n次，如：“o\\{2,\\}”匹配“fooooood”中的所有的“o”,不匹配“bob”中的“o”\n",
    "  * X\\{n\\}，X重复n次，如：“\\\\b\\[0-9\\]\\{3\\}”匹配”000” ~ “999”, “o{2}”匹配“food”中的两个”o”,不匹配“bob”中的“o”\n",
    "  * X+：X重复1次或多次，等价于X \\{1,\\}，如：’zo+’ 匹配 ”zo” ,“zoo”,但不匹配 ”z”\n",
    "  * X\\*：X重复0次或多次，等价于X\\{0,\\}，如：’zo*’ 匹配 ”zo” ,“zoo”, ”z”\n",
    "  * X?：X重复0次或1次，等价于X\\{0,1\\}，如：’colou?r’ 匹配 ”color”  ,”colour”；"
   ]
  },
  {
   "cell_type": "code",
   "execution_count": 7,
   "id": "f362f47c",
   "metadata": {},
   "outputs": [
    {
     "name": "stdout",
     "output_type": "stream",
     "text": [
      "['ooo', 'ooo']\n"
     ]
    }
   ],
   "source": [
    "import re\n",
    "print(re.findall('o{1,3}', 'fooooood'))"
   ]
  },
  {
   "cell_type": "markdown",
   "id": "842a3ee0",
   "metadata": {},
   "source": [
    "\\\\bfoo\\\\b或r'\\bfoo\\b'，r''为原始字符串"
   ]
  },
  {
   "cell_type": "markdown",
   "id": "add7c2ee",
   "metadata": {},
   "source": [
    "* ‘\\*’ 要求前面的字符出现大于等于0次\n",
    "* '+' 要求前面的字符出现大于等于1次\n",
    "* '?' 要求前面的字符出现0次或1次\n",
    "* \\[0-9\\]\\{2,3\\} 匹配最少2次最多3次的0-9的数字\n",
    "* \\[0-9\\]\\{2,\\} 匹配至少2次的0-9的数字"
   ]
  },
  {
   "cell_type": "code",
   "execution_count": 5,
   "id": "2b449300",
   "metadata": {},
   "outputs": [
    {
     "data": {
      "text/plain": [
       "['red', 'green', 'blue']"
      ]
     },
     "execution_count": 5,
     "metadata": {},
     "output_type": "execute_result"
    }
   ],
   "source": [
    "import re\n",
    "re.findall('red|green|blue', 'pink red, green and blue')"
   ]
  },
  {
   "cell_type": "markdown",
   "id": "752f8e1d",
   "metadata": {},
   "source": [
    "* 匹配算法：贪婪性匹配算法\n",
    "  * Python针对重复限定符，默认采用贪婪性匹配算法\n",
    "  * 贪婪性匹配算法是指重复限定符会导致正则表达式引擎尽可能多地重复前导字符，只有当这种重复引起整个正则表达式匹配失败的情况下，引擎会进行回溯"
   ]
  },
  {
   "cell_type": "code",
   "execution_count": 6,
   "id": "76053908",
   "metadata": {},
   "outputs": [
    {
     "data": {
      "text/plain": [
       "['<book><title>Python</title><author>Dong</author></book>']"
      ]
     },
     "execution_count": 6,
     "metadata": {},
     "output_type": "execute_result"
    }
   ],
   "source": [
    "import re\n",
    "re.findall('<.+>','<book><title>Python</title><author>Dong</author></book>')"
   ]
  },
  {
   "cell_type": "code",
   "execution_count": 7,
   "id": "bf28d243",
   "metadata": {},
   "outputs": [
    {
     "data": {
      "text/plain": [
       "['<book>', '<title>', '</title>', '<author>', '</author>', '</book>']"
      ]
     },
     "execution_count": 7,
     "metadata": {},
     "output_type": "execute_result"
    }
   ],
   "source": [
    "import re\n",
    "re.findall('<.+?>','<book><title>Python</title><author>Dong</author></book>')"
   ]
  },
  {
   "cell_type": "markdown",
   "id": "1c4bb3a9",
   "metadata": {},
   "source": [
    "* 分组符“()”：重复限定符重复前导字符，如果需要重复的符合某种模式的多个字符，则需要将描述该模式的正则表达式放在()内，()表示一个分组（子模式），即()内的内容作为一个整体出现\n",
    "  * re. findall(pattern,string\\[,flags\\]):返回匹配结果列表，若pattern含有子模式，同时返回子模式的列表"
   ]
  },
  {
   "cell_type": "code",
   "execution_count": 248,
   "id": "642fab4c",
   "metadata": {},
   "outputs": [
    {
     "name": "stdout",
     "output_type": "stream",
     "text": [
      "[('0535', '1234567'), ('010', '12345678'), ('025', '87654321')]\n",
      "[('0535', '1234567'), ('010', '12345678'), ('025', '87654321')]\n",
      "[('0535-1234567', '0535', '1234567'), ('010-12345678', '010', '12345678'), ('025-87654321', '025', '87654321')]\n"
     ]
    }
   ],
   "source": [
    "telNumber = '''Suppose my Phone No. is 0535-1234567, yours is 010-12345678, his is 025-87654321.'''\n",
    "pattern = re.compile(r'(\\d{3,4})-(\\d{7,8})')\n",
    "print(pattern.findall(telNumber))\n",
    "\n",
    "print(re.findall(r'(\\d{3,4})-(\\d{7,8})',telNumber))\n",
    "\n",
    "print(re.findall(r'((\\d{3,4})-(\\d{7,8}))',telNumber))"
   ]
  },
  {
   "cell_type": "code",
   "execution_count": 1,
   "id": "421fe98e",
   "metadata": {},
   "outputs": [],
   "source": [
    "# compile的源代码\n",
    "def compile(pattern, flags=0):\n",
    "    \"Compile a regular expression pattern, returning a Pattern object.\"\n",
    "    return _compile(pattern, flags)"
   ]
  },
  {
   "cell_type": "markdown",
   "id": "f4efda51",
   "metadata": {},
   "source": [
    "* 选择符\n",
    "  * 选择符”|”，用于选择匹配多个可能的正则表达式中的一个\n",
    "  * 选择符”|”的优先级最低，如果需要使用()来限制选择符的作用范围"
   ]
  },
  {
   "cell_type": "code",
   "execution_count": 2,
   "id": "a82cfffe",
   "metadata": {},
   "outputs": [
    {
     "name": "stdout",
     "output_type": "stream",
     "text": [
      "['red', 'blue', 'green']\n"
     ]
    }
   ],
   "source": [
    "import re\n",
    "print(re.findall('(red|blue|green)', 'red, blue, green'))"
   ]
  },
  {
   "cell_type": "code",
   "execution_count": 10,
   "id": "61c6aa83",
   "metadata": {},
   "outputs": [
    {
     "data": {
      "text/plain": [
       "[('021-65642222', '021', '65642222')]"
      ]
     },
     "execution_count": 10,
     "metadata": {},
     "output_type": "execute_result"
    }
   ],
   "source": [
    "import re\n",
    "re.findall('((0\\d{2}|\\d{3})-(\\d{8}|\\d{6}))','复旦大学总机021-65642222')"
   ]
  },
  {
   "cell_type": "code",
   "execution_count": 13,
   "id": "b0b3b893",
   "metadata": {},
   "outputs": [
    {
     "data": {
      "text/plain": [
       "[('021', '65642222')]"
      ]
     },
     "execution_count": 13,
     "metadata": {},
     "output_type": "execute_result"
    }
   ],
   "source": [
    "import re\n",
    "re.findall('(0\\d{2}|\\d{3})-(\\d{8}|\\d{6})','复旦大学总机021-65642222')"
   ]
  },
  {
   "cell_type": "markdown",
   "id": "845a9f1c",
   "metadata": {},
   "source": [
    "* re模块的主要方法\n",
    "  * 匹配和搜索\n",
    "  * 分割字符串\n",
    "  * 匹配和替换\n",
    "  * 既可以直接使用re模块的方法进行字符串处理，也可以将模式编译为正则表达式对象，然后使用正则表达式的方法来操作字符串\n",
    "* re模块的主要方法列表\n",
    "  * pattern：匹配模式；string：要匹配的字符串；flag：匹配选项\n",
    "  * findall(pattern,string\\[,flags\\])：列出字符串中模式的所有匹配项；返回匹配结果列表，若pattern含有组(子模式)，同时返回组的列表\n",
    "  * search(pattern,string\\[,flags\\])：在字符串中寻找模式；若匹配，返回Match对象（参见4.2.5），否则返回None\n",
    "  * match(pattern,string\\[,flags\\])：从字符串的开始处匹配模式；若匹配，返回Match对象，否则返回None\n",
    "  * split(pattern,string\\[,maxsplit=0\\])：根据模式匹配项（匹配分割符）分割字符串，返回分割后的字符串列表，maxsplit为分割的最大次数\n",
    "  * sub(pat,repl,string\\[,count=0\\])：将字符串中所有pat的匹配项用repl替换；并返回替换后的字符串，count为替换的最大次数\n",
    "  * subn(pat,repl,string\\[,count=0\\])：将字符串中所有pat的匹配项用repl替换；并返回元组：(替换后的字符串,替换次数），count为替换的最大次数\n",
    "  * escape(string)：将字符串中所有特殊正则表达式字符转义\n",
    "* flag：匹配选项\n",
    "  * re.l（re.IGNORECASE）：忽略大小写\n",
    "  * re.L（re.LOCALE）：\\w \\W \\b \\B \\s \\S与本地字符集有关\n",
    "  * re.M（re.MULTILINE）：多行匹配模式\n",
    "  * re.S（re.DOTALL）：使元字符也匹配换行符\n",
    "  * re.U（re.UNICODE）：匹配Unicode字符\n",
    "  * re.X（re.VERBOSE）：忽略模式中的空格，并可以使用#注释，提高可读性"
   ]
  },
  {
   "cell_type": "code",
   "execution_count": 28,
   "id": "5c76d358",
   "metadata": {},
   "outputs": [
    {
     "name": "stdout",
     "output_type": "stream",
     "text": [
      "['alpha', 'beta', 'gamma', 'delta']\n",
      "['done']\n",
      "None\n",
      "None\n",
      "<re.Match object; span=(0, 2), match='To'>\n",
      "<re.Match object; span=(14, 16), match='to'>\n",
      "['alpha', 'beta', 'gamma', 'delta']\n",
      "['alpha', 'beta', 'gamma. delta']\n",
      "['alpha', 'beta....gamma. delta']\n"
     ]
    }
   ],
   "source": [
    "import re\n",
    "text = 'alpha. beta....gamma. delta'\n",
    "pat = '[a-zA-Z]+'\n",
    "print(re.findall(pat,text)) #pat和text不能反过来\n",
    "print(re.findall('done|quit','done'))\n",
    "\n",
    "print(re.match('done|quit','doe!'))\n",
    "print(re.match('to',\"To be,\\nor not to be\")) # 只会从开头处开始匹配\n",
    "# 除非\n",
    "print(re.match('to', 'To be,\\nor not to be', re.I)) # 忽略大小写\n",
    "\n",
    "print(re.search('to',\"To be,\\nor not to be\"))\n",
    "\n",
    "print(re.split('[\\. ]+',text))\n",
    "print(re.split('[\\. ]+', text, maxsplit=2))\n",
    "print(re.split('[\\. ]+', text, 1)) # 分割一次"
   ]
  },
  {
   "cell_type": "markdown",
   "id": "b29d204f",
   "metadata": {},
   "source": [
    "* 示例：替换、转义"
   ]
  },
  {
   "cell_type": "code",
   "execution_count": 29,
   "id": "afdd1ba9",
   "metadata": {},
   "outputs": [
    {
     "name": "stdout",
     "output_type": "stream",
     "text": [
      "Dear Mr.Dong...\n",
      "good good good\n",
      "http://www\\.python\\.org\n"
     ]
    }
   ],
   "source": [
    "import re\n",
    "pat = '{name}'\n",
    "text = 'Dear {name}...'\n",
    "print(re.sub(pat,'Mr.Dong',text)) #字符串替换\n",
    "\n",
    "s = 'a s d'\n",
    "print(re.sub('a|s|d','good',s)) #字符串替换\n",
    "\n",
    "print(re.escape('http://www.python.org')) #字符串转义"
   ]
  },
  {
   "cell_type": "markdown",
   "id": "ff161039",
   "metadata": {},
   "source": [
    "* 示例：删除字符串中重复的空格"
   ]
  },
  {
   "cell_type": "code",
   "execution_count": 35,
   "id": "5d05b0d5",
   "metadata": {},
   "outputs": [
    {
     "name": "stdout",
     "output_type": "stream",
     "text": [
      "['aaa', 'bb', 'c', 'd', 'e', 'fff', '']\n",
      "['aaa', 'bb', 'c', 'd', 'e', 'fff']\n",
      "aaa bb c d e fff\n",
      "aaa bb c d e fff\n",
      "aaa      bb      c d e   fff    \n",
      "['aaa', 'bb', 'c', 'd', 'e', 'fff']\n",
      "aaa bb c d e fff\n"
     ]
    }
   ],
   "source": [
    "import re\n",
    "s='aaa      bb      c d e   fff    '\n",
    "print(re.split('[\\s]+',s)) # \\s匹配任何空白字符\n",
    "\n",
    "print(re.split('[\\s]+',s.strip())) # .strip()删除某端重复字符\n",
    "\n",
    "print(' '.join(re.split('[\\s]+',s.strip())))\n",
    "\n",
    "print(re.sub('\\s+',' ',s.strip()))\n",
    "\n",
    "print(s)\n",
    "\n",
    "print(s.split())     #也可以不使用正则表达式\n",
    "\n",
    "print(' '.join(s.split()))"
   ]
  },
  {
   "cell_type": "markdown",
   "id": "25293578",
   "metadata": {},
   "source": [
    "* 示例：使用以\\开头的元字符"
   ]
  },
  {
   "cell_type": "code",
   "execution_count": 36,
   "id": "567d10e6",
   "metadata": {},
   "outputs": [
    {
     "name": "stdout",
     "output_type": "stream",
     "text": [
      "['and']\n",
      "['ong', 'ology']\n",
      "['ShanDong', 'Institute', 'of', 'Business', 'and', 'Technology']\n",
      "['ShanDong', 'Institute', 'of', 'Business', 'and', 'Technology']\n",
      "['2.7.8', '3.4.2']\n",
      "['ShanDong', 'Institute', 'of', 'Business', 'and', 'Technology']\n"
     ]
    }
   ],
   "source": [
    "import re\n",
    "example = 'ShanDong Institute of Business and Technology'\n",
    "print(re.findall('\\\\ba.+?\\\\b',example)) # 以a开头的完整单词\n",
    "\n",
    "print(re.findall('\\\\Bo.+?\\\\b',example)) # 不以o开头且含有o字母的单词剩余部分\n",
    "\n",
    "print(re.findall('\\\\b\\w.+?\\\\b',example)) # 所有单词\n",
    "\n",
    "print(re.findall(r'\\b\\w.+?\\b',example)) # 使用原始字符串，减少需要输入的符号数量\n",
    "\n",
    "print(re.findall('\\d\\.\\d\\.\\d','Python 2.7.8,Python 3.4.2')) # 查找并返回x.x.x的数字形式\n",
    " \n",
    "print(re.split('\\s',example))# 使用任何空白字符分割字符串"
   ]
  },
  {
   "cell_type": "markdown",
   "id": "25f0c917",
   "metadata": {},
   "source": [
    "#### <b style=\"color: red;\">4.2.4 使用正则表达式对象</b>\n",
    "* 使用re模块的compile()方法将正则表达式编译生成正则表达式对象，然后再使用正则表达式对象提供的方法进行字符串处理。\n",
    "  * regex=re.compile(pattern\\[,flags\\]) #编译生成正则表达式\n",
    "* 使用编译后的正则表达式对象可以提高字符串处理速度\n",
    "* regex.match(string\\[, pos\\[, endpos\\]\\])：在字符串开头或指定位置进行搜索，模式必须出现在字符串开头或指定位置；若匹配，返回Match对象，否则返回None\n",
    "* regex.search(string\\[, pos\\[, endpos\\]\\])：在整个字符串中进行搜索；若匹配，返回Match对象，否则返回None\n",
    "* regex.findall(string\\[, pos\\[, endpos\\]\\])：在字符串中查找所有符合正则表达式的字符串列表；返回匹配结果列表，若pattern含有组，同时返回组的列表\n",
    "* regex.sub(repl,string\\[,count=0\\])：将字符串中所有pattern的匹配项用repl替换；并返回替换后的字符串，count为替换的最大次数\n",
    "* regex.subn(repl,string\\[,count=0\\])：将字符串中所有pat的匹配项用repl替换，并返回元组：(替换后的字符串,替换次数），count为替换的最大次数\n",
    "* regex.split(string\\[, maxsplit = 0\\])：根据模式匹配项（匹配分割符）分割字符串，返回分割后的字符串列表，maxsplit为分割的最大次数"
   ]
  },
  {
   "cell_type": "code",
   "execution_count": 37,
   "id": "56a25b82",
   "metadata": {},
   "outputs": [
    {
     "name": "stdout",
     "output_type": "stream",
     "text": [
      "['Business']\n",
      "['ShanDong']\n",
      "['and']\n",
      "None\n",
      "<re.Match object; span=(31, 34), match='and'>\n",
      "['ShanDong', 'and']\n"
     ]
    }
   ],
   "source": [
    "import re\n",
    "example = 'ShanDong Institute of Business and Technology'\n",
    "pattern = re.compile(r'\\bB\\w+\\b') # 以B开头的单词\n",
    "print(pattern.findall(example))\n",
    "\n",
    "pattern = re.compile(r'\\w+g\\b') # 以g结尾的单词\n",
    "print(pattern.findall(example))\n",
    "\n",
    "pattern = re.compile(r'\\b[a-zA-Z]{3}\\b') # 查找3个字母长的单词\n",
    "print(pattern.findall(example))\n",
    "\n",
    "print(pattern.match(example)) # match为从字符串开头开始匹配，所以不成功，没有返回值\n",
    "print(pattern.search(example)) # search为在整个字符串中搜索，所以成功\n",
    "\n",
    "pattern = re.compile(r'\\b\\w*a\\w*\\b') # 查找所有含有字母a的单词\n",
    "print(pattern.findall(example))"
   ]
  },
  {
   "cell_type": "markdown",
   "id": "f64fa74b",
   "metadata": {},
   "source": [
    "* 示例：替换"
   ]
  },
  {
   "cell_type": "code",
   "execution_count": 42,
   "id": "bba56010",
   "metadata": {},
   "outputs": [
    {
     "name": "stdout",
     "output_type": "stream",
     "text": [
      "* is * than ugly.\n",
      "Explicit is * than implicit.\n",
      "Simple is * than complex.\n",
      "Complex is * than complicated.\n",
      "Flat is * than nested.\n",
      "Sparse is * than dense.\n",
      "Readability counts.\n",
      "\n",
      "* is better than ugly.\n",
      "Explicit is better than implicit.\n",
      "Simple is better than complex.\n",
      "Complex is better than complicated.\n",
      "Flat is better than nested.\n",
      "Sparse is better than dense.\n",
      "Readability counts.\n",
      "\n",
      "Beautiful is * than ugly.\n",
      "Explicit is better than implicit.\n",
      "Simple is better than complex.\n",
      "Complex is better than complicated.\n",
      "Flat is better than nested.\n",
      "Sparse is better than dense.\n",
      "Readability counts.\n",
      "\n"
     ]
    }
   ],
   "source": [
    "import re\n",
    "example = '''Beautiful is better than ugly.\n",
    "Explicit is better than implicit.\n",
    "Simple is better than complex.\n",
    "Complex is better than complicated.\n",
    "Flat is better than nested.\n",
    "Sparse is better than dense.\n",
    "Readability counts.'''\n",
    "\n",
    "# 1.将以字母“b”和”B”开头的单词替换为“*”\n",
    "pattern = re.compile(r'\\bb\\w*\\b',re.I)\n",
    "print(pattern.sub('*',example))\n",
    "print()\n",
    "\n",
    "# 2.将第一个以字母“b”和”B”开头的单词替换为“*”（只替换一次）\n",
    "pattern = re.compile(r'\\bb\\w*\\b',re.I)\n",
    "print(pattern.sub('*',example,1))\n",
    "print()\n",
    "\n",
    "# 3.将第一个以字母“b”开头的单词替换为“*”\n",
    "pattern = re.compile(r'\\bb\\w*\\b')\n",
    "print(pattern.sub('*',example,1))\n",
    "print()"
   ]
  },
  {
   "cell_type": "markdown",
   "id": "7da9b887",
   "metadata": {},
   "source": [
    "* 示例：分割字符串"
   ]
  },
  {
   "cell_type": "code",
   "execution_count": 43,
   "id": "b0d7204c",
   "metadata": {},
   "outputs": [
    {
     "name": "stdout",
     "output_type": "stream",
     "text": [
      "['one', 'two', 'three', 'four', 'five', 'six', 'seven', 'eight', 'nine', 'ten']\n",
      "['one', 'two', 'three', 'four', 'file', 'six', 'seven', 'eight', 'nine', 'ten']\n",
      "['one', 'two', 'three', 'four', 'five', 'six', 'seven', 'eight', 'nine', 'ten']\n"
     ]
    }
   ],
   "source": [
    "example = r'one,two,three.four/five\\six?seven[eight]nine|ten'\n",
    "pattern = re.compile(r'[,./\\\\?[\\]\\|]') # 指定多个可能分割符\n",
    "print(pattern.split(example))\n",
    "\n",
    "example = r'one1two2three3four4file5six6seven7eight8nine9ten'\n",
    "pattern = re.compile(r'\\d+') # 使用数字作分割符\n",
    "print(pattern.split(example))\n",
    "\n",
    "example = r'one two    three  four,five.six.seven,eight,nine9ten'\n",
    "pattern = re.compile(r'[\\s,.\\d]+') # 允许分隔符重复\n",
    "print(pattern.split(example))"
   ]
  },
  {
   "cell_type": "markdown",
   "id": "72eaaa58",
   "metadata": {},
   "source": [
    "#### 4.2.5 子模式与match对象\n",
    "* 使用()表示一个子模式，即()内的内容作为一个整体出现\n",
    "  * 例如’(red)+’可以匹配’redred’、’redredred‘等多个重复’red’的情况\n",
    "* re.findall(pattern,string\\[,flags\\])\n",
    "  * 返回匹配结果列表，若pattern含有组(子模式)，同时返回组的列表"
   ]
  },
  {
   "cell_type": "code",
   "execution_count": 44,
   "id": "ee87c680",
   "metadata": {},
   "outputs": [
    {
     "name": "stdout",
     "output_type": "stream",
     "text": [
      "[('0535', '1234567'), ('010', '12345678'), ('025', '87654321')]\n",
      "[('0535', '1234567'), ('010', '12345678'), ('025', '87654321')]\n",
      "[('0535-1234567', '0535', '1234567'), ('010-12345678', '010', '12345678'), ('025-87654321', '025', '87654321')]\n"
     ]
    }
   ],
   "source": [
    "telNumber = '''Suppose my Phone No. is 0535-1234567,\n",
    "yours is 010-12345678, his is 025-87654321.'''\n",
    "pattern = re.compile(r'(\\d{3,4})-(\\d{7,8})')\n",
    "print(pattern.findall(telNumber))\n",
    "\n",
    "print(re.findall(r'(\\d{3,4})-(\\d{7,8})',telNumber))\n",
    "\n",
    "print(re.findall(r'((\\d{3,4})-(\\d{7,8}))',telNumber))"
   ]
  },
  {
   "cell_type": "markdown",
   "id": "6852c642",
   "metadata": {},
   "source": [
    "* search和match，返回的结果为匹配对象（Match object），使用Match对象的方法，可以进行匹配结果的处理，包括对子模式()匹配的处理"
   ]
  },
  {
   "cell_type": "code",
   "execution_count": 54,
   "id": "24338309",
   "metadata": {},
   "outputs": [
    {
     "name": "stdout",
     "output_type": "stream",
     "text": [
      "www.python.org\n",
      "www.python.org\n",
      "python\n",
      "4\n",
      "10\n",
      "(4, 10)\n"
     ]
    }
   ],
   "source": [
    "m=re.match(r'www\\.(.*)\\..{3}','www.python.orgggg')\n",
    "print(m.group()) # 返回匹配的1个或多个子模式内容\n",
    "\n",
    "print(m.group(0))\n",
    "\n",
    "print(m.group(1))\n",
    "\n",
    "print(m.start(1)) # 返回指定子模式内容的起始位置\n",
    "\n",
    "print(m.end(1)) # 返回指定子模式内容的结束位置的前一个位置\n",
    "\n",
    "print(m.span(1)) # 返回指定子模式内容的起始位置和结束位置的前一个位置\n",
    "\n",
    "# group() 返回一个包含匹配的所子模式内容的元组\n",
    "# groupdict() 返回包含匹配的所有命名子模式内容的字典"
   ]
  },
  {
   "cell_type": "markdown",
   "id": "b621cc5e",
   "metadata": {},
   "source": [
    "* 示例：phone.py"
   ]
  },
  {
   "cell_type": "code",
   "execution_count": 65,
   "id": "58de807c",
   "metadata": {},
   "outputs": [
    {
     "name": "stdout",
     "output_type": "stream",
     "text": [
      "------------------------------\n",
      "Success:\n",
      "Searched content: 0535-1234567  Start from: 24 End at: 36  Its span is: (24, 36)\n",
      "Searched content: 0535  Start from: 24 End at: 28  Its span is: (24, 28)\n",
      "Searched content: 1234567  Start from: 29 End at: 36  Its span is: (29, 36)\n",
      "------------------------------\n",
      "Success:\n",
      "Searched content: 010-12345678  Start from: 47 End at: 59  Its span is: (47, 59)\n",
      "Searched content: 010  Start from: 47 End at: 50  Its span is: (47, 50)\n",
      "Searched content: 12345678  Start from: 51 End at: 59  Its span is: (51, 59)\n",
      "------------------------------\n",
      "Success:\n",
      "Searched content: 025-87654321  Start from: 68 End at: 80  Its span is: (68, 80)\n",
      "Searched content: 025  Start from: 68 End at: 71  Its span is: (68, 71)\n",
      "Searched content: 87654321  Start from: 72 End at: 80  Its span is: (72, 80)\n"
     ]
    }
   ],
   "source": [
    "import re\n",
    "telNumber = '''Suppose my Phone No. is 0535-1234567,\n",
    "yours is 010-12345678, his is 025-87654321.'''\n",
    "pattern = re.compile(r'(\\d{3,4})-(\\d{7,8})')\n",
    "index = 0\n",
    "while True:\n",
    "    matchResult = pattern.search(telNumber, index) # index为开始匹配的位置\n",
    "    if not matchResult:\n",
    "        break\n",
    "    print ('-'*30)\n",
    "    print ('Success:')\n",
    "    for i in range(3):\n",
    "        print ('Searched content:', matchResult.group(i),\\\n",
    "        ' Start from:',matchResult.start(i),'End at:',matchResult.end(i),\\\n",
    "          ' Its span is:', matchResult.span(i)) # 记住.group(0)到.group(2)分别代表什么\n",
    "    index = matchResult.end(2) # .end()为结束位置的l"
   ]
  },
  {
   "cell_type": "code",
   "execution_count": 70,
   "id": "7e9ba486",
   "metadata": {},
   "outputs": [
    {
     "name": "stdout",
     "output_type": "stream",
     "text": [
      "12\n"
     ]
    }
   ],
   "source": [
    "import re\n",
    "telNumber = '''1231-1234567.'''\n",
    "pattern = re.compile(r'(\\d{3,4})-(\\d{7,8})')\n",
    "index = 0\n",
    "\n",
    "a = pattern.search(telNumber, index)\n",
    "\n",
    "print(a.end(2))"
   ]
  }
 ],
 "metadata": {
  "kernelspec": {
   "display_name": "Python 3 (ipykernel)",
   "language": "python",
   "name": "python3"
  },
  "language_info": {
   "codemirror_mode": {
    "name": "ipython",
    "version": 3
   },
   "file_extension": ".py",
   "mimetype": "text/x-python",
   "name": "python",
   "nbconvert_exporter": "python",
   "pygments_lexer": "ipython3",
   "version": "3.11.5"
  }
 },
 "nbformat": 4,
 "nbformat_minor": 5
}
